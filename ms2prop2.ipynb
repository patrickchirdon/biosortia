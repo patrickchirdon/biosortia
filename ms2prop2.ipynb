{
 "cells": [
  {
   "cell_type": "code",
   "execution_count": 1,
   "metadata": {},
   "outputs": [],
   "source": [
    "import pandas as pd\n",
    "import matplotlib.pyplot as plt\n",
    "import numpy as np\n"
   ]
  },
  {
   "cell_type": "code",
   "execution_count": 2,
   "metadata": {},
   "outputs": [],
   "source": [
    "from sklearn import linear_model, metrics"
   ]
  },
  {
   "cell_type": "code",
   "execution_count": 919,
   "metadata": {},
   "outputs": [
    {
     "name": "stdout",
     "output_type": "stream",
     "text": [
      "                                                        smiles       mz  \\\n",
      "CC(C)CC1NC(=O)C(C)NC(=O)C(=C)N(C)C(=O)CCC(NC(=O...  289.286377  981.162   \n",
      "NaN                                                 295.545288  981.162   \n",
      "NaN                                                 298.489624  981.162   \n",
      "NaN                                                 317.324951  981.162   \n",
      "NaN                                                 319.655945  981.162   \n",
      "...                                                        ...      ...   \n",
      "NaN                                                 998.175903  786.689   \n",
      "NaN                                                 998.381592  786.689   \n",
      "NaN                                                 998.490723  786.689   \n",
      "NaN                                                 998.799988  786.689   \n",
      "NaN                                                 999.381165  786.689   \n",
      "\n",
      "                                                         mw  alogp   hba  \\\n",
      "CC(C)CC1NC(=O)C(C)NC(=O)C(=C)N(C)C(=O)CCC(NC(=O...  0.17397     14  12.0   \n",
      "NaN                                                 0.17397     14  12.0   \n",
      "NaN                                                 0.17397     14  12.0   \n",
      "NaN                                                 0.17397     14  12.0   \n",
      "NaN                                                 0.17397     14  12.0   \n",
      "...                                                     ...    ...   ...   \n",
      "NaN                                                -3.17780     21  12.0   \n",
      "NaN                                                -3.17780     21  12.0   \n",
      "NaN                                                -3.17780     21  12.0   \n",
      "NaN                                                -3.17780     21  12.0   \n",
      "NaN                                                -3.17780     21  12.0   \n",
      "\n",
      "                                                       hbd  psa  rotb  arom  \\\n",
      "CC(C)CC1NC(=O)C(C)NC(=O)C(=C)N(C)C(=O)CCC(NC(=O...  351.64   14     1     5   \n",
      "NaN                                                 351.64   14     1     5   \n",
      "NaN                                                 351.64   14     1     5   \n",
      "NaN                                                 351.64   14     1     5   \n",
      "NaN                                                 351.64   14     1     5   \n",
      "...                                                    ...  ...   ...   ...   \n",
      "NaN                                                 337.58    9     3     0   \n",
      "NaN                                                 337.58    9     3     0   \n",
      "NaN                                                 337.58    9     3     0   \n",
      "NaN                                                 337.58    9     3     0   \n",
      "NaN                                                 337.58    9     3     0   \n",
      "\n",
      "                                                      alerts   qed  fCSP3  \\\n",
      "CC(C)CC1NC(=O)C(C)NC(=O)C(=C)N(C)C(=O)CCC(NC(=O...  0.038917  0.54  -0.06   \n",
      "NaN                                                 0.038917  0.54  -0.06   \n",
      "NaN                                                 0.038917  0.54  -0.06   \n",
      "NaN                                                 0.038917  0.54  -0.06   \n",
      "NaN                                                 0.038917  0.54  -0.06   \n",
      "...                                                      ...   ...    ...   \n",
      "NaN                                                 0.101712  0.56  -2.20   \n",
      "NaN                                                 0.101712  0.56  -2.20   \n",
      "NaN                                                 0.101712  0.56  -2.20   \n",
      "NaN                                                 0.101712  0.56  -2.20   \n",
      "NaN                                                 0.101712  0.56  -2.20   \n",
      "\n",
      "                                                       logPow  solubility  \\\n",
      "CC(C)CC1NC(=O)C(C)NC(=O)C(=C)N(C)C(=O)CCC(NC(=O...  4.44e-04         0.11   \n",
      "NaN                                                 4.44e-04         0.11   \n",
      "NaN                                                 4.44e-04         0.11   \n",
      "NaN                                                 4.44e-04         0.11   \n",
      "NaN                                                 4.44e-04         0.11   \n",
      "...                                                       ...         ...   \n",
      "NaN                                                     0.726        0.17   \n",
      "NaN                                                     0.726        0.17   \n",
      "NaN                                                     0.726        0.17   \n",
      "NaN                                                     0.726        0.17   \n",
      "NaN                                                     0.726        0.17   \n",
      "\n",
      "                                                    bioavailability  \n",
      "CC(C)CC1NC(=O)C(C)NC(=O)C(=C)N(C)C(=O)CCC(NC(=O...              NaN  \n",
      "NaN                                                             NaN  \n",
      "NaN                                                             NaN  \n",
      "NaN                                                             NaN  \n",
      "NaN                                                             NaN  \n",
      "...                                                             ...  \n",
      "NaN                                                             NaN  \n",
      "NaN                                                             NaN  \n",
      "NaN                                                             NaN  \n",
      "NaN                                                             NaN  \n",
      "NaN                                                             NaN  \n",
      "\n",
      "[997818 rows x 15 columns]\n",
      "0    0\n",
      "dtype: int64\n",
      "0    631\n",
      "dtype: int64\n"
     ]
    },
    {
     "data": {
      "image/png": "[encoded data removed]",
      "text/plain": [
       "<Figure size 1440x504 with 1 Axes>"
      ]
     },
     "metadata": {},
     "output_type": "display_data"
    },
    {
     "name": "stdout",
     "output_type": "stream",
     "text": [
      "997818 997818\n",
      "[ 89746  89747  89748 ... 874932 874933 874934]\n",
      "4027\n",
      "993791 993791\n"
     ]
    },
    {
     "data": {
      "image/png": "[encoded data removed]",
      "text/plain": [
       "<Figure size 1440x504 with 1 Axes>"
      ]
     },
     "metadata": {},
     "output_type": "display_data"
    }
   ],
   "source": [
    "import decimal\n",
    "from decimal import Decimal\n",
    "import math\n",
    "import random\n",
    "import numpy as np\n",
    "import matplotlib.pyplot as plt\n",
    "from sklearn import linear_model\n",
    "from sklearn.metrics import mean_squared_error, r2_score\n",
    "from sklearn.kernel_ridge import KernelRidge\n",
    "import pandas as pd\n",
    "from sklearn.preprocessing import LabelEncoder\n",
    "from sklearn.model_selection import train_test_split\n",
    "from sklearn import preprocessing\n",
    "np.set_printoptions(suppress=True)\n",
    "\n",
    "from numpy.random import seed\n",
    "from numpy.random import randn\n",
    "from numpy import mean\n",
    "from numpy import std\n",
    "mydf=pd.read_csv('GNPStrainqed',  sep='\\t')\n",
    "mydf.columns=['smiles','mz','mw','alogp','hba','hbd', 'psa', 'rotb', 'arom', 'alerts', 'qed', 'fCSP3', 'logPow', 'solubility', 'bioavailability']\n",
    "\n",
    "#mydf.columns=['molecule number', 'FDA approved name', 'mz', 'smiles', 'mw', 'alogp', 'hba', 'hbd', 'psa', 'rotb', 'arom', 'alerts', 'qed', 'fraction sp3 hybridized carbons']\n",
    "\n",
    "# Initialize lists and set random seed\n",
    "print(mydf)\n",
    "list_x = mydf['mz']\n",
    "\n",
    "list_x=list_x.astype(float)\n",
    "list_x=list_x.to_numpy().reshape(-1,1)\n",
    "list_y = mydf['alogp'].to_numpy().reshape(-1,1)\n",
    "list_x_pred = []\n",
    "list_y_real = []\n",
    "\n",
    "np.set_printoptions(precision = 3, suppress = True)\n",
    "\n",
    "list_y = np.nan_to_num(list_y)\n",
    "\n",
    "list_x = np.nan_to_num(list_x)\n",
    "\n",
    "        \n",
    "list_y=pd.DataFrame(list_y)\n",
    "list_x=pd.DataFrame(list_x)\n",
    "list_x.to_csv()\n",
    "list_y.to_csv('myyvalues.csv')\n",
    "print(list_y.min())\n",
    "print(list_y.max())\n",
    "list_ymean=list_y.mean()\n",
    "list_ystd=list_y.std()\n",
    "\n",
    "import matplotlib.pyplot as plt\n",
    "plt.scatter(list_x, list_y, c =\"blue\")\n",
    " \n",
    "# To show the plot\n",
    "plt.show()\n",
    "\n",
    "\n",
    "from scipy import stats\n",
    "z = np.abs(stats.zscore(list_y)) \n",
    "threshold = 3\n",
    " \n",
    "# Position of the outlier\n",
    "outliers=np.where(z > 3)\n",
    "print(len(list_x), len(list_y))\n",
    "print(outliers[0])\n",
    "print(len(outliers[0]))\n",
    "\n",
    "list_x.drop(outliers[0],inplace = True)\n",
    "\n",
    "\n",
    "list_y.drop(outliers[0],inplace = True)\n",
    "print(len(list_x), len(list_y))\n",
    "\n",
    "plt.scatter(list_x, list_y, c =\"blue\")\n",
    " \n",
    "# To show the plot\n",
    "plt.show()"
   ]
  },
  {
   "cell_type": "code",
   "execution_count": 920,
   "metadata": {
    "scrolled": true
   },
   "outputs": [],
   "source": [
    "import numpy as np\n",
    "from sklearn.kernel_ridge import KernelRidge\n",
    "from sklearn.model_selection import GridSearchCV\n",
    "import matplotlib.pyplot as plt\n"
   ]
  },
  {
   "cell_type": "code",
   "execution_count": 921,
   "metadata": {},
   "outputs": [
    {
     "name": "stdout",
     "output_type": "stream",
     "text": [
      "Best gamma from CV:  {'gamma': 0.0}\n",
      "Length scale = inf\n"
     ]
    },
    {
     "data": {
      "text/plain": [
       "-0.019197050110421277"
      ]
     },
     "execution_count": 921,
     "metadata": {},
     "output_type": "execute_result"
    }
   ],
   "source": [
    "# ####################\n",
    "# Fit regression model\n",
    "train_size = 100 # Change here to try different amounts of data\n",
    "krr = GridSearchCV(KernelRidge(kernel='rbf',alpha=100),\n",
    "                  param_grid={\"gamma\": np.logspace(-400, 400, 2)})\n",
    "\n",
    "krr.fit(list_x[:train_size], list_y[:train_size])\n",
    "\n",
    "print('Best gamma from CV: ',krr.best_params_)\n",
    "print('Length scale =',1/np.sqrt(2*krr.best_params_['gamma']))\n",
    "krr.score(list_x, list_y )"
   ]
  },
  {
   "cell_type": "code",
   "execution_count": 922,
   "metadata": {},
   "outputs": [
    {
     "name": "stdout",
     "output_type": "stream",
     "text": [
      "(0, 0)\n"
     ]
    },
    {
     "data": {
      "image/png": "[encoded data removed]",
      "text/plain": [
       "<Figure size 1440x504 with 1 Axes>"
      ]
     },
     "metadata": {},
     "output_type": "display_data"
    }
   ],
   "source": [
    "from sklearn.datasets import make_regression\n",
    "from matplotlib import pyplot as plt\n",
    "import numpy as np\n",
    "from sklearn.linear_model import Ridge\n",
    "from sklearn.preprocessing import MinMaxScaler\n",
    "from sklearn.neighbors import LocalOutlierFactor\n",
    "\n",
    "X_plot = np.linspace(0, 10, 1000)[:, None]\n",
    "#scaler = preprocessing.StandardScaler()\n",
    "scaler = MinMaxScaler()\n",
    "def minmax(val_list):\n",
    "    min_val = min(val_list)\n",
    "    max_val = max(val_list)\n",
    "\n",
    "    return (min_val, max_val)\n",
    "print(minmax(list_y))\n",
    "list_x = scaler.fit_transform(list_x)\n",
    "list_y = scaler.fit_transform(list_y)\n",
    "import matplotlib.pyplot as plt\n",
    "plt.scatter(list_x, list_y, c =\"blue\")\n",
    " \n",
    "# To show the plot\n",
    "plt.show()\n",
    "\n"
   ]
  },
  {
   "cell_type": "code",
   "execution_count": 923,
   "metadata": {},
   "outputs": [],
   "source": [
    "xtrain, xtest, ytrain, ytest=train_test_split(list_x, list_y, test_size=0.15)"
   ]
  },
  {
   "cell_type": "code",
   "execution_count": 924,
   "metadata": {},
   "outputs": [],
   "source": [
    "import numpy as np\n",
    "import pandas as pd\n",
    "\n",
    "# For chapter 4\n",
    "from sklearn.model_selection import train_test_split\n",
    "from sklearn.preprocessing import StandardScaler\n",
    "\n",
    "# For chapter 5\n",
    "from sklearn.linear_model import SGDClassifier\n",
    "import matplotlib.pyplot as plt\n",
    "import time\n",
    "\n",
    "# For chapter 6\n",
    "from sklearn.metrics import accuracy_score\n",
    "from sklearn.model_selection import GridSearchCV\n",
    "\n"
   ]
  },
  {
   "cell_type": "code",
   "execution_count": 925,
   "metadata": {},
   "outputs": [
    {
     "data": {
      "text/plain": [
       "array([[0.071],\n",
       "       [0.095],\n",
       "       [0.095],\n",
       "       ...,\n",
       "       [0.071],\n",
       "       [0.071],\n",
       "       [0.238]])"
      ]
     },
     "execution_count": 925,
     "metadata": {},
     "output_type": "execute_result"
    }
   ],
   "source": [
    "scaler = StandardScaler()\n",
    "\n",
    "scaler.fit(xtrain)\n",
    "xtrain = scaler.transform(xtrain)\n",
    "xtest = scaler.transform(xtest)\n",
    "\n",
    "trainX, testX, trainY, testY = train_test_split(xtrain, ytrain, test_size = 0.2)\n",
    "testY"
   ]
  },
  {
   "cell_type": "code",
   "execution_count": 926,
   "metadata": {},
   "outputs": [],
   "source": [
    "scaler = StandardScaler()\n",
    "scaler.fit(trainX)\n",
    "trainX = scaler.transform(trainX)\n",
    "testX = scaler.transform(testX)\n"
   ]
  },
  {
   "cell_type": "code",
   "execution_count": 927,
   "metadata": {},
   "outputs": [],
   "source": [
    "import numpy as np # linear algebra\n",
    "import pandas as pd # data processing, CSV file I/O (e.g. pd.read_csv)\n",
    "\n",
    "from sklearn.linear_model import SGDRegressor\n",
    "from sklearn.model_selection import train_test_split, GridSearchCV\n",
    "from sklearn.preprocessing import StandardScaler\n"
   ]
  },
  {
   "cell_type": "code",
   "execution_count": 928,
   "metadata": {},
   "outputs": [],
   "source": [
    "import numpy as np\n",
    "import pandas as pd\n",
    "\n",
    "import matplotlib.pyplot as plt\n",
    "import seaborn as sns\n",
    "\n",
    "from sklearn.model_selection import train_test_split, cross_val_score\n",
    "from sklearn.preprocessing import StandardScaler\n",
    "\n",
    "from sklearn import linear_model\n",
    "from sklearn.model_selection import GridSearchCV, RandomizedSearchCV\n",
    "\n",
    "import warnings"
   ]
  },
  {
   "cell_type": "code",
   "execution_count": 929,
   "metadata": {},
   "outputs": [],
   "source": [
    "warnings.filterwarnings('ignore')"
   ]
  },
  {
   "cell_type": "code",
   "execution_count": 930,
   "metadata": {},
   "outputs": [],
   "source": [
    "\n",
    "\n",
    "%matplotlib inline\n",
    "\n",
    "plt.rcParams['figure.figsize'] = [20.0, 7.0]\n",
    "plt.rcParams.update({'font.size': 22,})\n",
    "\n",
    "sns.set_palette('viridis')\n",
    "sns.set_style('white')\n",
    "sns.set_context('talk', font_scale=0.8)\n",
    " \n"
   ]
  },
  {
   "cell_type": "code",
   "execution_count": 931,
   "metadata": {},
   "outputs": [
    {
     "name": "stdout",
     "output_type": "stream",
     "text": [
      "0.6892555019980291\n",
      "0.689573248019163\n"
     ]
    }
   ],
   "source": [
    "X_plot = np.linspace(0, 10, 1000)[:, None]\n",
    "scaler = preprocessing.StandardScaler()\n",
    "list_x = scaler.fit_transform(list_x)\n",
    "list_y = np.nan_to_num(list_y)\n",
    "\n",
    "list_x = np.nan_to_num(list_x)\n",
    "\n",
    "list_y=np.asarray(list_y)\n",
    "\n",
    "list_y=list_y.reshape(1, -1)\n",
    "list_y = scaler.fit_transform(list_y)\n",
    "list_y\n",
    "n_samples, n_features = 1, 5\n",
    "#krr = KernelRidge(alpha=5)\n",
    "#krr.fit(list_x, list_y)\n",
    "#predy=krr.predict(list_x)\n",
    "#krr.score(list_y, predy )\n",
    "ridge = linear_model.Ridge(alpha=4)\n",
    "lasso = linear_model.Lasso(alpha=.1)\n",
    "\n",
    "# ####################\n",
    "# Fit regression model\n",
    "from sklearn.linear_model import LassoCV\n",
    "\n",
    "#Lasso Cross validation\n",
    "lasso_cv = LassoCV(alphas = [0.0001, 0.001,0.01, 0.1, 1, 10], random_state=0).fit(trainX, trainY)\n",
    "\n",
    "\n",
    "#score\n",
    "print(lasso_cv.score(trainX, trainY))\n",
    "print(lasso_cv.score(testX, testY))\n",
    "\n",
    "\n",
    "elastic = linear_model.ElasticNet(alpha=10, l1_ratio=.5, random_state=0, normalize=True)\n",
    "lasso_lars = linear_model.LassoLars(alpha=.1)\n",
    "bayesian_ridge = linear_model.BayesianRidge()\n",
    "logistic = linear_model.LogisticRegression(solver='liblinear')\n",
    "sgd = linear_model.SGDRegressor()\n",
    "\n",
    "models = [ridge, lasso, elastic, lasso_lars, bayesian_ridge, logistic, sgd]\n",
    "\n"
   ]
  },
  {
   "cell_type": "code",
   "execution_count": 932,
   "metadata": {},
   "outputs": [
    {
     "data": {
      "text/plain": [
       "SGDRegressor()"
      ]
     },
     "execution_count": 932,
     "metadata": {},
     "output_type": "execute_result"
    }
   ],
   "source": [
    "trainX.reshape(1, -1)\n",
    "\n",
    "ridge.fit(trainX, trainY, sample_weight=2)\n",
    "lasso.fit(trainX, trainY)\n",
    "elastic.fit(trainX, trainY)\n",
    "lasso_lars.fit(trainX, trainY)\n",
    "bayesian_ridge.fit(trainX, trainY, sample_weight=.02)\n",
    "sgd.fit(trainX,trainY)"
   ]
  },
  {
   "cell_type": "code",
   "execution_count": 933,
   "metadata": {},
   "outputs": [],
   "source": [
    "ypredridge=ridge.predict(testX)\n",
    "ypredlasso=lasso.predict(testX)\n",
    "ypredelastic=elastic.predict(testX)\n",
    "ypredlassolars = lasso_lars.predict(testX)\n",
    "ypredbayesian=bayesian_ridge.predict(testX)\n",
    "sgdpredict=sgd.predict(testX)"
   ]
  },
  {
   "cell_type": "code",
   "execution_count": 934,
   "metadata": {},
   "outputs": [
    {
     "name": "stdout",
     "output_type": "stream",
     "text": [
      "R-squared: 0.1854307100670567\n"
     ]
    }
   ],
   "source": [
    "testY[~np.isfinite(testY)] = 0\n",
    "ypredridge[~np.isfinite(ypredridge)] = 0\n",
    "\n",
    "\n",
    "sgdscore = sgd.score(testY, ypredridge)\n",
    "print(\"R-squared:\", sgdscore)"
   ]
  },
  {
   "cell_type": "code",
   "execution_count": 935,
   "metadata": {},
   "outputs": [
    {
     "name": "stdout",
     "output_type": "stream",
     "text": [
      "R-squared: 0.19058971345247022\n"
     ]
    }
   ],
   "source": [
    "\n",
    "score = bayesian_ridge.score(testY, ypredridge)\n",
    "print(\"R-squared:\", score)"
   ]
  },
  {
   "cell_type": "code",
   "execution_count": 936,
   "metadata": {},
   "outputs": [
    {
     "data": {
      "text/plain": [
       "1.0"
      ]
     },
     "execution_count": 936,
     "metadata": {},
     "output_type": "execute_result"
    }
   ],
   "source": [
    "lasso_lars.score(testY, ypredlassolars)\n",
    "\n"
   ]
  },
  {
   "cell_type": "code",
   "execution_count": 937,
   "metadata": {},
   "outputs": [
    {
     "data": {
      "text/plain": [
       "1.0"
      ]
     },
     "execution_count": 937,
     "metadata": {},
     "output_type": "execute_result"
    }
   ],
   "source": [
    "elastic.score(testY, ypredelastic)"
   ]
  },
  {
   "cell_type": "code",
   "execution_count": 938,
   "metadata": {},
   "outputs": [
    {
     "data": {
      "text/plain": [
       "0.1905894081683137"
      ]
     },
     "execution_count": 938,
     "metadata": {},
     "output_type": "execute_result"
    }
   ],
   "source": [
    "lasso.score(testY, ypredlasso)\n",
    "\n"
   ]
  },
  {
   "cell_type": "code",
   "execution_count": 939,
   "metadata": {},
   "outputs": [
    {
     "data": {
      "text/plain": [
       "0.1905894081683136"
      ]
     },
     "execution_count": 939,
     "metadata": {},
     "output_type": "execute_result"
    }
   ],
   "source": [
    "ridge.score(testY, ypredridge)"
   ]
  },
  {
   "cell_type": "code",
   "execution_count": 940,
   "metadata": {},
   "outputs": [
    {
     "data": {
      "text/plain": [
       "array([[-0.651],\n",
       "       [-0.201],\n",
       "       [ 1.731],\n",
       "       ...,\n",
       "       [-0.651],\n",
       "       [-0.201],\n",
       "       [-0.525]])"
      ]
     },
     "execution_count": 940,
     "metadata": {},
     "output_type": "execute_result"
    }
   ],
   "source": [
    "trainX"
   ]
  },
  {
   "cell_type": "code",
   "execution_count": 941,
   "metadata": {},
   "outputs": [
    {
     "data": {
      "text/plain": [
       "array([[0.071],\n",
       "       [0.095],\n",
       "       [0.095],\n",
       "       ...,\n",
       "       [0.071],\n",
       "       [0.071],\n",
       "       [0.238]])"
      ]
     },
     "execution_count": 941,
     "metadata": {},
     "output_type": "execute_result"
    }
   ],
   "source": [
    "testY"
   ]
  },
  {
   "cell_type": "code",
   "execution_count": 942,
   "metadata": {},
   "outputs": [
    {
     "name": "stdout",
     "output_type": "stream",
     "text": [
      "Predicted values  [0.177 0.172 0.172 0.16  0.208 0.183 0.173 0.183 0.171 0.177]\n"
     ]
    }
   ],
   "source": [
    "ypred=lasso.predict(testX)\n",
    "\n",
    "#z = (x - u) / s\n",
    "#where u is mean and s is standard dev\n",
    "\n",
    "\n",
    "print( \"Predicted values \", np.round( ypred[:10], 10 ) ) \n",
    "\n"
   ]
  },
  {
   "cell_type": "code",
   "execution_count": 139,
   "metadata": {},
   "outputs": [
    {
     "name": "stdout",
     "output_type": "stream",
     "text": [
      "          Actual  Predicted\n",
      "0       0.040816   0.148262\n",
      "1       0.489796   0.231307\n",
      "2       0.000000   0.118360\n",
      "3       0.326531   0.170748\n",
      "4       0.102041   0.169852\n",
      "...          ...        ...\n",
      "169047  0.061224   0.169274\n",
      "169048  0.265306   0.214034\n",
      "169049  0.020408   0.146579\n",
      "169050  0.775510   0.307602\n",
      "169051  0.020408   0.141901\n",
      "\n",
      "[169052 rows x 2 columns]\n"
     ]
    }
   ],
   "source": [
    "df_preds = pd.DataFrame({'Actual': testY.squeeze(), 'Predicted': ypred.squeeze()})\n",
    "print(df_preds)"
   ]
  },
  {
   "cell_type": "code",
   "execution_count": 140,
   "metadata": {},
   "outputs": [
    {
     "name": "stdout",
     "output_type": "stream",
     "text": [
      "Mean absolute error: 0.13077650115176\n",
      "Mean squared error: 0.02812955444511\n",
      "Root mean squared error: 0.16772\n"
     ]
    }
   ],
   "source": [
    "from sklearn.metrics import mean_absolute_error, mean_squared_error\n",
    "import numpy as np\n",
    "mae = mean_absolute_error(testY, ypred)\n",
    "mse = mean_squared_error(testY, ypred)\n",
    "rmse = np.sqrt(mse)\n",
    "print(f'Mean absolute error: {mae:.14f}')\n",
    "print(f'Mean squared error: {mse:.14f}')\n",
    "print(f'Root mean squared error: {rmse:.5f}')"
   ]
  },
  {
   "cell_type": "code",
   "execution_count": 1649,
   "metadata": {},
   "outputs": [
    {
     "ename": "FileNotFoundError",
     "evalue": "[Errno 2] No such file or directory: 'Triadimefron'",
     "output_type": "error",
     "traceback": [
      "\u001b[0;31m---------------------------------------------------------------------------\u001b[0m",
      "\u001b[0;31mFileNotFoundError\u001b[0m                         Traceback (most recent call last)",
      "\u001b[0;32m<ipython-input-1649-93cc911e7215>\u001b[0m in \u001b[0;36m<module>\u001b[0;34m\u001b[0m\n\u001b[0;32m----> 1\u001b[0;31m \u001b[0mmydf\u001b[0m\u001b[0;34m=\u001b[0m\u001b[0mpd\u001b[0m\u001b[0;34m.\u001b[0m\u001b[0mread_csv\u001b[0m\u001b[0;34m(\u001b[0m\u001b[0;34m'Triadimefron'\u001b[0m\u001b[0;34m,\u001b[0m \u001b[0msep\u001b[0m\u001b[0;34m=\u001b[0m\u001b[0;34m'\\t'\u001b[0m\u001b[0;34m)\u001b[0m\u001b[0;34m\u001b[0m\u001b[0;34m\u001b[0m\u001b[0m\n\u001b[0m\u001b[1;32m      2\u001b[0m \u001b[0mmydf\u001b[0m\u001b[0;34m.\u001b[0m\u001b[0mcolumns\u001b[0m\u001b[0;34m=\u001b[0m\u001b[0;34m[\u001b[0m\u001b[0;34m'mz'\u001b[0m\u001b[0;34m,\u001b[0m\u001b[0;34m'logp'\u001b[0m\u001b[0;34m,\u001b[0m\u001b[0;34m'psa'\u001b[0m\u001b[0;34m]\u001b[0m\u001b[0;34m\u001b[0m\u001b[0;34m\u001b[0m\u001b[0m\n\u001b[1;32m      3\u001b[0m \u001b[0;31m#mydf.columns=['molecule number', 'FDA approved name', 'mz', 'smiles', 'mw', 'alogp', 'hba', 'hbd', 'psa', 'rotb', 'arom', 'alerts', 'qed', 'fraction sp3 hybridized carbons']\u001b[0m\u001b[0;34m\u001b[0m\u001b[0;34m\u001b[0m\u001b[0;34m\u001b[0m\u001b[0m\n\u001b[1;32m      4\u001b[0m \u001b[0;34m\u001b[0m\u001b[0m\n\u001b[1;32m      5\u001b[0m \u001b[0;31m# Initialize lists and set random seed\u001b[0m\u001b[0;34m\u001b[0m\u001b[0;34m\u001b[0m\u001b[0;34m\u001b[0m\u001b[0m\n",
      "\u001b[0;32m/opt/anaconda3/lib/python3.7/site-packages/pandas/util/_decorators.py\u001b[0m in \u001b[0;36mwrapper\u001b[0;34m(*args, **kwargs)\u001b[0m\n\u001b[1;32m    309\u001b[0m                     \u001b[0mstacklevel\u001b[0m\u001b[0;34m=\u001b[0m\u001b[0mstacklevel\u001b[0m\u001b[0;34m,\u001b[0m\u001b[0;34m\u001b[0m\u001b[0;34m\u001b[0m\u001b[0m\n\u001b[1;32m    310\u001b[0m                 )\n\u001b[0;32m--> 311\u001b[0;31m             \u001b[0;32mreturn\u001b[0m \u001b[0mfunc\u001b[0m\u001b[0;34m(\u001b[0m\u001b[0;34m*\u001b[0m\u001b[0margs\u001b[0m\u001b[0;34m,\u001b[0m \u001b[0;34m**\u001b[0m\u001b[0mkwargs\u001b[0m\u001b[0;34m)\u001b[0m\u001b[0;34m\u001b[0m\u001b[0;34m\u001b[0m\u001b[0m\n\u001b[0m\u001b[1;32m    312\u001b[0m \u001b[0;34m\u001b[0m\u001b[0m\n\u001b[1;32m    313\u001b[0m         \u001b[0;32mreturn\u001b[0m \u001b[0mwrapper\u001b[0m\u001b[0;34m\u001b[0m\u001b[0;34m\u001b[0m\u001b[0m\n",
      "\u001b[0;32m/opt/anaconda3/lib/python3.7/site-packages/pandas/io/parsers/readers.py\u001b[0m in \u001b[0;36mread_csv\u001b[0;34m(filepath_or_buffer, sep, delimiter, header, names, index_col, usecols, squeeze, prefix, mangle_dupe_cols, dtype, engine, converters, true_values, false_values, skipinitialspace, skiprows, skipfooter, nrows, na_values, keep_default_na, na_filter, verbose, skip_blank_lines, parse_dates, infer_datetime_format, keep_date_col, date_parser, dayfirst, cache_dates, iterator, chunksize, compression, thousands, decimal, lineterminator, quotechar, quoting, doublequote, escapechar, comment, encoding, encoding_errors, dialect, error_bad_lines, warn_bad_lines, on_bad_lines, delim_whitespace, low_memory, memory_map, float_precision, storage_options)\u001b[0m\n\u001b[1;32m    584\u001b[0m     \u001b[0mkwds\u001b[0m\u001b[0;34m.\u001b[0m\u001b[0mupdate\u001b[0m\u001b[0;34m(\u001b[0m\u001b[0mkwds_defaults\u001b[0m\u001b[0;34m)\u001b[0m\u001b[0;34m\u001b[0m\u001b[0;34m\u001b[0m\u001b[0m\n\u001b[1;32m    585\u001b[0m \u001b[0;34m\u001b[0m\u001b[0m\n\u001b[0;32m--> 586\u001b[0;31m     \u001b[0;32mreturn\u001b[0m \u001b[0m_read\u001b[0m\u001b[0;34m(\u001b[0m\u001b[0mfilepath_or_buffer\u001b[0m\u001b[0;34m,\u001b[0m \u001b[0mkwds\u001b[0m\u001b[0;34m)\u001b[0m\u001b[0;34m\u001b[0m\u001b[0;34m\u001b[0m\u001b[0m\n\u001b[0m\u001b[1;32m    587\u001b[0m \u001b[0;34m\u001b[0m\u001b[0m\n\u001b[1;32m    588\u001b[0m \u001b[0;34m\u001b[0m\u001b[0m\n",
      "\u001b[0;32m/opt/anaconda3/lib/python3.7/site-packages/pandas/io/parsers/readers.py\u001b[0m in \u001b[0;36m_read\u001b[0;34m(filepath_or_buffer, kwds)\u001b[0m\n\u001b[1;32m    480\u001b[0m \u001b[0;34m\u001b[0m\u001b[0m\n\u001b[1;32m    481\u001b[0m     \u001b[0;31m# Create the parser.\u001b[0m\u001b[0;34m\u001b[0m\u001b[0;34m\u001b[0m\u001b[0;34m\u001b[0m\u001b[0m\n\u001b[0;32m--> 482\u001b[0;31m     \u001b[0mparser\u001b[0m \u001b[0;34m=\u001b[0m \u001b[0mTextFileReader\u001b[0m\u001b[0;34m(\u001b[0m\u001b[0mfilepath_or_buffer\u001b[0m\u001b[0;34m,\u001b[0m \u001b[0;34m**\u001b[0m\u001b[0mkwds\u001b[0m\u001b[0;34m)\u001b[0m\u001b[0;34m\u001b[0m\u001b[0;34m\u001b[0m\u001b[0m\n\u001b[0m\u001b[1;32m    483\u001b[0m \u001b[0;34m\u001b[0m\u001b[0m\n\u001b[1;32m    484\u001b[0m     \u001b[0;32mif\u001b[0m \u001b[0mchunksize\u001b[0m \u001b[0;32mor\u001b[0m \u001b[0miterator\u001b[0m\u001b[0;34m:\u001b[0m\u001b[0;34m\u001b[0m\u001b[0;34m\u001b[0m\u001b[0m\n",
      "\u001b[0;32m/opt/anaconda3/lib/python3.7/site-packages/pandas/io/parsers/readers.py\u001b[0m in \u001b[0;36m__init__\u001b[0;34m(self, f, engine, **kwds)\u001b[0m\n\u001b[1;32m    809\u001b[0m             \u001b[0mself\u001b[0m\u001b[0;34m.\u001b[0m\u001b[0moptions\u001b[0m\u001b[0;34m[\u001b[0m\u001b[0;34m\"has_index_names\"\u001b[0m\u001b[0;34m]\u001b[0m \u001b[0;34m=\u001b[0m \u001b[0mkwds\u001b[0m\u001b[0;34m[\u001b[0m\u001b[0;34m\"has_index_names\"\u001b[0m\u001b[0;34m]\u001b[0m\u001b[0;34m\u001b[0m\u001b[0;34m\u001b[0m\u001b[0m\n\u001b[1;32m    810\u001b[0m \u001b[0;34m\u001b[0m\u001b[0m\n\u001b[0;32m--> 811\u001b[0;31m         \u001b[0mself\u001b[0m\u001b[0;34m.\u001b[0m\u001b[0m_engine\u001b[0m \u001b[0;34m=\u001b[0m \u001b[0mself\u001b[0m\u001b[0;34m.\u001b[0m\u001b[0m_make_engine\u001b[0m\u001b[0;34m(\u001b[0m\u001b[0mself\u001b[0m\u001b[0;34m.\u001b[0m\u001b[0mengine\u001b[0m\u001b[0;34m)\u001b[0m\u001b[0;34m\u001b[0m\u001b[0;34m\u001b[0m\u001b[0m\n\u001b[0m\u001b[1;32m    812\u001b[0m \u001b[0;34m\u001b[0m\u001b[0m\n\u001b[1;32m    813\u001b[0m     \u001b[0;32mdef\u001b[0m \u001b[0mclose\u001b[0m\u001b[0;34m(\u001b[0m\u001b[0mself\u001b[0m\u001b[0;34m)\u001b[0m\u001b[0;34m:\u001b[0m\u001b[0;34m\u001b[0m\u001b[0;34m\u001b[0m\u001b[0m\n",
      "\u001b[0;32m/opt/anaconda3/lib/python3.7/site-packages/pandas/io/parsers/readers.py\u001b[0m in \u001b[0;36m_make_engine\u001b[0;34m(self, engine)\u001b[0m\n\u001b[1;32m   1038\u001b[0m             )\n\u001b[1;32m   1039\u001b[0m         \u001b[0;31m# error: Too many arguments for \"ParserBase\"\u001b[0m\u001b[0;34m\u001b[0m\u001b[0;34m\u001b[0m\u001b[0;34m\u001b[0m\u001b[0m\n\u001b[0;32m-> 1040\u001b[0;31m         \u001b[0;32mreturn\u001b[0m \u001b[0mmapping\u001b[0m\u001b[0;34m[\u001b[0m\u001b[0mengine\u001b[0m\u001b[0;34m]\u001b[0m\u001b[0;34m(\u001b[0m\u001b[0mself\u001b[0m\u001b[0;34m.\u001b[0m\u001b[0mf\u001b[0m\u001b[0;34m,\u001b[0m \u001b[0;34m**\u001b[0m\u001b[0mself\u001b[0m\u001b[0;34m.\u001b[0m\u001b[0moptions\u001b[0m\u001b[0;34m)\u001b[0m  \u001b[0;31m# type: ignore[call-arg]\u001b[0m\u001b[0;34m\u001b[0m\u001b[0;34m\u001b[0m\u001b[0m\n\u001b[0m\u001b[1;32m   1041\u001b[0m \u001b[0;34m\u001b[0m\u001b[0m\n\u001b[1;32m   1042\u001b[0m     \u001b[0;32mdef\u001b[0m \u001b[0m_failover_to_python\u001b[0m\u001b[0;34m(\u001b[0m\u001b[0mself\u001b[0m\u001b[0;34m)\u001b[0m\u001b[0;34m:\u001b[0m\u001b[0;34m\u001b[0m\u001b[0;34m\u001b[0m\u001b[0m\n",
      "\u001b[0;32m/opt/anaconda3/lib/python3.7/site-packages/pandas/io/parsers/c_parser_wrapper.py\u001b[0m in \u001b[0;36m__init__\u001b[0;34m(self, src, **kwds)\u001b[0m\n\u001b[1;32m     49\u001b[0m \u001b[0;34m\u001b[0m\u001b[0m\n\u001b[1;32m     50\u001b[0m         \u001b[0;31m# open handles\u001b[0m\u001b[0;34m\u001b[0m\u001b[0;34m\u001b[0m\u001b[0;34m\u001b[0m\u001b[0m\n\u001b[0;32m---> 51\u001b[0;31m         \u001b[0mself\u001b[0m\u001b[0;34m.\u001b[0m\u001b[0m_open_handles\u001b[0m\u001b[0;34m(\u001b[0m\u001b[0msrc\u001b[0m\u001b[0;34m,\u001b[0m \u001b[0mkwds\u001b[0m\u001b[0;34m)\u001b[0m\u001b[0;34m\u001b[0m\u001b[0;34m\u001b[0m\u001b[0m\n\u001b[0m\u001b[1;32m     52\u001b[0m         \u001b[0;32massert\u001b[0m \u001b[0mself\u001b[0m\u001b[0;34m.\u001b[0m\u001b[0mhandles\u001b[0m \u001b[0;32mis\u001b[0m \u001b[0;32mnot\u001b[0m \u001b[0;32mNone\u001b[0m\u001b[0;34m\u001b[0m\u001b[0;34m\u001b[0m\u001b[0m\n\u001b[1;32m     53\u001b[0m \u001b[0;34m\u001b[0m\u001b[0m\n",
      "\u001b[0;32m/opt/anaconda3/lib/python3.7/site-packages/pandas/io/parsers/base_parser.py\u001b[0m in \u001b[0;36m_open_handles\u001b[0;34m(self, src, kwds)\u001b[0m\n\u001b[1;32m    227\u001b[0m             \u001b[0mmemory_map\u001b[0m\u001b[0;34m=\u001b[0m\u001b[0mkwds\u001b[0m\u001b[0;34m.\u001b[0m\u001b[0mget\u001b[0m\u001b[0;34m(\u001b[0m\u001b[0;34m\"memory_map\"\u001b[0m\u001b[0;34m,\u001b[0m \u001b[0;32mFalse\u001b[0m\u001b[0;34m)\u001b[0m\u001b[0;34m,\u001b[0m\u001b[0;34m\u001b[0m\u001b[0;34m\u001b[0m\u001b[0m\n\u001b[1;32m    228\u001b[0m             \u001b[0mstorage_options\u001b[0m\u001b[0;34m=\u001b[0m\u001b[0mkwds\u001b[0m\u001b[0;34m.\u001b[0m\u001b[0mget\u001b[0m\u001b[0;34m(\u001b[0m\u001b[0;34m\"storage_options\"\u001b[0m\u001b[0;34m,\u001b[0m \u001b[0;32mNone\u001b[0m\u001b[0;34m)\u001b[0m\u001b[0;34m,\u001b[0m\u001b[0;34m\u001b[0m\u001b[0;34m\u001b[0m\u001b[0m\n\u001b[0;32m--> 229\u001b[0;31m             \u001b[0merrors\u001b[0m\u001b[0;34m=\u001b[0m\u001b[0mkwds\u001b[0m\u001b[0;34m.\u001b[0m\u001b[0mget\u001b[0m\u001b[0;34m(\u001b[0m\u001b[0;34m\"encoding_errors\"\u001b[0m\u001b[0;34m,\u001b[0m \u001b[0;34m\"strict\"\u001b[0m\u001b[0;34m)\u001b[0m\u001b[0;34m,\u001b[0m\u001b[0;34m\u001b[0m\u001b[0;34m\u001b[0m\u001b[0m\n\u001b[0m\u001b[1;32m    230\u001b[0m         )\n\u001b[1;32m    231\u001b[0m \u001b[0;34m\u001b[0m\u001b[0m\n",
      "\u001b[0;32m/opt/anaconda3/lib/python3.7/site-packages/pandas/io/common.py\u001b[0m in \u001b[0;36mget_handle\u001b[0;34m(path_or_buf, mode, encoding, compression, memory_map, is_text, errors, storage_options)\u001b[0m\n\u001b[1;32m    705\u001b[0m                 \u001b[0mencoding\u001b[0m\u001b[0;34m=\u001b[0m\u001b[0mioargs\u001b[0m\u001b[0;34m.\u001b[0m\u001b[0mencoding\u001b[0m\u001b[0;34m,\u001b[0m\u001b[0;34m\u001b[0m\u001b[0;34m\u001b[0m\u001b[0m\n\u001b[1;32m    706\u001b[0m                 \u001b[0merrors\u001b[0m\u001b[0;34m=\u001b[0m\u001b[0merrors\u001b[0m\u001b[0;34m,\u001b[0m\u001b[0;34m\u001b[0m\u001b[0;34m\u001b[0m\u001b[0m\n\u001b[0;32m--> 707\u001b[0;31m                 \u001b[0mnewline\u001b[0m\u001b[0;34m=\u001b[0m\u001b[0;34m\"\"\u001b[0m\u001b[0;34m,\u001b[0m\u001b[0;34m\u001b[0m\u001b[0;34m\u001b[0m\u001b[0m\n\u001b[0m\u001b[1;32m    708\u001b[0m             )\n\u001b[1;32m    709\u001b[0m         \u001b[0;32melse\u001b[0m\u001b[0;34m:\u001b[0m\u001b[0;34m\u001b[0m\u001b[0;34m\u001b[0m\u001b[0m\n",
      "\u001b[0;31mFileNotFoundError\u001b[0m: [Errno 2] No such file or directory: 'Triadimefron'"
     ]
    }
   ],
   "source": [
    "mydf=pd.read_csv('Triadimefron', sep='\\t')\n",
    "mydf.columns=['mz','logp','psa']\n",
    "#mydf.columns=['molecule number', 'FDA approved name', 'mz', 'smiles', 'mw', 'alogp', 'hba', 'hbd', 'psa', 'rotb', 'arom', 'alerts', 'qed', 'fraction sp3 hybridized carbons']\n",
    "\n",
    "# Initialize lists and set random seed\n",
    "print(mydf)\n",
    "list_x = mydf['mz']\n",
    "\n",
    "list_x=list_x.astype(float)\n",
    "list_x=list_x.to_numpy().reshape(-1,1)\n",
    "list_y = mydf['logp'].to_numpy().reshape(-1,1)\n",
    "list_x_pred = []\n",
    "list_y_real = []\n",
    "\n",
    "np.set_printoptions(precision = 5, suppress = True)\n",
    "\n",
    "list_ya = np.nan_to_num(list_y)\n",
    "\n",
    "list_xa = np.nan_to_num(list_x)\n",
    "\n",
    "        \n",
    "list_y=pd.DataFrame(list_y)\n",
    "\n",
    "ymean=list_y.mean()\n",
    "ystd=list_y.std()\n",
    "print()"
   ]
  },
  {
   "cell_type": "code",
   "execution_count": 1650,
   "metadata": {},
   "outputs": [],
   "source": [
    "\n",
    "#scaler = preprocessing.StandardScaler()\n",
    "from sklearn.preprocessing import MinMaxScaler\n",
    "scaler=preprocessing.MinMaxScaler()\n",
    "list_x = scaler.fit_transform(list_x)\n",
    "list_y = scaler.fit_transform(list_ya)\n"
   ]
  },
  {
   "cell_type": "code",
   "execution_count": 1651,
   "metadata": {},
   "outputs": [
    {
     "data": {
      "text/plain": [
       "array([[0.33587],\n",
       "       [0.33599],\n",
       "       [0.33615],\n",
       "       [0.33679],\n",
       "       [0.33692],\n",
       "       [0.33711],\n",
       "       [0.33794],\n",
       "       [0.33804],\n",
       "       [0.34096],\n",
       "       [0.34146],\n",
       "       [0.34403],\n",
       "       [0.34573],\n",
       "       [0.34715],\n",
       "       [0.3474 ],\n",
       "       [0.34981],\n",
       "       [0.35168],\n",
       "       [0.35172],\n",
       "       [0.35233],\n",
       "       [0.35356],\n",
       "       [0.35784],\n",
       "       [0.36063],\n",
       "       [0.36387],\n",
       "       [0.3639 ],\n",
       "       [0.36999],\n",
       "       [0.37003],\n",
       "       [0.38145],\n",
       "       [0.38146],\n",
       "       [0.38356],\n",
       "       [0.38691],\n",
       "       [0.38807],\n",
       "       [0.39433],\n",
       "       [0.39433],\n",
       "       [0.39436],\n",
       "       [0.39437],\n",
       "       [0.3944 ],\n",
       "       [0.40048],\n",
       "       [0.40123],\n",
       "       [0.40179],\n",
       "       [0.40401],\n",
       "       [0.40805],\n",
       "       [0.40937],\n",
       "       [0.40957],\n",
       "       [0.41109],\n",
       "       [0.41339],\n",
       "       [0.4248 ],\n",
       "       [0.42481],\n",
       "       [0.42561],\n",
       "       [0.43697],\n",
       "       [0.44003],\n",
       "       [0.44287],\n",
       "       [0.44307],\n",
       "       [0.44459],\n",
       "       [0.44611],\n",
       "       [0.45148],\n",
       "       [0.45524],\n",
       "       [0.45676],\n",
       "       [0.45749],\n",
       "       [0.45828],\n",
       "       [0.46133],\n",
       "       [0.46221],\n",
       "       [0.46437],\n",
       "       [0.47176],\n",
       "       [0.47338],\n",
       "       [0.47351],\n",
       "       [0.47503],\n",
       "       [0.47656],\n",
       "       [0.47723],\n",
       "       [0.47959],\n",
       "       [0.4796 ],\n",
       "       [0.48873],\n",
       "       [0.48874],\n",
       "       [0.48875],\n",
       "       [0.49179],\n",
       "       [0.49482],\n",
       "       [0.50694],\n",
       "       [0.51005],\n",
       "       [0.51006],\n",
       "       [0.51606],\n",
       "       [0.52526],\n",
       "       [0.52527],\n",
       "       [0.5348 ],\n",
       "       [0.54049],\n",
       "       [0.54051],\n",
       "       [0.54052],\n",
       "       [0.54228],\n",
       "       [0.55852]])"
      ]
     },
     "execution_count": 1651,
     "metadata": {},
     "output_type": "execute_result"
    }
   ],
   "source": [
    "ypredridge=ridge.predict(list_x)\n",
    "ypredlasso=elastic.predict(list_x)\n",
    "\n",
    "ypredelastic=elastic.predict(list_x)\n",
    "ypredlassolars = lasso_lars.predict(list_x)\n",
    "ypredbayesian=bayesian_ridge.predict(list_x)\n",
    "sgdpredict=sgd.predict(list_x)\n",
    "\n",
    "yhat = scaler.inverse_transform(ypredridge)\n",
    "yhat\n"
   ]
  },
  {
   "cell_type": "code",
   "execution_count": 1634,
   "metadata": {},
   "outputs": [
    {
     "data": {
      "text/plain": [
       "array([0.18741, 0.18741, 0.18741, 0.18741, 0.18741, 0.18741, 0.18741,\n",
       "       0.18741, 0.18741, 0.18741, 0.18741, 0.18741, 0.18741, 0.18741,\n",
       "       0.18741, 0.18741, 0.18741, 0.18741, 0.18741, 0.18741, 0.18741,\n",
       "       0.18741, 0.18741, 0.18741, 0.18741, 0.18741, 0.18741, 0.18741,\n",
       "       0.18741, 0.18741, 0.18741, 0.18741, 0.18741, 0.18741, 0.18741,\n",
       "       0.18741, 0.18741, 0.18741, 0.18741, 0.18741, 0.18741, 0.18741,\n",
       "       0.18741, 0.18741, 0.18741, 0.18741, 0.18741, 0.18741, 0.18741,\n",
       "       0.18741, 0.18741, 0.18741, 0.18741, 0.18741, 0.18741, 0.18741,\n",
       "       0.18741, 0.18741, 0.18741, 0.18741, 0.18741, 0.18741, 0.18741,\n",
       "       0.18741, 0.18741, 0.18741, 0.18741, 0.18741, 0.18741, 0.18741,\n",
       "       0.18741, 0.18741, 0.18741, 0.18741, 0.18741, 0.18741, 0.18741,\n",
       "       0.18741, 0.18741, 0.18741, 0.18741, 0.18741, 0.18741, 0.18741,\n",
       "       0.18741, 0.18741])"
      ]
     },
     "execution_count": 1634,
     "metadata": {},
     "output_type": "execute_result"
    }
   ],
   "source": [
    "ypredelastic"
   ]
  },
  {
   "cell_type": "code",
   "execution_count": 1635,
   "metadata": {},
   "outputs": [
    {
     "name": "stdout",
     "output_type": "stream",
     "text": [
      "          Actual  Predicted\n",
      "0       0.040816   0.148262\n",
      "1       0.489796   0.231307\n",
      "2       0.000000   0.118360\n",
      "3       0.326531   0.170748\n",
      "4       0.102041   0.169852\n",
      "...          ...        ...\n",
      "169047  0.061224   0.169274\n",
      "169048  0.265306   0.214034\n",
      "169049  0.020408   0.146579\n",
      "169050  0.775510   0.307602\n",
      "169051  0.020408   0.141901\n",
      "\n",
      "[169052 rows x 2 columns]\n"
     ]
    }
   ],
   "source": [
    "#df_preds = pd.DataFrame({'Actual': list_y.squeeze(), 'Predicted': ypredlasso.squeeze()})\n",
    "print(df_preds)"
   ]
  },
  {
   "cell_type": "code",
   "execution_count": 1636,
   "metadata": {},
   "outputs": [
    {
     "name": "stdout",
     "output_type": "stream",
     "text": [
      "0    10.332158\n",
      "dtype: float64\n"
     ]
    }
   ],
   "source": [
    "#z = (x - u) / s\n",
    "#where u is mean and s is standard dev\n",
    "myval=ypredlasso[0] * list_ystd + list_ymean\n",
    "\n",
    "print(myval)\n"
   ]
  },
  {
   "cell_type": "code",
   "execution_count": null,
   "metadata": {},
   "outputs": [],
   "source": []
  },
  {
   "cell_type": "code",
   "execution_count": 1637,
   "metadata": {},
   "outputs": [
    {
     "data": {
      "text/plain": [
       "0.149406"
      ]
     },
     "execution_count": 1637,
     "metadata": {},
     "output_type": "execute_result"
    }
   ],
   "source": [
    "\n",
    "\n",
    ".000815 * 5.681747e-17 + 0.149406"
   ]
  },
  {
   "cell_type": "code",
   "execution_count": 1638,
   "metadata": {},
   "outputs": [
    {
     "data": {
      "text/plain": [
       "0.10720400531735916"
      ]
     },
     "execution_count": 1638,
     "metadata": {},
     "output_type": "execute_result"
    }
   ],
   "source": [
    "list_y.std()"
   ]
  },
  {
   "cell_type": "code",
   "execution_count": 1639,
   "metadata": {},
   "outputs": [
    {
     "ename": "AttributeError",
     "evalue": "'numpy.ndarray' object has no attribute 'columns'",
     "output_type": "error",
     "traceback": [
      "\u001b[0;31m---------------------------------------------------------------------------\u001b[0m",
      "\u001b[0;31mAttributeError\u001b[0m                            Traceback (most recent call last)",
      "\u001b[0;32m<ipython-input-1639-03f5ba03f126>\u001b[0m in \u001b[0;36m<module>\u001b[0;34m\u001b[0m\n\u001b[0;32m----> 1\u001b[0;31m \u001b[0mlist_y\u001b[0m\u001b[0;34m.\u001b[0m\u001b[0mcolumns\u001b[0m\u001b[0;34m=\u001b[0m\u001b[0;34m[\u001b[0m\u001b[0;34m'qed'\u001b[0m\u001b[0;34m]\u001b[0m\u001b[0;34m\u001b[0m\u001b[0;34m\u001b[0m\u001b[0m\n\u001b[0m",
      "\u001b[0;31mAttributeError\u001b[0m: 'numpy.ndarray' object has no attribute 'columns'"
     ]
    }
   ],
   "source": [
    "list_y.columns=['qed']"
   ]
  },
  {
   "cell_type": "code",
   "execution_count": 1640,
   "metadata": {},
   "outputs": [
    {
     "ename": "IndexError",
     "evalue": "only integers, slices (`:`), ellipsis (`...`), numpy.newaxis (`None`) and integer or boolean arrays are valid indices",
     "output_type": "error",
     "traceback": [
      "\u001b[0;31m---------------------------------------------------------------------------\u001b[0m",
      "\u001b[0;31mIndexError\u001b[0m                                Traceback (most recent call last)",
      "\u001b[0;32m<ipython-input-1640-806faa27e082>\u001b[0m in \u001b[0;36m<module>\u001b[0;34m\u001b[0m\n\u001b[0;32m----> 1\u001b[0;31m \u001b[0mlist_y\u001b[0m\u001b[0;34m[\u001b[0m\u001b[0;34m'qed'\u001b[0m\u001b[0;34m]\u001b[0m\u001b[0;34m\u001b[0m\u001b[0;34m\u001b[0m\u001b[0m\n\u001b[0m",
      "\u001b[0;31mIndexError\u001b[0m: only integers, slices (`:`), ellipsis (`...`), numpy.newaxis (`None`) and integer or boolean arrays are valid indices"
     ]
    }
   ],
   "source": [
    "list_y['qed']"
   ]
  },
  {
   "cell_type": "code",
   "execution_count": 1641,
   "metadata": {},
   "outputs": [
    {
     "ename": "IndexError",
     "evalue": "only integers, slices (`:`), ellipsis (`...`), numpy.newaxis (`None`) and integer or boolean arrays are valid indices",
     "output_type": "error",
     "traceback": [
      "\u001b[0;31m---------------------------------------------------------------------------\u001b[0m",
      "\u001b[0;31mIndexError\u001b[0m                                Traceback (most recent call last)",
      "\u001b[0;32m<ipython-input-1641-eeb036471090>\u001b[0m in \u001b[0;36m<module>\u001b[0;34m\u001b[0m\n\u001b[0;32m----> 1\u001b[0;31m \u001b[0mprint\u001b[0m\u001b[0;34m(\u001b[0m\u001b[0;34m\"std of arr : \"\u001b[0m\u001b[0;34m,\u001b[0m \u001b[0mnp\u001b[0m\u001b[0;34m.\u001b[0m\u001b[0mstd\u001b[0m\u001b[0;34m(\u001b[0m\u001b[0mlist_y\u001b[0m\u001b[0;34m[\u001b[0m\u001b[0;34m'qed'\u001b[0m\u001b[0;34m]\u001b[0m\u001b[0;34m)\u001b[0m\u001b[0;34m)\u001b[0m\u001b[0;34m\u001b[0m\u001b[0;34m\u001b[0m\u001b[0m\n\u001b[0m\u001b[1;32m      2\u001b[0m \u001b[0;34m\u001b[0m\u001b[0m\n",
      "\u001b[0;31mIndexError\u001b[0m: only integers, slices (`:`), ellipsis (`...`), numpy.newaxis (`None`) and integer or boolean arrays are valid indices"
     ]
    }
   ],
   "source": [
    "print(\"std of arr : \", np.std(list_y['qed']))\n",
    "  "
   ]
  },
  {
   "cell_type": "code",
   "execution_count": 1642,
   "metadata": {},
   "outputs": [],
   "source": [
    "mydf=pd.read_csv('GNPStrainqed',  sep='\\t')"
   ]
  },
  {
   "cell_type": "code",
   "execution_count": 1643,
   "metadata": {},
   "outputs": [
    {
     "data": {
      "text/plain": [
       "array([[0.07143],\n",
       "       [0.09524],\n",
       "       [0.09524],\n",
       "       ...,\n",
       "       [0.07143],\n",
       "       [0.07143],\n",
       "       [0.2381 ]])"
      ]
     },
     "execution_count": 1643,
     "metadata": {},
     "output_type": "execute_result"
    }
   ],
   "source": [
    "testY"
   ]
  },
  {
   "cell_type": "code",
   "execution_count": 1644,
   "metadata": {},
   "outputs": [
    {
     "name": "stdout",
     "output_type": "stream",
     "text": [
      "30/30 [==============================] - 0s 2ms/step - loss: 0.2546 - accuracy: 0.2000\n",
      "Neural Network RMS 0.5086248396328746\n"
     ]
    }
   ],
   "source": [
    "from keras.models import Sequential\n",
    "from keras.layers import Dense, Dropout\n",
    "from keras.callbacks import ReduceLROnPlateau\n",
    "from keras import regularizers as WeightRegularizer\n",
    "from keras.optimizers import SGD\n",
    "    #SKlearn for metrics and datasplits\n",
    "from sklearn.model_selection import cross_validate\n",
    "from sklearn.metrics import roc_auc_score, roc_curve\n",
    "    #Matplotlib for plotting\n",
    "from matplotlib import pyplot as plt\n",
    "from keras.regularizers import l2\n",
    "\n",
    "    # In[11]:\n",
    "\n",
    "\n",
    "    #Convert to Numpy arrays\n",
    "from sklearn.preprocessing import StandardScaler\n",
    "X = np.array(list(list_x))\n",
    "y = list_y\n",
    "\n",
    "\n",
    "# In[12]:\n",
    "\n",
    "\n",
    "train_size=int(.7* X.shape[0])\n",
    "X_train, X_test, y_train, y_test = X[0:train_size], X[train_size:],y[0:train_size],y[train_size:]\n",
    "\n",
    "\n",
    "\n",
    "model = Sequential()\n",
    "model.add(Dense(60, input_dim=X.shape[1], activation='relu'))\n",
    "model.add(Dropout(0.6, input_shape=(1,)))\n",
    "model.add(Dense(60, input_dim=X.shape[1], activation='relu'))\n",
    "model.add(Dropout(0.6, input_shape=(1,)))\n",
    "model.add(Dense(6, activation='sigmoid'))\n",
    "    # In[34]:\n",
    "model.compile(loss='mean_squared_error', metrics=['accuracy'], optimizer=SGD(lr=.0001, momentum=0.9, nesterov=True))\n",
    "model.fit(X_train, y_train, epochs=1, batch_size=2)\n",
    "    \n",
    "    \n",
    "y_pred = model.predict(X_test)\n",
    "rms = (np.mean((y_test.reshape(-1,1) - y_pred)**2))**0.5\n",
    "s = np.std(y_test -y_pred)\n",
    "print(\"Neural Network RMS\", rms)\n",
    "   "
   ]
  },
  {
   "cell_type": "code",
   "execution_count": 1645,
   "metadata": {},
   "outputs": [],
   "source": [
    "predneuro=model.predict(list_x)"
   ]
  },
  {
   "cell_type": "code",
   "execution_count": 1646,
   "metadata": {},
   "outputs": [],
   "source": [
    "\n",
    "yhat = scaler.inverse_transform(predneuro)"
   ]
  },
  {
   "cell_type": "code",
   "execution_count": 1647,
   "metadata": {},
   "outputs": [
    {
     "data": {
      "text/plain": [
       "array([[0.49954, 0.49966, 0.49965, 0.49967, 0.4997 , 0.49972],\n",
       "       [0.49953, 0.49963, 0.49964, 0.49965, 0.49969, 0.49972],\n",
       "       [0.49953, 0.49959, 0.49963, 0.49963, 0.49968, 0.49971],\n",
       "       [0.49958, 0.49944, 0.49959, 0.4996 , 0.49964, 0.49969],\n",
       "       [0.4996 , 0.49941, 0.49959, 0.4996 , 0.49963, 0.49969],\n",
       "       [0.49963, 0.49938, 0.49959, 0.4996 , 0.4996 , 0.49969],\n",
       "       [0.49977, 0.49922, 0.49963, 0.49965, 0.49956, 0.49974],\n",
       "       [0.49978, 0.4992 , 0.49963, 0.49966, 0.49955, 0.49975],\n",
       "       [0.50031, 0.4987 , 0.49983, 0.49997, 0.49952, 0.50005],\n",
       "       [0.50039, 0.49862, 0.49987, 0.50003, 0.49951, 0.50011],\n",
       "       [0.50084, 0.49821, 0.50006, 0.50036, 0.49949, 0.50039],\n",
       "       [0.50114, 0.49795, 0.50019, 0.50058, 0.49947, 0.50057],\n",
       "       [0.50138, 0.49772, 0.50029, 0.50076, 0.49946, 0.50072],\n",
       "       [0.50143, 0.49768, 0.50031, 0.50079, 0.49945, 0.50075],\n",
       "       [0.50185, 0.49731, 0.50049, 0.5011 , 0.49943, 0.50101],\n",
       "       [0.50217, 0.49701, 0.50063, 0.50134, 0.49941, 0.50122],\n",
       "       [0.50218, 0.497  , 0.50063, 0.50134, 0.49941, 0.50122],\n",
       "       [0.50229, 0.49691, 0.50067, 0.50142, 0.49941, 0.50129],\n",
       "       [0.5025 , 0.49672, 0.50076, 0.50158, 0.4994 , 0.50142],\n",
       "       [0.50325, 0.49604, 0.50108, 0.50213, 0.49935, 0.50189],\n",
       "       [0.50373, 0.4956 , 0.50129, 0.50248, 0.49933, 0.50219],\n",
       "       [0.5043 , 0.49509, 0.50152, 0.5029 , 0.4993 , 0.50254],\n",
       "       [0.5043 , 0.49509, 0.50153, 0.5029 , 0.4993 , 0.50254],\n",
       "       [0.50536, 0.49413, 0.50197, 0.50368, 0.49924, 0.5032 ],\n",
       "       [0.50537, 0.49412, 0.50198, 0.50368, 0.49924, 0.50321],\n",
       "       [0.50736, 0.49233, 0.50282, 0.50514, 0.49913, 0.50445],\n",
       "       [0.50736, 0.49233, 0.50282, 0.50514, 0.49913, 0.50445],\n",
       "       [0.50772, 0.492  , 0.50297, 0.50541, 0.49911, 0.50468],\n",
       "       [0.50831, 0.49147, 0.50322, 0.50584, 0.49908, 0.50504],\n",
       "       [0.50851, 0.49128, 0.50331, 0.50599, 0.49907, 0.50517],\n",
       "       [0.5096 , 0.4903 , 0.50377, 0.50679, 0.49901, 0.50585],\n",
       "       [0.5096 , 0.4903 , 0.50377, 0.50679, 0.49901, 0.50585],\n",
       "       [0.5096 , 0.4903 , 0.50377, 0.50679, 0.49901, 0.50585],\n",
       "       [0.5096 , 0.49029, 0.50377, 0.50679, 0.49901, 0.50585],\n",
       "       [0.50961, 0.49029, 0.50377, 0.5068 , 0.49901, 0.50585],\n",
       "       [0.51067, 0.48933, 0.50422, 0.50758, 0.49895, 0.50651],\n",
       "       [0.5108 , 0.48921, 0.50428, 0.50767, 0.49895, 0.5066 ],\n",
       "       [0.5109 , 0.48913, 0.50432, 0.50774, 0.49894, 0.50666],\n",
       "       [0.51128, 0.48878, 0.50448, 0.50803, 0.49892, 0.5069 ],\n",
       "       [0.51199, 0.48814, 0.50478, 0.50854, 0.49888, 0.50734],\n",
       "       [0.51222, 0.48793, 0.50487, 0.50871, 0.49887, 0.50748],\n",
       "       [0.51225, 0.4879 , 0.50489, 0.50874, 0.49887, 0.5075 ],\n",
       "       [0.51251, 0.48766, 0.505  , 0.50893, 0.49885, 0.50767],\n",
       "       [0.51291, 0.4873 , 0.50517, 0.50923, 0.49883, 0.50792],\n",
       "       [0.5149 , 0.48551, 0.50601, 0.51068, 0.49872, 0.50915],\n",
       "       [0.5149 , 0.48551, 0.50601, 0.51068, 0.49872, 0.50915],\n",
       "       [0.51504, 0.48538, 0.50607, 0.51079, 0.49872, 0.50924],\n",
       "       [0.51702, 0.48359, 0.50691, 0.51224, 0.49861, 0.51047],\n",
       "       [0.51755, 0.48311, 0.50713, 0.51263, 0.49858, 0.51081],\n",
       "       [0.51804, 0.48267, 0.50734, 0.51299, 0.49855, 0.51111],\n",
       "       [0.51808, 0.48264, 0.50736, 0.51302, 0.49855, 0.51114],\n",
       "       [0.51834, 0.4824 , 0.50747, 0.51321, 0.49854, 0.5113 ],\n",
       "       [0.5186 , 0.48216, 0.50758, 0.5134 , 0.49852, 0.51147],\n",
       "       [0.51954, 0.48131, 0.50798, 0.51409, 0.49847, 0.51205],\n",
       "       [0.52019, 0.48072, 0.50825, 0.51457, 0.49844, 0.51246],\n",
       "       [0.52046, 0.48048, 0.50836, 0.51477, 0.49842, 0.51262],\n",
       "       [0.52058, 0.48037, 0.50842, 0.51486, 0.49841, 0.5127 ],\n",
       "       [0.52072, 0.48024, 0.50848, 0.51496, 0.49841, 0.51279],\n",
       "       [0.52125, 0.47977, 0.5087 , 0.51535, 0.49838, 0.51312],\n",
       "       [0.5214 , 0.47963, 0.50877, 0.51546, 0.49837, 0.51321],\n",
       "       [0.52178, 0.47929, 0.50893, 0.51574, 0.49835, 0.51345],\n",
       "       [0.52306, 0.47813, 0.50947, 0.51668, 0.49828, 0.51425],\n",
       "       [0.52334, 0.47787, 0.50959, 0.51689, 0.49826, 0.51442],\n",
       "       [0.52337, 0.47785, 0.5096 , 0.5169 , 0.49826, 0.51444],\n",
       "       [0.52363, 0.47761, 0.50971, 0.5171 , 0.49825, 0.5146 ],\n",
       "       [0.5239 , 0.47737, 0.50982, 0.51729, 0.49823, 0.51477],\n",
       "       [0.52401, 0.47727, 0.50987, 0.51738, 0.49823, 0.51484],\n",
       "       [0.52442, 0.4769 , 0.51005, 0.51768, 0.49821, 0.5151 ],\n",
       "       [0.52442, 0.4769 , 0.51005, 0.51768, 0.49821, 0.5151 ],\n",
       "       [0.52601, 0.47546, 0.51072, 0.51885, 0.49812, 0.51609],\n",
       "       [0.52601, 0.47546, 0.51072, 0.51885, 0.49812, 0.51609],\n",
       "       [0.52601, 0.47546, 0.51072, 0.51885, 0.49812, 0.51609],\n",
       "       [0.52654, 0.47498, 0.51094, 0.51924, 0.49809, 0.51642],\n",
       "       [0.52707, 0.47451, 0.51117, 0.51962, 0.49806, 0.51675],\n",
       "       [0.52917, 0.4726 , 0.51206, 0.52117, 0.49795, 0.51806],\n",
       "       [0.52971, 0.47212, 0.51229, 0.52157, 0.49792, 0.5184 ],\n",
       "       [0.52971, 0.47211, 0.51229, 0.52157, 0.49792, 0.5184 ],\n",
       "       [0.53075, 0.47117, 0.51273, 0.52234, 0.49786, 0.51905],\n",
       "       [0.53235, 0.46973, 0.51341, 0.52351, 0.49777, 0.52005],\n",
       "       [0.53235, 0.46973, 0.51341, 0.52351, 0.49777, 0.52005],\n",
       "       [0.534  , 0.46823, 0.51411, 0.52472, 0.49768, 0.52108],\n",
       "       [0.53499, 0.46734, 0.51453, 0.52545, 0.49763, 0.5217 ],\n",
       "       [0.53499, 0.46734, 0.51453, 0.52545, 0.49763, 0.5217 ],\n",
       "       [0.53499, 0.46734, 0.51453, 0.52545, 0.49763, 0.5217 ],\n",
       "       [0.5353 , 0.46706, 0.51466, 0.52568, 0.49761, 0.5219 ],\n",
       "       [0.53811, 0.46452, 0.51585, 0.52775, 0.49746, 0.52365]],\n",
       "      dtype=float32)"
      ]
     },
     "execution_count": 1647,
     "metadata": {},
     "output_type": "execute_result"
    }
   ],
   "source": [
    "predneuro"
   ]
  },
  {
   "cell_type": "code",
   "execution_count": 1648,
   "metadata": {},
   "outputs": [
    {
     "data": {
      "text/plain": [
       "0.9035002"
      ]
     },
     "execution_count": 1648,
     "metadata": {},
     "output_type": "execute_result"
    }
   ],
   "source": [
    "yhat.mean()"
   ]
  },
  {
   "cell_type": "code",
   "execution_count": null,
   "metadata": {},
   "outputs": [],
   "source": []
  },
  {
   "cell_type": "code",
   "execution_count": null,
   "metadata": {},
   "outputs": [],
   "source": []
  },
  {
   "cell_type": "code",
   "execution_count": null,
   "metadata": {},
   "outputs": [],
   "source": []
  },
  {
   "cell_type": "code",
   "execution_count": null,
   "metadata": {},
   "outputs": [],
   "source": []
  }
 ],
 "metadata": {
  "kernelspec": {
   "display_name": "Python 3",
   "language": "python",
   "name": "python3"
  },
  "language_info": {
   "codemirror_mode": {
    "name": "ipython",
    "version": 3
   },
   "file_extension": ".py",
   "mimetype": "text/x-python",
   "name": "python",
   "nbconvert_exporter": "python",
   "pygments_lexer": "ipython3",
   "version": "3.7.4"
  }
 },
 "nbformat": 4,
 "nbformat_minor": 5
}
