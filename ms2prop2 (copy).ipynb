{
 "cells": [
  {
   "cell_type": "code",
   "execution_count": 1,
   "id": "afc7c584",
   "metadata": {},
   "outputs": [],
   "source": [
    "import pandas as pd\n",
    "import matplotlib.pyplot as plt\n",
    "import numpy as np\n"
   ]
  },
  {
   "cell_type": "code",
   "execution_count": 2,
   "id": "4344dfc7",
   "metadata": {},
   "outputs": [],
   "source": [
    "from sklearn import linear_model, metrics"
   ]
  },
  {
   "cell_type": "code",
   "execution_count": 118,
   "id": "beb05be3",
   "metadata": {},
   "outputs": [
    {
     "name": "stdout",
     "output_type": "stream",
     "text": [
      "                    mz       mw    alogp    hba  hbd     psa  rotb  arom  \\\n",
      "0      NaN  289.286377  981.162  0.17397     14   12  351.64    14     1   \n",
      "1      NaN  295.545288  981.162  0.17397     14   12  351.64    14     1   \n",
      "2      NaN  298.489624  981.162  0.17397     14   12  351.64    14     1   \n",
      "3      NaN  317.324951  981.162  0.17397     14   12  351.64    14     1   \n",
      "4      NaN  319.655945  981.162  0.17397     14   12  351.64    14     1   \n",
      "...    ...         ...      ...      ...    ...  ...     ...   ...   ...   \n",
      "71130  NaN  167.000000  180.156 -3.22140  29404    5  110.38     1     0   \n",
      "71131  NaN  167.500000  180.156 -3.22140  29405    5  110.38     1     0   \n",
      "71132  NaN  167.750000  180.156 -3.22140  29406    5  110.38     1     0   \n",
      "71133  NaN  168.083344  180.156 -3.22140  29407    5  110.38     1     0   \n",
      "71134  NaN  168.583344  180.156 -3.22140  29408    5  110.38     1     0   \n",
      "\n",
      "       alerts  ...  pains   fsp3  cacao  halflife   logs   logd  bioconcen  \\\n",
      "0           5  ...    0.0  0.562 -7.498     0.816 -2.752 -0.429     -0.247   \n",
      "1           5  ...    0.0  0.562 -7.498     0.816 -2.752 -0.429     -0.247   \n",
      "2           5  ...    0.0  0.562 -7.498     0.816 -2.752 -0.429     -0.247   \n",
      "3           5  ...    0.0  0.562 -7.498     0.816 -2.752 -0.429     -0.247   \n",
      "4           5  ...    0.0  0.562 -7.498     0.816 -2.752 -0.429     -0.247   \n",
      "...       ...  ...    ...    ...    ...       ...    ...    ...        ...   \n",
      "71130       0  ...    0.0  1.000 -5.318     0.722 -0.017 -2.139        NaN   \n",
      "71131       0  ...    0.0  1.000 -5.318     0.722 -0.017 -2.139        NaN   \n",
      "71132       0  ...    0.0  1.000 -5.318     0.722 -0.017 -2.139        NaN   \n",
      "71133       0  ...    0.0  1.000 -5.318     0.722 -0.017 -2.139        NaN   \n",
      "71134       0  ...    0.0  1.000 -5.000       NaN    NaN    NaN        NaN   \n",
      "\n",
      "       igc50  lc50fm  lc50dm  \n",
      "0      3.165   4.297   5.019  \n",
      "1      3.165   4.297   5.019  \n",
      "2      3.165   4.297   5.019  \n",
      "3      3.165   4.297   5.019  \n",
      "4      3.165   4.297   5.019  \n",
      "...      ...     ...     ...  \n",
      "71130  0.242   0.821   2.230  \n",
      "71131  0.242   0.821   2.230  \n",
      "71132  0.242   0.821   2.230  \n",
      "71133  0.242   0.821   2.230  \n",
      "71134    NaN     NaN     NaN  \n",
      "\n",
      "[71135 rows x 21 columns]\n",
      "[[-0.247]\n",
      " [-0.247]\n",
      " [-0.247]\n",
      " ...\n",
      " [   nan]\n",
      " [   nan]\n",
      " [   nan]]\n"
     ]
    }
   ],
   "source": [
    "import decimal\n",
    "from decimal import Decimal\n",
    "import math\n",
    "import random\n",
    "import numpy as np\n",
    "import matplotlib.pyplot as plt\n",
    "from sklearn import linear_model\n",
    "from sklearn.metrics import mean_squared_error, r2_score\n",
    "from sklearn.kernel_ridge import KernelRidge\n",
    "import pandas as pd\n",
    "from sklearn.preprocessing import LabelEncoder\n",
    "from sklearn.model_selection import train_test_split\n",
    "from sklearn import preprocessing\n",
    "np.set_printoptions(suppress=True)\n",
    "mydf=pd.read_csv('GNPStrainqed.csv',  sep=',')\n",
    "mydf.columns=['','mz','mw','alogp','hba','hbd','psa','rotb','arom','alerts','qed','pains','fsp3','cacao','halflife','logs','logd','bioconcen','igc50','lc50fm','lc50dm']\n",
    "\n",
    "#mydf.columns=['molecule number', 'FDA approved name', 'mz', 'smiles', 'mw', 'alogp', 'hba', 'hbd', 'psa', 'rotb', 'arom', 'alerts', 'qed', 'fraction sp3 hybridized carbons']\n",
    "\n",
    "# Initialize lists and set random seed\n",
    "print(mydf)\n",
    "list_x = mydf['mz']\n",
    "\n",
    "list_x=list_x.astype(float)\n",
    "list_x=list_x.to_numpy().reshape(-1,1)\n",
    "list_y = mydf['bioconcen'].to_numpy().reshape(-1,1)\n",
    "print(list_y)\n",
    "list_x_pred = []\n",
    "list_y_real = []\n",
    "\n",
    "np.set_printoptions(precision = 5, suppress = True)\n",
    "\n",
    "list_y = np.nan_to_num(list_y)\n",
    "\n",
    "list_x = np.nan_to_num(list_x)\n",
    "\n",
    "        \n",
    "list_y=pd.DataFrame(list_y)\n",
    "\n"
   ]
  },
  {
   "cell_type": "code",
   "execution_count": 67,
   "id": "1d43aab9",
   "metadata": {
    "scrolled": true
   },
   "outputs": [],
   "source": [
    "import numpy as np\n",
    "from sklearn.kernel_ridge import KernelRidge\n",
    "from sklearn.model_selection import GridSearchCV\n",
    "import matplotlib.pyplot as plt\n"
   ]
  },
  {
   "cell_type": "code",
   "execution_count": 68,
   "id": "22243e58",
   "metadata": {},
   "outputs": [
    {
     "name": "stdout",
     "output_type": "stream",
     "text": [
      "Best gamma from CV:  {'gamma': 0.0}\n",
      "Length scale = inf\n"
     ]
    },
    {
     "name": "stderr",
     "output_type": "stream",
     "text": [
      "/home/patrickchirdon/Documents/biosortia-lipinski/biosortia/lib/python3.10/site-packages/numpy/core/function_base.py:284: RuntimeWarning: overflow encountered in power\n",
      "  return _nx.power(base, y)\n",
      "/home/patrickchirdon/Documents/biosortia-lipinski/biosortia/lib/python3.10/site-packages/sklearn/model_selection/_validation.py:378: FitFailedWarning: \n",
      "5 fits failed out of a total of 10.\n",
      "The score on these train-test partitions for these parameters will be set to nan.\n",
      "If these failures are not expected, you can try to debug them by setting error_score='raise'.\n",
      "\n",
      "Below are more details about the failures:\n",
      "--------------------------------------------------------------------------------\n",
      "5 fits failed with the following error:\n",
      "Traceback (most recent call last):\n",
      "  File \"/home/patrickchirdon/Documents/biosortia-lipinski/biosortia/lib/python3.10/site-packages/sklearn/model_selection/_validation.py\", line 686, in _fit_and_score\n",
      "    estimator.fit(X_train, y_train, **fit_params)\n",
      "  File \"/home/patrickchirdon/Documents/biosortia-lipinski/biosortia/lib/python3.10/site-packages/sklearn/kernel_ridge.py\", line 193, in fit\n",
      "    self._validate_params()\n",
      "  File \"/home/patrickchirdon/Documents/biosortia-lipinski/biosortia/lib/python3.10/site-packages/sklearn/base.py\", line 570, in _validate_params\n",
      "    validate_parameter_constraints(\n",
      "  File \"/home/patrickchirdon/Documents/biosortia-lipinski/biosortia/lib/python3.10/site-packages/sklearn/utils/_param_validation.py\", line 97, in validate_parameter_constraints\n",
      "    raise InvalidParameterError(\n",
      "sklearn.utils._param_validation.InvalidParameterError: The 'gamma' parameter of KernelRidge must be a float in the range [0, inf) or None. Got inf instead.\n",
      "\n",
      "  warnings.warn(some_fits_failed_message, FitFailedWarning)\n",
      "/home/patrickchirdon/Documents/biosortia-lipinski/biosortia/lib/python3.10/site-packages/sklearn/model_selection/_search.py:953: UserWarning: One or more of the test scores are non-finite: [-2.19961e+31          nan]\n",
      "  warnings.warn(\n",
      "/tmp/ipykernel_54786/83423410.py:10: RuntimeWarning: divide by zero encountered in scalar divide\n",
      "  print('Length scale =',1/np.sqrt(2*krr.best_params_['gamma']))\n"
     ]
    },
    {
     "data": {
      "text/plain": [
       "-0.012176237643916732"
      ]
     },
     "execution_count": 68,
     "metadata": {},
     "output_type": "execute_result"
    }
   ],
   "source": [
    "# ####################\n",
    "# Fit regression model\n",
    "train_size = 100 # Change here to try different amounts of data\n",
    "krr = GridSearchCV(KernelRidge(kernel='rbf',alpha=100),\n",
    "                  param_grid={\"gamma\": np.logspace(-400, 400, 2)})\n",
    "\n",
    "krr.fit(list_x[:train_size], list_y[:train_size])\n",
    "\n",
    "print('Best gamma from CV: ',krr.best_params_)\n",
    "print('Length scale =',1/np.sqrt(2*krr.best_params_['gamma']))\n",
    "krr.score(list_x, list_y )"
   ]
  },
  {
   "cell_type": "code",
   "execution_count": 69,
   "id": "77316169",
   "metadata": {},
   "outputs": [],
   "source": [
    "from sklearn.datasets import make_regression\n",
    "from matplotlib import pyplot as plt\n",
    "import numpy as np\n",
    "from sklearn.linear_model import Ridge\n",
    "\n",
    "\n",
    "X_plot = np.linspace(0, 10, 1000)[:, None]\n",
    "scaler = preprocessing.StandardScaler()\n",
    "list_x = scaler.fit_transform(list_x)\n",
    "list_y = scaler.fit_transform(list_y)\n"
   ]
  },
  {
   "cell_type": "code",
   "execution_count": 70,
   "id": "d13dee43",
   "metadata": {},
   "outputs": [],
   "source": [
    "xtrain, xtest, ytrain, ytest=train_test_split(list_x, list_y, test_size=0.15)"
   ]
  },
  {
   "cell_type": "code",
   "execution_count": 71,
   "id": "e7b0b72d",
   "metadata": {},
   "outputs": [],
   "source": [
    "import numpy as np\n",
    "import pandas as pd\n",
    "\n",
    "# For chapter 4\n",
    "from sklearn.model_selection import train_test_split\n",
    "from sklearn.preprocessing import StandardScaler\n",
    "\n",
    "# For chapter 5\n",
    "from sklearn.linear_model import SGDClassifier\n",
    "import matplotlib.pyplot as plt\n",
    "import time\n",
    "\n",
    "# For chapter 6\n",
    "from sklearn.metrics import accuracy_score\n",
    "from sklearn.model_selection import GridSearchCV\n",
    "\n"
   ]
  },
  {
   "cell_type": "code",
   "execution_count": 72,
   "id": "a7be3607",
   "metadata": {},
   "outputs": [],
   "source": [
    "scaler = StandardScaler()\n",
    "scaler.fit(xtrain)\n",
    "xtrain = scaler.transform(xtrain)\n",
    "xtest = scaler.transform(xtest)\n",
    "\n",
    "trainX, testX, trainY, testY = train_test_split(xtrain, ytrain, test_size = 0.2)\n",
    "\n"
   ]
  },
  {
   "cell_type": "code",
   "execution_count": 73,
   "id": "c60896de",
   "metadata": {},
   "outputs": [],
   "source": [
    "scaler = StandardScaler()\n",
    "scaler.fit(trainX)\n",
    "trainX = scaler.transform(trainX)\n",
    "testX = scaler.transform(testX)\n"
   ]
  },
  {
   "cell_type": "code",
   "execution_count": 74,
   "id": "2e5fb958",
   "metadata": {},
   "outputs": [],
   "source": [
    "import numpy as np # linear algebra\n",
    "import pandas as pd # data processing, CSV file I/O (e.g. pd.read_csv)\n",
    "\n",
    "from sklearn.linear_model import SGDRegressor\n",
    "from sklearn.model_selection import train_test_split, GridSearchCV\n",
    "from sklearn.preprocessing import StandardScaler\n"
   ]
  },
  {
   "cell_type": "code",
   "execution_count": 75,
   "id": "d4eccc8f",
   "metadata": {},
   "outputs": [
    {
     "ename": "ModuleNotFoundError",
     "evalue": "No module named 'seaborn'",
     "output_type": "error",
     "traceback": [
      "\u001b[0;31m---------------------------------------------------------------------------\u001b[0m",
      "\u001b[0;31mModuleNotFoundError\u001b[0m                       Traceback (most recent call last)",
      "Cell \u001b[0;32mIn[75], line 5\u001b[0m\n\u001b[1;32m      2\u001b[0m \u001b[38;5;28;01mimport\u001b[39;00m \u001b[38;5;21;01mpandas\u001b[39;00m \u001b[38;5;28;01mas\u001b[39;00m \u001b[38;5;21;01mpd\u001b[39;00m\n\u001b[1;32m      4\u001b[0m \u001b[38;5;28;01mimport\u001b[39;00m \u001b[38;5;21;01mmatplotlib\u001b[39;00m\u001b[38;5;21;01m.\u001b[39;00m\u001b[38;5;21;01mpyplot\u001b[39;00m \u001b[38;5;28;01mas\u001b[39;00m \u001b[38;5;21;01mplt\u001b[39;00m\n\u001b[0;32m----> 5\u001b[0m \u001b[38;5;28;01mimport\u001b[39;00m \u001b[38;5;21;01mseaborn\u001b[39;00m \u001b[38;5;28;01mas\u001b[39;00m \u001b[38;5;21;01msns\u001b[39;00m\n\u001b[1;32m      7\u001b[0m \u001b[38;5;28;01mfrom\u001b[39;00m \u001b[38;5;21;01msklearn\u001b[39;00m\u001b[38;5;21;01m.\u001b[39;00m\u001b[38;5;21;01mmodel_selection\u001b[39;00m \u001b[38;5;28;01mimport\u001b[39;00m train_test_split, cross_val_score\n\u001b[1;32m      8\u001b[0m \u001b[38;5;28;01mfrom\u001b[39;00m \u001b[38;5;21;01msklearn\u001b[39;00m\u001b[38;5;21;01m.\u001b[39;00m\u001b[38;5;21;01mpreprocessing\u001b[39;00m \u001b[38;5;28;01mimport\u001b[39;00m StandardScaler\n",
      "\u001b[0;31mModuleNotFoundError\u001b[0m: No module named 'seaborn'"
     ]
    }
   ],
   "source": [
    "import numpy as np\n",
    "import pandas as pd\n",
    "\n",
    "import matplotlib.pyplot as plt\n",
    "import seaborn as sns\n",
    "\n",
    "from sklearn.model_selection import train_test_split, cross_val_score\n",
    "from sklearn.preprocessing import StandardScaler\n",
    "\n",
    "from sklearn import linear_model\n",
    "from sklearn.model_selection import GridSearchCV, RandomizedSearchCV\n",
    "\n",
    "import warnings"
   ]
  },
  {
   "cell_type": "code",
   "execution_count": 76,
   "id": "1f8dde61",
   "metadata": {},
   "outputs": [
    {
     "ename": "NameError",
     "evalue": "name 'warnings' is not defined",
     "output_type": "error",
     "traceback": [
      "\u001b[0;31m---------------------------------------------------------------------------\u001b[0m",
      "\u001b[0;31mNameError\u001b[0m                                 Traceback (most recent call last)",
      "Cell \u001b[0;32mIn[76], line 1\u001b[0m\n\u001b[0;32m----> 1\u001b[0m \u001b[43mwarnings\u001b[49m\u001b[38;5;241m.\u001b[39mfilterwarnings(\u001b[38;5;124m'\u001b[39m\u001b[38;5;124mignore\u001b[39m\u001b[38;5;124m'\u001b[39m)\n",
      "\u001b[0;31mNameError\u001b[0m: name 'warnings' is not defined"
     ]
    }
   ],
   "source": [
    "warnings.filterwarnings('ignore')"
   ]
  },
  {
   "cell_type": "code",
   "execution_count": 77,
   "id": "0060e5e4",
   "metadata": {},
   "outputs": [
    {
     "ename": "NameError",
     "evalue": "name 'sns' is not defined",
     "output_type": "error",
     "traceback": [
      "\u001b[0;31m---------------------------------------------------------------------------\u001b[0m",
      "\u001b[0;31mNameError\u001b[0m                                 Traceback (most recent call last)",
      "Cell \u001b[0;32mIn[77], line 6\u001b[0m\n\u001b[1;32m      3\u001b[0m plt\u001b[38;5;241m.\u001b[39mrcParams[\u001b[38;5;124m'\u001b[39m\u001b[38;5;124mfigure.figsize\u001b[39m\u001b[38;5;124m'\u001b[39m] \u001b[38;5;241m=\u001b[39m [\u001b[38;5;241m20.0\u001b[39m, \u001b[38;5;241m7.0\u001b[39m]\n\u001b[1;32m      4\u001b[0m plt\u001b[38;5;241m.\u001b[39mrcParams\u001b[38;5;241m.\u001b[39mupdate({\u001b[38;5;124m'\u001b[39m\u001b[38;5;124mfont.size\u001b[39m\u001b[38;5;124m'\u001b[39m: \u001b[38;5;241m22\u001b[39m,})\n\u001b[0;32m----> 6\u001b[0m \u001b[43msns\u001b[49m\u001b[38;5;241m.\u001b[39mset_palette(\u001b[38;5;124m'\u001b[39m\u001b[38;5;124mviridis\u001b[39m\u001b[38;5;124m'\u001b[39m)\n\u001b[1;32m      7\u001b[0m sns\u001b[38;5;241m.\u001b[39mset_style(\u001b[38;5;124m'\u001b[39m\u001b[38;5;124mwhite\u001b[39m\u001b[38;5;124m'\u001b[39m)\n\u001b[1;32m      8\u001b[0m sns\u001b[38;5;241m.\u001b[39mset_context(\u001b[38;5;124m'\u001b[39m\u001b[38;5;124mtalk\u001b[39m\u001b[38;5;124m'\u001b[39m, font_scale\u001b[38;5;241m=\u001b[39m\u001b[38;5;241m0.8\u001b[39m)\n",
      "\u001b[0;31mNameError\u001b[0m: name 'sns' is not defined"
     ]
    }
   ],
   "source": [
    "\n",
    "\n",
    "%matplotlib inline\n",
    "\n",
    "plt.rcParams['figure.figsize'] = [20.0, 7.0]\n",
    "plt.rcParams.update({'font.size': 22,})\n",
    "\n",
    "sns.set_palette('viridis')\n",
    "sns.set_style('white')\n",
    "sns.set_context('talk', font_scale=0.8)\n",
    " \n"
   ]
  },
  {
   "cell_type": "code",
   "execution_count": 78,
   "id": "44b12553",
   "metadata": {},
   "outputs": [
    {
     "name": "stdout",
     "output_type": "stream",
     "text": [
      "0.0069671701693875265\n",
      "0.0064411590850316225\n"
     ]
    },
    {
     "name": "stderr",
     "output_type": "stream",
     "text": [
      "/home/patrickchirdon/Documents/biosortia-lipinski/biosortia/lib/python3.10/site-packages/sklearn/linear_model/_coordinate_descent.py:1561: DataConversionWarning: A column-vector y was passed when a 1d array was expected. Please change the shape of y to (n_samples, ), for example using ravel().\n",
      "  y = column_or_1d(y, warn=True)\n"
     ]
    }
   ],
   "source": [
    "X_plot = np.linspace(0, 10, 1000)[:, None]\n",
    "scaler = preprocessing.StandardScaler()\n",
    "list_x = scaler.fit_transform(list_x)\n",
    "list_y = np.nan_to_num(list_y)\n",
    "\n",
    "list_x = np.nan_to_num(list_x)\n",
    "\n",
    "list_y=np.asarray(list_y)\n",
    "\n",
    "list_y=list_y.reshape(1, -1)\n",
    "list_y = scaler.fit_transform(list_y)\n",
    "list_y\n",
    "n_samples, n_features = 1, 5\n",
    "#krr = KernelRidge(alpha=5)\n",
    "#krr.fit(list_x, list_y)\n",
    "#predy=krr.predict(list_x)\n",
    "#krr.score(list_y, predy )\n",
    "ridge = linear_model.Ridge(alpha=.1)\n",
    "lasso = linear_model.Lasso(alpha=1, max_iter = 100000)\n",
    "\n",
    "# ####################\n",
    "# Fit regression model\n",
    "from sklearn.linear_model import LassoCV\n",
    "\n",
    "#Lasso Cross validation\n",
    "lasso_cv = LassoCV(alphas = [0.0001, 0.001,0.01, 0.1, 1, 10], random_state=0).fit(trainX, trainY)\n",
    "\n",
    "\n",
    "#score\n",
    "print(lasso_cv.score(trainX, trainY))\n",
    "print(lasso_cv.score(testX, testY))\n",
    "\n",
    "\n",
    "elastic = linear_model.ElasticNet()\n",
    "lasso_lars = linear_model.LassoLars()\n",
    "bayesian_ridge = linear_model.BayesianRidge()\n",
    "logistic = linear_model.LogisticRegression(solver='liblinear')\n",
    "sgd = linear_model.SGDRegressor()\n",
    "\n",
    "models = [ridge, lasso, elastic, lasso_lars, bayesian_ridge, logistic, sgd]\n",
    "\n"
   ]
  },
  {
   "cell_type": "code",
   "execution_count": 79,
   "id": "90b715aa",
   "metadata": {},
   "outputs": [
    {
     "name": "stderr",
     "output_type": "stream",
     "text": [
      "/home/patrickchirdon/Documents/biosortia-lipinski/biosortia/lib/python3.10/site-packages/sklearn/utils/validation.py:1141: DataConversionWarning: A column-vector y was passed when a 1d array was expected. Please change the shape of y to (n_samples, ), for example using ravel().\n",
      "  y = column_or_1d(y, warn=True)\n",
      "/home/patrickchirdon/Documents/biosortia-lipinski/biosortia/lib/python3.10/site-packages/sklearn/utils/validation.py:1141: DataConversionWarning: A column-vector y was passed when a 1d array was expected. Please change the shape of y to (n_samples, ), for example using ravel().\n",
      "  y = column_or_1d(y, warn=True)\n"
     ]
    },
    {
     "data": {
      "text/html": [
       "<style>#sk-container-id-3 {color: black;background-color: white;}#sk-container-id-3 pre{padding: 0;}#sk-container-id-3 div.sk-toggleable {background-color: white;}#sk-container-id-3 label.sk-toggleable__label {cursor: pointer;display: block;width: 100%;margin-bottom: 0;padding: 0.3em;box-sizing: border-box;text-align: center;}#sk-container-id-3 label.sk-toggleable__label-arrow:before {content: \"▸\";float: left;margin-right: 0.25em;color: #696969;}#sk-container-id-3 label.sk-toggleable__label-arrow:hover:before {color: black;}#sk-container-id-3 div.sk-estimator:hover label.sk-toggleable__label-arrow:before {color: black;}#sk-container-id-3 div.sk-toggleable__content {max-height: 0;max-width: 0;overflow: hidden;text-align: left;background-color: #f0f8ff;}#sk-container-id-3 div.sk-toggleable__content pre {margin: 0.2em;color: black;border-radius: 0.25em;background-color: #f0f8ff;}#sk-container-id-3 input.sk-toggleable__control:checked~div.sk-toggleable__content {max-height: 200px;max-width: 100%;overflow: auto;}#sk-container-id-3 input.sk-toggleable__control:checked~label.sk-toggleable__label-arrow:before {content: \"▾\";}#sk-container-id-3 div.sk-estimator input.sk-toggleable__control:checked~label.sk-toggleable__label {background-color: #d4ebff;}#sk-container-id-3 div.sk-label input.sk-toggleable__control:checked~label.sk-toggleable__label {background-color: #d4ebff;}#sk-container-id-3 input.sk-hidden--visually {border: 0;clip: rect(1px 1px 1px 1px);clip: rect(1px, 1px, 1px, 1px);height: 1px;margin: -1px;overflow: hidden;padding: 0;position: absolute;width: 1px;}#sk-container-id-3 div.sk-estimator {font-family: monospace;background-color: #f0f8ff;border: 1px dotted black;border-radius: 0.25em;box-sizing: border-box;margin-bottom: 0.5em;}#sk-container-id-3 div.sk-estimator:hover {background-color: #d4ebff;}#sk-container-id-3 div.sk-parallel-item::after {content: \"\";width: 100%;border-bottom: 1px solid gray;flex-grow: 1;}#sk-container-id-3 div.sk-label:hover label.sk-toggleable__label {background-color: #d4ebff;}#sk-container-id-3 div.sk-serial::before {content: \"\";position: absolute;border-left: 1px solid gray;box-sizing: border-box;top: 0;bottom: 0;left: 50%;z-index: 0;}#sk-container-id-3 div.sk-serial {display: flex;flex-direction: column;align-items: center;background-color: white;padding-right: 0.2em;padding-left: 0.2em;position: relative;}#sk-container-id-3 div.sk-item {position: relative;z-index: 1;}#sk-container-id-3 div.sk-parallel {display: flex;align-items: stretch;justify-content: center;background-color: white;position: relative;}#sk-container-id-3 div.sk-item::before, #sk-container-id-3 div.sk-parallel-item::before {content: \"\";position: absolute;border-left: 1px solid gray;box-sizing: border-box;top: 0;bottom: 0;left: 50%;z-index: -1;}#sk-container-id-3 div.sk-parallel-item {display: flex;flex-direction: column;z-index: 1;position: relative;background-color: white;}#sk-container-id-3 div.sk-parallel-item:first-child::after {align-self: flex-end;width: 50%;}#sk-container-id-3 div.sk-parallel-item:last-child::after {align-self: flex-start;width: 50%;}#sk-container-id-3 div.sk-parallel-item:only-child::after {width: 0;}#sk-container-id-3 div.sk-dashed-wrapped {border: 1px dashed gray;margin: 0 0.4em 0.5em 0.4em;box-sizing: border-box;padding-bottom: 0.4em;background-color: white;}#sk-container-id-3 div.sk-label label {font-family: monospace;font-weight: bold;display: inline-block;line-height: 1.2em;}#sk-container-id-3 div.sk-label-container {text-align: center;}#sk-container-id-3 div.sk-container {/* jupyter's `normalize.less` sets `[hidden] { display: none; }` but bootstrap.min.css set `[hidden] { display: none !important; }` so we also need the `!important` here to be able to override the default hidden behavior on the sphinx rendered scikit-learn.org. See: https://github.com/scikit-learn/scikit-learn/issues/21755 */display: inline-block !important;position: relative;}#sk-container-id-3 div.sk-text-repr-fallback {display: none;}</style><div id=\"sk-container-id-3\" class=\"sk-top-container\"><div class=\"sk-text-repr-fallback\"><pre>SGDRegressor()</pre><b>In a Jupyter environment, please rerun this cell to show the HTML representation or trust the notebook. <br />On GitHub, the HTML representation is unable to render, please try loading this page with nbviewer.org.</b></div><div class=\"sk-container\" hidden><div class=\"sk-item\"><div class=\"sk-estimator sk-toggleable\"><input class=\"sk-toggleable__control sk-hidden--visually\" id=\"sk-estimator-id-3\" type=\"checkbox\" checked><label for=\"sk-estimator-id-3\" class=\"sk-toggleable__label sk-toggleable__label-arrow\">SGDRegressor</label><div class=\"sk-toggleable__content\"><pre>SGDRegressor()</pre></div></div></div></div></div>"
      ],
      "text/plain": [
       "SGDRegressor()"
      ]
     },
     "execution_count": 79,
     "metadata": {},
     "output_type": "execute_result"
    }
   ],
   "source": [
    "trainX.reshape(1, -1)\n",
    "trainY.reshape(1,-1)\n",
    "ridge.fit(trainX, trainY)\n",
    "lasso.fit(trainX, trainY)\n",
    "elastic.fit(trainX, trainY)\n",
    "lasso_lars.fit(trainX, trainY)\n",
    "bayesian_ridge.fit(trainX, trainY)\n",
    "sgd.fit(trainX,trainY)"
   ]
  },
  {
   "cell_type": "code",
   "execution_count": 80,
   "id": "21fd48cb",
   "metadata": {},
   "outputs": [],
   "source": [
    "ypredridge=ridge.predict(testX)\n",
    "ypredlasso=lasso.predict(testX)\n",
    "ypredelastic=elastic.predict(testX)\n",
    "ypredlassolars = lasso_lars.predict(testX)\n",
    "ypredbayesian=bayesian_ridge.predict(testX)\n",
    "sgdpredict=sgd.predict(testX)"
   ]
  },
  {
   "cell_type": "code",
   "execution_count": 81,
   "id": "1099ccdc",
   "metadata": {},
   "outputs": [
    {
     "name": "stdout",
     "output_type": "stream",
     "text": [
      "R-squared: 1.0\n"
     ]
    }
   ],
   "source": [
    "#testY[~np.isfinite(testY)] = 0\n",
    "#testY[~np.isnan(testY)]=0\n",
    "ypredlasso[~np.isfinite(ypredlasso)] = 0\n",
    "\n",
    "lassoscore = lasso.score(testY, ypredlasso)\n",
    "print(\"R-squared:\", lassoscore)"
   ]
  },
  {
   "cell_type": "code",
   "execution_count": 82,
   "id": "af0170a8",
   "metadata": {},
   "outputs": [
    {
     "name": "stdout",
     "output_type": "stream",
     "text": [
      "R-squared: -0.7702113518217613\n"
     ]
    }
   ],
   "source": [
    "\n",
    "score = bayesian_ridge.score(testY, ypredridge)\n",
    "print(\"R-squared:\", score)"
   ]
  },
  {
   "cell_type": "code",
   "execution_count": 83,
   "id": "7ae3dd59",
   "metadata": {},
   "outputs": [
    {
     "data": {
      "text/plain": [
       "<function sklearn.metrics._regression.mean_squared_error(y_true, y_pred, *, sample_weight=None, multioutput='uniform_average', squared=True)>"
      ]
     },
     "execution_count": 83,
     "metadata": {},
     "output_type": "execute_result"
    }
   ],
   "source": [
    "yx=lasso_lars.score(testY, ypredlassolars)\n",
    "\n",
    "from sklearn.metrics import mean_squared_error\n",
    "\n",
    "mean_squared_error(testY, ypredlassolars)\n",
    "\n",
    "#z = (x - u) / s\n",
    "#where u is mean and s is standard dev\n",
    "#x=  375.801398\n",
    "\n",
    "#std is    151.243536\n",
    "mean_squared_error\n"
   ]
  },
  {
   "cell_type": "code",
   "execution_count": 84,
   "id": "52995d74",
   "metadata": {},
   "outputs": [
    {
     "data": {
      "text/plain": [
       "1.0"
      ]
     },
     "execution_count": 84,
     "metadata": {},
     "output_type": "execute_result"
    }
   ],
   "source": [
    "elastic.score(testY, ypredelastic)"
   ]
  },
  {
   "cell_type": "code",
   "execution_count": 85,
   "id": "c6adbfe4",
   "metadata": {},
   "outputs": [
    {
     "data": {
      "text/plain": [
       "1.0"
      ]
     },
     "execution_count": 85,
     "metadata": {},
     "output_type": "execute_result"
    }
   ],
   "source": [
    "lasso.score(testY, ypredlasso)\n",
    "\n"
   ]
  },
  {
   "cell_type": "code",
   "execution_count": 86,
   "id": "c9daf433",
   "metadata": {},
   "outputs": [
    {
     "data": {
      "text/plain": [
       "-0.7752283560685156"
      ]
     },
     "execution_count": 86,
     "metadata": {},
     "output_type": "execute_result"
    }
   ],
   "source": [
    "ridge.score(testY, ypredridge)"
   ]
  },
  {
   "cell_type": "code",
   "execution_count": 87,
   "id": "0df67a16",
   "metadata": {},
   "outputs": [
    {
     "data": {
      "text/plain": [
       "array([[ 3.57083],\n",
       "       [-1.22735],\n",
       "       [ 1.66544],\n",
       "       ...,\n",
       "       [ 0.03596],\n",
       "       [-1.00314],\n",
       "       [ 1.56236]])"
      ]
     },
     "execution_count": 87,
     "metadata": {},
     "output_type": "execute_result"
    }
   ],
   "source": [
    "trainX"
   ]
  },
  {
   "cell_type": "code",
   "execution_count": 88,
   "id": "4bad011b",
   "metadata": {},
   "outputs": [
    {
     "data": {
      "text/plain": [
       "array([[-0.17885],\n",
       "       [-0.17885],\n",
       "       [-0.18726],\n",
       "       ...,\n",
       "       [-0.14981],\n",
       "       [-0.14847],\n",
       "       [-0.15574]])"
      ]
     },
     "execution_count": 88,
     "metadata": {},
     "output_type": "execute_result"
    }
   ],
   "source": [
    "testY"
   ]
  },
  {
   "cell_type": "code",
   "execution_count": 89,
   "id": "9a552b99",
   "metadata": {},
   "outputs": [
    {
     "name": "stdout",
     "output_type": "stream",
     "text": [
      "Predicted values  [0.00001 0.00001 0.00001 0.00001 0.00001 0.00001 0.00001 0.00001 0.00001\n",
      " 0.00001]\n"
     ]
    }
   ],
   "source": [
    "ypred=lasso.predict(testX)\n",
    "\n",
    "#z = (x - u) / s\n",
    "#where u is mean and s is standard dev\n",
    "\n",
    "\n",
    "print( \"Predicted values \", np.round( ypred[:10], 10 ) ) \n",
    "\n"
   ]
  },
  {
   "cell_type": "code",
   "execution_count": 90,
   "id": "941fda5e",
   "metadata": {},
   "outputs": [
    {
     "name": "stdout",
     "output_type": "stream",
     "text": [
      "         Actual  Predicted\n",
      "0     -0.178852   0.000008\n",
      "1     -0.178852   0.000008\n",
      "2     -0.187258   0.000008\n",
      "3     -0.142876   0.000008\n",
      "4     -0.190326   0.000008\n",
      "...         ...        ...\n",
      "12088 -0.165907   0.000008\n",
      "12089 -0.202094   0.000008\n",
      "12090 -0.149811   0.000008\n",
      "12091 -0.148466   0.000008\n",
      "12092 -0.155737   0.000008\n",
      "\n",
      "[12093 rows x 2 columns]\n"
     ]
    }
   ],
   "source": [
    "df_preds = pd.DataFrame({'Actual': testY.squeeze(), 'Predicted': ypred.squeeze()})\n",
    "print(df_preds)"
   ]
  },
  {
   "cell_type": "code",
   "execution_count": 91,
   "id": "d19df736",
   "metadata": {},
   "outputs": [
    {
     "name": "stdout",
     "output_type": "stream",
     "text": [
      "Mean absolute error: 0.32300564615921\n",
      "Mean squared error: 0.92476286335726\n",
      "Root mean squared error: 0.96165\n"
     ]
    }
   ],
   "source": [
    "from sklearn.metrics import mean_absolute_error, mean_squared_error\n",
    "import numpy as np\n",
    "mae = mean_absolute_error(testY, ypred)\n",
    "mse = mean_squared_error(testY, ypred)\n",
    "rmse = np.sqrt(mse)\n",
    "print(f'Mean absolute error: {mae:.14f}')\n",
    "print(f'Mean squared error: {mse:.14f}')\n",
    "print(f'Root mean squared error: {rmse:.5f}')"
   ]
  },
  {
   "cell_type": "code",
   "execution_count": 120,
   "id": "b1751313",
   "metadata": {},
   "outputs": [
    {
     "name": "stdout",
     "output_type": "stream",
     "text": [
      "            mz  pains  fsp3  cacao  halflife   logs   logd  bioconcentration  \\\n",
      "0    93.773705      0     0 -4.689     0.116 -5.307  3.477             2.277   \n",
      "1   147.951980      0     0 -4.689     0.116 -5.307  3.477             2.277   \n",
      "2   148.747986      0     0 -4.689     0.116 -5.307  3.477             2.277   \n",
      "3   148.960230      0     0 -4.689     0.116 -5.307  3.477             2.277   \n",
      "4   149.058540      0     0 -4.689     0.116 -5.307  3.477             2.277   \n",
      "5   149.309520      0     0 -4.689     0.116 -5.307  3.477             2.277   \n",
      "6   149.491130      0     0 -4.689     0.116 -5.307  3.477             2.277   \n",
      "7   154.200317      0     0 -4.689     0.116 -5.307  3.477             2.277   \n",
      "8   165.050537      0     0 -4.689     0.116 -5.307  3.477             2.277   \n",
      "9   189.064650      0     0 -4.689     0.116 -5.307  3.477             2.277   \n",
      "10  204.141030      0     0 -4.689     0.116 -5.307  3.477             2.277   \n",
      "11  310.129480      0     0 -4.689     0.116 -5.307  3.477             2.277   \n",
      "12  311.138480      0     0 -4.689     0.116 -5.307  3.477             2.277   \n",
      "13  331.095850      0     0 -4.689     0.116 -5.307  3.477             2.277   \n",
      "14  366.384200      0     0 -4.689     0.116 -5.307  3.477             2.277   \n",
      "15  367.198910      0     0 -4.689     0.116 -5.307  3.477             2.277   \n",
      "\n",
      "    igc50  lc50fm  lc50dm  \n",
      "0   4.639   6.046   6.011  \n",
      "1   4.639   6.046   6.011  \n",
      "2   4.639   6.046   6.011  \n",
      "3   4.639   6.046   6.011  \n",
      "4   4.639   6.046   6.011  \n",
      "5   4.639   6.046   6.011  \n",
      "6   4.639   6.046   6.011  \n",
      "7   4.639   6.046   6.011  \n",
      "8   4.639   6.046   6.011  \n",
      "9   4.639   6.046   6.011  \n",
      "10  4.639   6.046   6.011  \n",
      "11  4.639   6.046   6.011  \n",
      "12  4.639   6.046   6.011  \n",
      "13  4.639   6.046   6.011  \n",
      "14  4.639   6.046   6.011  \n",
      "15  4.639   6.046   6.011  \n"
     ]
    },
    {
     "data": {
      "text/plain": [
       "0    0.0\n",
       "dtype: float64"
      ]
     },
     "execution_count": 120,
     "metadata": {},
     "output_type": "execute_result"
    }
   ],
   "source": [
    "mydf=pd.read_csv('Boscalid.csv',  sep=',')\n",
    "mydf.columns=['mz', 'pains', 'fsp3', 'cacao', 'halflife', 'logs', 'logd', 'bioconcentration', 'igc50', 'lc50fm', 'lc50dm']\n",
    "#mydf.columns=['molecule number', 'FDA approved name', 'mz', 'smiles', 'mw', 'alogp', 'hba', 'hbd', 'psa', 'rotb', 'arom', 'alerts', 'qed', 'fraction sp3 hybridized carbons']\n",
    "\n",
    "# Initialize lists and set random seed\n",
    "print(mydf)\n",
    "list_x = mydf['mz']\n",
    "\n",
    "list_x=list_x.astype(float)\n",
    "list_x=list_x.to_numpy().reshape(-1,1)\n",
    "list_y = mydf['bioconcentration'].to_numpy().reshape(-1,1)\n",
    "list_x_pred = []\n",
    "list_y_real = []\n",
    "\n",
    "np.set_printoptions(precision = 5, suppress = True)\n",
    "\n",
    "list_ya = np.nan_to_num(list_y)\n",
    "\n",
    "list_xa = np.nan_to_num(list_x)\n",
    "\n",
    "        \n",
    "list_y=pd.DataFrame(list_y)\n",
    "\n",
    "ymean=list_y.mean()\n",
    "ystd=list_y.std()\n",
    "ystd"
   ]
  },
  {
   "cell_type": "code",
   "execution_count": 121,
   "id": "236fefc1",
   "metadata": {},
   "outputs": [
    {
     "name": "stdout",
     "output_type": "stream",
     "text": [
      "    Actual  Predicted\n",
      "0      0.0   0.000008\n",
      "1      0.0   0.000008\n",
      "2      0.0   0.000008\n",
      "3      0.0   0.000008\n",
      "4      0.0   0.000008\n",
      "5      0.0   0.000008\n",
      "6      0.0   0.000008\n",
      "7      0.0   0.000008\n",
      "8      0.0   0.000008\n",
      "9      0.0   0.000008\n",
      "10     0.0   0.000008\n",
      "11     0.0   0.000008\n",
      "12     0.0   0.000008\n",
      "13     0.0   0.000008\n",
      "14     0.0   0.000008\n",
      "15     0.0   0.000008\n"
     ]
    }
   ],
   "source": [
    "\n",
    "scaler = preprocessing.StandardScaler()\n",
    "list_x = scaler.fit_transform(list_xa)\n",
    "list_y = scaler.fit_transform(list_ya)\n",
    "\n",
    "\n",
    "ypredridge=ridge.predict(list_x)\n",
    "ypredlasso=elastic.predict(list_x)\n",
    "\n",
    "ypredelastic=elastic.predict(list_x)\n",
    "ypredlassolars = lasso_lars.predict(list_x)\n",
    "ypredbayesian=bayesian_ridge.predict(list_x)\n",
    "sgdpredict=sgd.predict(list_x)\n",
    "\n",
    "yhat = scaler.inverse_transform(ypredridge)\n",
    "df_preds = pd.DataFrame({'Actual': list_y.squeeze(), 'Predicted': ypredlasso.squeeze()})\n",
    "print(df_preds)"
   ]
  },
  {
   "cell_type": "code",
   "execution_count": 122,
   "id": "a91a8570",
   "metadata": {},
   "outputs": [],
   "source": [
    "#ypredridge=ridge.predict(testX)\n",
    "ypredlasso=lasso.predict(list_x)"
   ]
  },
  {
   "cell_type": "code",
   "execution_count": 123,
   "id": "0d3686ba",
   "metadata": {},
   "outputs": [
    {
     "data": {
      "text/plain": [
       "array([0.00001, 0.00001, 0.00001, 0.00001, 0.00001, 0.00001, 0.00001,\n",
       "       0.00001, 0.00001, 0.00001, 0.00001, 0.00001, 0.00001, 0.00001,\n",
       "       0.00001, 0.00001])"
      ]
     },
     "execution_count": 123,
     "metadata": {},
     "output_type": "execute_result"
    }
   ],
   "source": [
    "ypredlasso"
   ]
  },
  {
   "cell_type": "code",
   "execution_count": 125,
   "id": "5f27ed75",
   "metadata": {},
   "outputs": [
    {
     "name": "stdout",
     "output_type": "stream",
     "text": [
      "-0.010310433521434192\n"
     ]
    }
   ],
   "source": [
    "ystd=testY.std()\n",
    "ymean=testY.mean()\n",
    "print(ymean)"
   ]
  },
  {
   "cell_type": "code",
   "execution_count": 111,
   "id": "3da17457",
   "metadata": {},
   "outputs": [
    {
     "name": "stdout",
     "output_type": "stream",
     "text": [
      "0   -5.306992\n",
      "dtype: float64\n",
      "0.9615905499019554\n"
     ]
    }
   ],
   "source": [
    "#z = (x - u) / s\n",
    "#where u is mean and s is standard dev\n",
    "myval=ypredlasso[0] * ystd + ymean\n",
    "\n",
    "print(myval)\n",
    "print(ystd)"
   ]
  },
  {
   "cell_type": "code",
   "execution_count": 674,
   "id": "530ac2e4",
   "metadata": {},
   "outputs": [
    {
     "data": {
      "text/plain": [
       "0.149406"
      ]
     },
     "execution_count": 674,
     "metadata": {},
     "output_type": "execute_result"
    }
   ],
   "source": [
    "\n",
    "\n",
    ".000815 * 5.681747e-17 + 0.149406"
   ]
  },
  {
   "cell_type": "code",
   "execution_count": 675,
   "id": "7aa9f331",
   "metadata": {},
   "outputs": [
    {
     "data": {
      "text/plain": [
       "0.0"
      ]
     },
     "execution_count": 675,
     "metadata": {},
     "output_type": "execute_result"
    }
   ],
   "source": [
    "list_y.std()"
   ]
  },
  {
   "cell_type": "code",
   "execution_count": 676,
   "id": "5b5a32ca",
   "metadata": {},
   "outputs": [
    {
     "ename": "AttributeError",
     "evalue": "'numpy.ndarray' object has no attribute 'columns'",
     "output_type": "error",
     "traceback": [
      "\u001b[0;31m---------------------------------------------------------------------------\u001b[0m",
      "\u001b[0;31mAttributeError\u001b[0m                            Traceback (most recent call last)",
      "Cell \u001b[0;32mIn[676], line 1\u001b[0m\n\u001b[0;32m----> 1\u001b[0m \u001b[43mlist_y\u001b[49m\u001b[38;5;241;43m.\u001b[39;49m\u001b[43mcolumns\u001b[49m\u001b[38;5;241m=\u001b[39m[\u001b[38;5;124m'\u001b[39m\u001b[38;5;124mqed\u001b[39m\u001b[38;5;124m'\u001b[39m]\n",
      "\u001b[0;31mAttributeError\u001b[0m: 'numpy.ndarray' object has no attribute 'columns'"
     ]
    }
   ],
   "source": [
    "list_y.columns=['qed']"
   ]
  },
  {
   "cell_type": "code",
   "execution_count": 677,
   "id": "d6e0bc69",
   "metadata": {},
   "outputs": [
    {
     "ename": "IndexError",
     "evalue": "only integers, slices (`:`), ellipsis (`...`), numpy.newaxis (`None`) and integer or boolean arrays are valid indices",
     "output_type": "error",
     "traceback": [
      "\u001b[0;31m---------------------------------------------------------------------------\u001b[0m",
      "\u001b[0;31mIndexError\u001b[0m                                Traceback (most recent call last)",
      "Cell \u001b[0;32mIn[677], line 1\u001b[0m\n\u001b[0;32m----> 1\u001b[0m \u001b[43mlist_y\u001b[49m\u001b[43m[\u001b[49m\u001b[38;5;124;43m'\u001b[39;49m\u001b[38;5;124;43mqed\u001b[39;49m\u001b[38;5;124;43m'\u001b[39;49m\u001b[43m]\u001b[49m\n",
      "\u001b[0;31mIndexError\u001b[0m: only integers, slices (`:`), ellipsis (`...`), numpy.newaxis (`None`) and integer or boolean arrays are valid indices"
     ]
    }
   ],
   "source": [
    "list_y['qed']"
   ]
  },
  {
   "cell_type": "code",
   "execution_count": 678,
   "id": "3ca6b853",
   "metadata": {},
   "outputs": [
    {
     "ename": "IndexError",
     "evalue": "only integers, slices (`:`), ellipsis (`...`), numpy.newaxis (`None`) and integer or boolean arrays are valid indices",
     "output_type": "error",
     "traceback": [
      "\u001b[0;31m---------------------------------------------------------------------------\u001b[0m",
      "\u001b[0;31mIndexError\u001b[0m                                Traceback (most recent call last)",
      "Cell \u001b[0;32mIn[678], line 1\u001b[0m\n\u001b[0;32m----> 1\u001b[0m \u001b[38;5;28mprint\u001b[39m(\u001b[38;5;124m\"\u001b[39m\u001b[38;5;124mstd of arr : \u001b[39m\u001b[38;5;124m\"\u001b[39m, np\u001b[38;5;241m.\u001b[39mstd(\u001b[43mlist_y\u001b[49m\u001b[43m[\u001b[49m\u001b[38;5;124;43m'\u001b[39;49m\u001b[38;5;124;43mqed\u001b[39;49m\u001b[38;5;124;43m'\u001b[39;49m\u001b[43m]\u001b[49m))\n",
      "\u001b[0;31mIndexError\u001b[0m: only integers, slices (`:`), ellipsis (`...`), numpy.newaxis (`None`) and integer or boolean arrays are valid indices"
     ]
    }
   ],
   "source": [
    "print(\"std of arr : \", np.std(list_y['qed']))\n",
    "  "
   ]
  },
  {
   "cell_type": "code",
   "execution_count": 679,
   "id": "139a3113",
   "metadata": {},
   "outputs": [
    {
     "name": "stderr",
     "output_type": "stream",
     "text": [
      "/tmp/ipykernel_35081/3908447724.py:1: DtypeWarning: Columns (13) have mixed types. Specify dtype option on import or set low_memory=False.\n",
      "  mydf=pd.read_csv('GNPStrainqed',  sep='\\t')\n"
     ]
    }
   ],
   "source": [
    "mydf=pd.read_csv('GNPStrainqed',  sep='\\t')"
   ]
  },
  {
   "cell_type": "code",
   "execution_count": null,
   "id": "99d6d417",
   "metadata": {},
   "outputs": [],
   "source": []
  },
  {
   "cell_type": "code",
   "execution_count": null,
   "id": "622019c6",
   "metadata": {},
   "outputs": [],
   "source": []
  },
  {
   "cell_type": "code",
   "execution_count": null,
   "id": "dd9e6399",
   "metadata": {},
   "outputs": [],
   "source": []
  },
  {
   "cell_type": "code",
   "execution_count": null,
   "id": "52f7cad5",
   "metadata": {},
   "outputs": [],
   "source": []
  },
  {
   "cell_type": "code",
   "execution_count": 525,
   "id": "c2fd33d4",
   "metadata": {},
   "outputs": [
    {
     "ename": "ValueError",
     "evalue": "Found input variables with inconsistent numbers of samples: [51, 71135]",
     "output_type": "error",
     "traceback": [
      "\u001b[0;31m---------------------------------------------------------------------------\u001b[0m",
      "\u001b[0;31mValueError\u001b[0m                                Traceback (most recent call last)",
      "Cell \u001b[0;32mIn[525], line 32\u001b[0m\n\u001b[1;32m     27\u001b[0m     SS_tot \u001b[38;5;241m=\u001b[39m K\u001b[38;5;241m.\u001b[39msum(K\u001b[38;5;241m.\u001b[39msquare( y_test \u001b[38;5;241m-\u001b[39m K\u001b[38;5;241m.\u001b[39mmean(y_test) ) ) \n\u001b[1;32m     28\u001b[0m     \u001b[38;5;28;01mreturn\u001b[39;00m ( \u001b[38;5;241m1\u001b[39m \u001b[38;5;241m-\u001b[39m SS_res\u001b[38;5;241m/\u001b[39m(SS_tot \u001b[38;5;241m+\u001b[39m K\u001b[38;5;241m.\u001b[39mepsilon()) )\n\u001b[0;32m---> 32\u001b[0m X_train, X_test, y_train, y_test \u001b[38;5;241m=\u001b[39m \u001b[43mtrain_test_split\u001b[49m\u001b[43m(\u001b[49m\u001b[43mX\u001b[49m\u001b[43m,\u001b[49m\u001b[43m \u001b[49m\u001b[43my\u001b[49m\u001b[43m,\u001b[49m\u001b[43m \u001b[49m\u001b[43mtest_size\u001b[49m\u001b[43m \u001b[49m\u001b[38;5;241;43m=\u001b[39;49m\u001b[43m \u001b[49m\u001b[38;5;241;43m0.2\u001b[39;49m\u001b[43m)\u001b[49m\n\u001b[1;32m     34\u001b[0m model \u001b[38;5;241m=\u001b[39m Sequential()\n\u001b[1;32m     35\u001b[0m model\u001b[38;5;241m.\u001b[39madd(Dense(\u001b[38;5;241m600\u001b[39m, input_dim\u001b[38;5;241m=\u001b[39mX\u001b[38;5;241m.\u001b[39mshape[\u001b[38;5;241m1\u001b[39m], activation\u001b[38;5;241m=\u001b[39m\u001b[38;5;124m'\u001b[39m\u001b[38;5;124mrelu\u001b[39m\u001b[38;5;124m'\u001b[39m))\n",
      "File \u001b[0;32m~/Documents/biosortia-lipinski/biosortia/lib/python3.10/site-packages/sklearn/model_selection/_split.py:2559\u001b[0m, in \u001b[0;36mtrain_test_split\u001b[0;34m(test_size, train_size, random_state, shuffle, stratify, *arrays)\u001b[0m\n\u001b[1;32m   2556\u001b[0m \u001b[38;5;28;01mif\u001b[39;00m n_arrays \u001b[38;5;241m==\u001b[39m \u001b[38;5;241m0\u001b[39m:\n\u001b[1;32m   2557\u001b[0m     \u001b[38;5;28;01mraise\u001b[39;00m \u001b[38;5;167;01mValueError\u001b[39;00m(\u001b[38;5;124m\"\u001b[39m\u001b[38;5;124mAt least one array required as input\u001b[39m\u001b[38;5;124m\"\u001b[39m)\n\u001b[0;32m-> 2559\u001b[0m arrays \u001b[38;5;241m=\u001b[39m \u001b[43mindexable\u001b[49m\u001b[43m(\u001b[49m\u001b[38;5;241;43m*\u001b[39;49m\u001b[43marrays\u001b[49m\u001b[43m)\u001b[49m\n\u001b[1;32m   2561\u001b[0m n_samples \u001b[38;5;241m=\u001b[39m _num_samples(arrays[\u001b[38;5;241m0\u001b[39m])\n\u001b[1;32m   2562\u001b[0m n_train, n_test \u001b[38;5;241m=\u001b[39m _validate_shuffle_split(\n\u001b[1;32m   2563\u001b[0m     n_samples, test_size, train_size, default_test_size\u001b[38;5;241m=\u001b[39m\u001b[38;5;241m0.25\u001b[39m\n\u001b[1;32m   2564\u001b[0m )\n",
      "File \u001b[0;32m~/Documents/biosortia-lipinski/biosortia/lib/python3.10/site-packages/sklearn/utils/validation.py:443\u001b[0m, in \u001b[0;36mindexable\u001b[0;34m(*iterables)\u001b[0m\n\u001b[1;32m    424\u001b[0m \u001b[38;5;250m\u001b[39m\u001b[38;5;124;03m\"\"\"Make arrays indexable for cross-validation.\u001b[39;00m\n\u001b[1;32m    425\u001b[0m \n\u001b[1;32m    426\u001b[0m \u001b[38;5;124;03mChecks consistent length, passes through None, and ensures that everything\u001b[39;00m\n\u001b[0;32m   (...)\u001b[0m\n\u001b[1;32m    439\u001b[0m \u001b[38;5;124;03m    sparse matrix, or dataframe) or `None`.\u001b[39;00m\n\u001b[1;32m    440\u001b[0m \u001b[38;5;124;03m\"\"\"\u001b[39;00m\n\u001b[1;32m    442\u001b[0m result \u001b[38;5;241m=\u001b[39m [_make_indexable(X) \u001b[38;5;28;01mfor\u001b[39;00m X \u001b[38;5;129;01min\u001b[39;00m iterables]\n\u001b[0;32m--> 443\u001b[0m \u001b[43mcheck_consistent_length\u001b[49m\u001b[43m(\u001b[49m\u001b[38;5;241;43m*\u001b[39;49m\u001b[43mresult\u001b[49m\u001b[43m)\u001b[49m\n\u001b[1;32m    444\u001b[0m \u001b[38;5;28;01mreturn\u001b[39;00m result\n",
      "File \u001b[0;32m~/Documents/biosortia-lipinski/biosortia/lib/python3.10/site-packages/sklearn/utils/validation.py:397\u001b[0m, in \u001b[0;36mcheck_consistent_length\u001b[0;34m(*arrays)\u001b[0m\n\u001b[1;32m    395\u001b[0m uniques \u001b[38;5;241m=\u001b[39m np\u001b[38;5;241m.\u001b[39munique(lengths)\n\u001b[1;32m    396\u001b[0m \u001b[38;5;28;01mif\u001b[39;00m \u001b[38;5;28mlen\u001b[39m(uniques) \u001b[38;5;241m>\u001b[39m \u001b[38;5;241m1\u001b[39m:\n\u001b[0;32m--> 397\u001b[0m     \u001b[38;5;28;01mraise\u001b[39;00m \u001b[38;5;167;01mValueError\u001b[39;00m(\n\u001b[1;32m    398\u001b[0m         \u001b[38;5;124m\"\u001b[39m\u001b[38;5;124mFound input variables with inconsistent numbers of samples: \u001b[39m\u001b[38;5;132;01m%r\u001b[39;00m\u001b[38;5;124m\"\u001b[39m\n\u001b[1;32m    399\u001b[0m         \u001b[38;5;241m%\u001b[39m [\u001b[38;5;28mint\u001b[39m(l) \u001b[38;5;28;01mfor\u001b[39;00m l \u001b[38;5;129;01min\u001b[39;00m lengths]\n\u001b[1;32m    400\u001b[0m     )\n",
      "\u001b[0;31mValueError\u001b[0m: Found input variables with inconsistent numbers of samples: [51, 71135]"
     ]
    }
   ],
   "source": [
    "from keras.models import Sequential\n",
    "from keras.layers import Dense, Dropout\n",
    "from keras.callbacks import ReduceLROnPlateau\n",
    "from keras import regularizers as WeightRegularizer\n",
    "from keras.optimizers import SGD\n",
    "    #SKlearn for metrics and datasplits\n",
    "from sklearn.model_selection import cross_validate\n",
    "from sklearn.metrics import roc_auc_score, roc_curve\n",
    "    #Matplotlib for plotting\n",
    "from matplotlib import pyplot as plt\n",
    "from keras.regularizers import l2\n",
    "\n",
    "    # In[11]:\n",
    "\n",
    "\n",
    "    #Convert to Numpy arrays\n",
    "from sklearn.preprocessing import StandardScaler\n",
    "X = np.array(list(list_x))\n",
    "y = pd.read_csv('myval.csv', sep=',')\n",
    "y=y.iloc[:, 1]\n",
    "\n",
    "\n",
    "from keras import backend as K\n",
    "\n",
    "def r2_score(y_test, y_pred):\n",
    "    SS_res =  K.sum(K.square( y_test-y_pred )) \n",
    "    SS_tot = K.sum(K.square( y_test - K.mean(y_test) ) ) \n",
    "    return ( 1 - SS_res/(SS_tot + K.epsilon()) )\n",
    "\n",
    "\n",
    "\n",
    "X_train, X_test, y_train, y_test = train_test_split(X, y, test_size = 0.2)\n",
    "\n",
    "model = Sequential()\n",
    "model.add(Dense(600, input_dim=X.shape[1], activation='relu'))\n",
    "model.add(Dropout(0.6, input_shape=(1,)))\n",
    "model.add(Dense(600, input_dim=X.shape[1], activation='relu'))\n",
    "model.add(Dropout(0.6, input_shape=(1,)))\n",
    "model.add(Dense(6, activation='sigmoid'))\n",
    "    # In[34]:\n",
    "\n",
    "model.compile(loss='mean_squared_error',\n",
    "              optimizer='adam' , metrics = ['mae', 'mse', r2_score])\n",
    "model.fit(X_train, y_train, epochs=1, batch_size=2)\n",
    "    \n",
    "    \n",
    "y_pred = model.predict(X_test)\n",
    "\n",
    "   "
   ]
  },
  {
   "cell_type": "code",
   "execution_count": null,
   "id": "cf839c34",
   "metadata": {},
   "outputs": [],
   "source": [
    "y_train.size"
   ]
  },
  {
   "cell_type": "code",
   "execution_count": null,
   "id": "43739782",
   "metadata": {},
   "outputs": [],
   "source": [
    "X_train.size"
   ]
  },
  {
   "cell_type": "code",
   "execution_count": 344,
   "id": "e82afc5b",
   "metadata": {},
   "outputs": [
    {
     "data": {
      "text/plain": [
       "51"
      ]
     },
     "execution_count": 344,
     "metadata": {},
     "output_type": "execute_result"
    }
   ],
   "source": [
    "X.size"
   ]
  },
  {
   "cell_type": "code",
   "execution_count": 345,
   "id": "f90990ae",
   "metadata": {},
   "outputs": [
    {
     "data": {
      "text/plain": [
       "71135"
      ]
     },
     "execution_count": 345,
     "metadata": {},
     "output_type": "execute_result"
    }
   ],
   "source": [
    "y.size"
   ]
  },
  {
   "cell_type": "code",
   "execution_count": 346,
   "id": "18227e5e",
   "metadata": {},
   "outputs": [
    {
     "data": {
      "text/plain": [
       "array([-1.54052])"
      ]
     },
     "execution_count": 346,
     "metadata": {},
     "output_type": "execute_result"
    }
   ],
   "source": [
    "X[1]"
   ]
  },
  {
   "cell_type": "code",
   "execution_count": 227,
   "id": "208d24f9",
   "metadata": {},
   "outputs": [
    {
     "data": {
      "text/plain": [
       "0.0"
      ]
     },
     "execution_count": 227,
     "metadata": {},
     "output_type": "execute_result"
    }
   ],
   "source": [
    "y[1]"
   ]
  },
  {
   "cell_type": "code",
   "execution_count": 228,
   "id": "97d4df70",
   "metadata": {},
   "outputs": [
    {
     "data": {
      "text/plain": [
       "14227"
      ]
     },
     "execution_count": 228,
     "metadata": {},
     "output_type": "execute_result"
    }
   ],
   "source": [
    "y_test.size"
   ]
  },
  {
   "cell_type": "code",
   "execution_count": 229,
   "id": "afd17e1a",
   "metadata": {},
   "outputs": [
    {
     "data": {
      "text/plain": [
       "85362"
      ]
     },
     "execution_count": 229,
     "metadata": {},
     "output_type": "execute_result"
    }
   ],
   "source": [
    "y_pred.size\n"
   ]
  },
  {
   "cell_type": "code",
   "execution_count": null,
   "id": "b19d8d4c",
   "metadata": {},
   "outputs": [],
   "source": []
  },
  {
   "cell_type": "code",
   "execution_count": 230,
   "id": "9ed25caf",
   "metadata": {},
   "outputs": [
    {
     "data": {
      "text/plain": [
       "71135"
      ]
     },
     "execution_count": 230,
     "metadata": {},
     "output_type": "execute_result"
    }
   ],
   "source": [
    "y.size"
   ]
  },
  {
   "cell_type": "code",
   "execution_count": null,
   "id": "9970506f",
   "metadata": {},
   "outputs": [],
   "source": []
  }
 ],
 "metadata": {
  "kernelspec": {
   "display_name": "Python 3 (ipykernel)",
   "language": "python",
   "name": "python3"
  },
  "language_info": {
   "codemirror_mode": {
    "name": "ipython",
    "version": 3
   },
   "file_extension": ".py",
   "mimetype": "text/x-python",
   "name": "python",
   "nbconvert_exporter": "python",
   "pygments_lexer": "ipython3",
   "version": "3.10.6"
  }
 },
 "nbformat": 4,
 "nbformat_minor": 5
}
