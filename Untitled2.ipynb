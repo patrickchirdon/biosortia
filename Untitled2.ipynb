{
 "cells": [
  {
   "cell_type": "code",
   "execution_count": 4,
   "id": "7515f6a0",
   "metadata": {},
   "outputs": [],
   "source": [
    "#Pandas and Numpy\n",
    "import pandas as pd\n",
    "import numpy as np\n",
    "#RDkit for fingerprinting and cheminformatics\n",
    "from rdkit import Chem, DataStructs\n",
    "from rdkit.Chem import AllChem, rdMolDescriptors\n",
    "#MolVS for standardization and normalization of molecules\n",
    "import molvs as mv\n",
    "#Keras for deep learning\n",
    "from keras.models import Sequential\n",
    "from keras.layers import Dense, Dropout\n",
    "from keras.callbacks import ReduceLROnPlateau\n",
    "from keras import regularizers\n",
    "from keras.optimizers import SGD\n",
    "from sklearn.model_selection import train_test_split\n",
    "#SKlearn for metrics and datasplits\n",
    "\n",
    "from sklearn.metrics import roc_auc_score, roc_curve\n",
    "#Matplotlib for plotting\n",
    "from matplotlib import pyplot as plt"
   ]
  },
  {
   "cell_type": "code",
   "execution_count": 15,
   "id": "35b6c9a2",
   "metadata": {},
   "outputs": [
    {
     "name": "stderr",
     "output_type": "stream",
     "text": [
      "[12:18:41] Explicit valence for atom # 3 Cl, 2, is greater than permitted\n",
      "[12:18:41] ERROR: Could not sanitize molecule ending on line 21572\n",
      "[12:18:41] ERROR: Explicit valence for atom # 3 Cl, 2, is greater than permitted\n"
     ]
    },
    {
     "name": "stdout",
     "output_type": "stream",
     "text": [
      "Molecule 281 failed\n"
     ]
    },
    {
     "name": "stderr",
     "output_type": "stream",
     "text": [
      "[12:18:42] Explicit valence for atom # 2 Si, 8, is greater than permitted\n",
      "[12:18:42] ERROR: Could not sanitize molecule ending on line 346021\n",
      "[12:18:42] ERROR: Explicit valence for atom # 2 Si, 8, is greater than permitted\n"
     ]
    },
    {
     "name": "stdout",
     "output_type": "stream",
     "text": [
      "Molecule 4447 failed\n"
     ]
    },
    {
     "name": "stderr",
     "output_type": "stream",
     "text": [
      "[12:18:43] Explicit valence for atom # 3 Cl, 2, is greater than permitted\n",
      "[12:18:43] ERROR: Could not sanitize molecule ending on line 446665\n",
      "[12:18:43] ERROR: Explicit valence for atom # 3 Cl, 2, is greater than permitted\n"
     ]
    },
    {
     "name": "stdout",
     "output_type": "stream",
     "text": [
      "Molecule 5588 failed\n"
     ]
    },
    {
     "name": "stderr",
     "output_type": "stream",
     "text": [
      "[12:18:43] Explicit valence for atom # 1 Cl, 2, is greater than permitted\n",
      "[12:18:43] ERROR: Could not sanitize molecule ending on line 619150\n",
      "[12:18:43] ERROR: Explicit valence for atom # 1 Cl, 2, is greater than permitted\n",
      "[12:18:43] WARNING: not removing hydrogen atom without neighbors\n"
     ]
    },
    {
     "name": "stdout",
     "output_type": "stream",
     "text": [
      "Molecule 7626 failed\n"
     ]
    },
    {
     "name": "stderr",
     "output_type": "stream",
     "text": [
      "[12:18:44] Explicit valence for atom # 2 Si, 8, is greater than permitted\n",
      "[12:18:44] ERROR: Could not sanitize molecule ending on line 810094\n",
      "[12:18:44] ERROR: Explicit valence for atom # 2 Si, 8, is greater than permitted\n"
     ]
    },
    {
     "name": "stdout",
     "output_type": "stream",
     "text": [
      "Molecule 10122 failed\n"
     ]
    }
   ],
   "source": [
    "#!/usr/bin/python\n",
    "from rdkit import Chem\n",
    "import pandas as pd\n",
    "filename = \"tox21_10k_data_all.sdf\"\n",
    "basename = filename.split(\".\")[0]\n",
    "collector = []\n",
    "sdprovider = Chem.SDMolSupplier(filename)\n",
    "for i,mol in enumerate(sdprovider):\n",
    "    try:\n",
    "        moldict = {}\n",
    "        moldict['smiles'] = Chem.MolToSmiles(mol)\n",
    "        for propname in mol.GetPropNames():\n",
    "            moldict[propname] = mol.GetProp(propname)\n",
    "            collector.append(moldict)\n",
    "    except:\n",
    "        print(\"Molecule %s failed\"%i)\n",
    "data = pd.DataFrame(collector)\n",
    "data.to_csv(basename + '_pandas.csv')"
   ]
  },
  {
   "cell_type": "code",
   "execution_count": 21,
   "id": "8b211d9f",
   "metadata": {},
   "outputs": [],
   "source": [
    "#Read the data\n",
    "data = pd.read_csv('tox21_10k_data_all_pandas.csv')\n",
    "valdata = pd.read_csv('tox21_10k_challenge_test.csv')\n"
   ]
  },
  {
   "cell_type": "code",
   "execution_count": 41,
   "id": "56caf958",
   "metadata": {},
   "outputs": [
    {
     "name": "stderr",
     "output_type": "stream",
     "text": [
      "[12:57:32] Can't kekulize mol.  Unkekulized atoms: 3 10\n",
      "[12:57:32] Can't kekulize mol.  Unkekulized atoms: 3 10\n",
      "[12:57:32] Can't kekulize mol.  Unkekulized atoms: 3 10\n",
      "[12:57:32] Can't kekulize mol.  Unkekulized atoms: 3 10\n",
      "[12:57:32] Can't kekulize mol.  Unkekulized atoms: 3 10\n",
      "[12:57:32] Can't kekulize mol.  Unkekulized atoms: 3 10\n",
      "[12:57:32] Can't kekulize mol.  Unkekulized atoms: 3 10\n",
      "[12:57:32] Can't kekulize mol.  Unkekulized atoms: 3 10\n",
      "[12:57:32] Can't kekulize mol.  Unkekulized atoms: 3 10\n",
      "[12:57:32] Can't kekulize mol.  Unkekulized atoms: 3 10\n",
      "[13:00:55] Can't kekulize mol.  Unkekulized atoms: 3 10\n",
      "[13:00:55] Can't kekulize mol.  Unkekulized atoms: 3 10\n",
      "[13:00:55] Can't kekulize mol.  Unkekulized atoms: 3 10\n",
      "[13:00:55] Can't kekulize mol.  Unkekulized atoms: 3 10\n",
      "[13:00:55] Can't kekulize mol.  Unkekulized atoms: 3 10\n",
      "[13:00:55] Can't kekulize mol.  Unkekulized atoms: 3 10\n",
      "[13:00:55] Can't kekulize mol.  Unkekulized atoms: 3 10\n",
      "[13:00:55] Can't kekulize mol.  Unkekulized atoms: 3 10\n",
      "[13:00:55] Can't kekulize mol.  Unkekulized atoms: 3 10\n",
      "[13:00:55] Can't kekulize mol.  Unkekulized atoms: 3 10\n",
      "[13:00:55] Can't kekulize mol.  Unkekulized atoms: 3 10\n",
      "[13:00:55] Can't kekulize mol.  Unkekulized atoms: 3 10\n",
      "[13:00:55] Can't kekulize mol.  Unkekulized atoms: 3 10\n",
      "[13:00:55] Can't kekulize mol.  Unkekulized atoms: 3 10\n",
      "[13:00:55] Can't kekulize mol.  Unkekulized atoms: 3 10\n",
      "[13:00:55] Can't kekulize mol.  Unkekulized atoms: 3 10\n",
      "[13:00:55] Can't kekulize mol.  Unkekulized atoms: 3 10\n",
      "[13:00:55] Can't kekulize mol.  Unkekulized atoms: 3 10\n",
      "[13:00:55] Can't kekulize mol.  Unkekulized atoms: 3 10\n",
      "[13:00:55] Can't kekulize mol.  Unkekulized atoms: 3 10\n",
      "[13:00:55] Can't kekulize mol.  Unkekulized atoms: 3 10\n",
      "[13:00:55] Can't kekulize mol.  Unkekulized atoms: 3 10\n",
      "[13:00:55] Can't kekulize mol.  Unkekulized atoms: 3 10\n",
      "[13:00:55] Can't kekulize mol.  Unkekulized atoms: 3 10\n",
      "[13:00:55] Can't kekulize mol.  Unkekulized atoms: 3 10\n",
      "[13:00:55] Can't kekulize mol.  Unkekulized atoms: 3 10\n",
      "[13:01:35] Explicit valence for atom # 1 B, 5, is greater than permitted\n",
      "[13:01:35] Explicit valence for atom # 1 B, 5, is greater than permitted\n",
      "[13:01:35] Explicit valence for atom # 1 B, 5, is greater than permitted\n",
      "[13:01:35] Explicit valence for atom # 1 B, 5, is greater than permitted\n",
      "[13:01:35] Explicit valence for atom # 1 B, 5, is greater than permitted\n",
      "[13:01:35] Explicit valence for atom # 1 B, 5, is greater than permitted\n",
      "[13:01:35] Explicit valence for atom # 1 B, 5, is greater than permitted\n",
      "[13:01:35] Explicit valence for atom # 1 B, 5, is greater than permitted\n",
      "[13:01:35] Explicit valence for atom # 1 B, 5, is greater than permitted\n",
      "[13:01:35] Explicit valence for atom # 1 B, 5, is greater than permitted\n",
      "[13:01:35] Explicit valence for atom # 1 B, 5, is greater than permitted\n",
      "[13:01:35] Explicit valence for atom # 1 B, 5, is greater than permitted\n",
      "[13:01:35] Explicit valence for atom # 1 B, 5, is greater than permitted\n"
     ]
    },
    {
     "name": "stdout",
     "output_type": "stream",
     "text": [
      "F[B-](F)(F)F.[K+] failed conversion\n",
      "F[B-](F)(F)F.[K+] failed conversion\n",
      "F[B-](F)(F)F.[K+] failed conversion\n",
      "F[B-](F)(F)F.[K+] failed conversion\n",
      "F[B-](F)(F)F.[K+] failed conversion\n",
      "F[B-](F)(F)F.[K+] failed conversion\n",
      "F[B-](F)(F)F.[K+] failed conversion\n",
      "F[B-](F)(F)F.[K+] failed conversion\n",
      "F[B-](F)(F)F.[K+] failed conversion\n",
      "F[B-](F)(F)F.[K+] failed conversion\n",
      "F[B-](F)(F)F.[K+] failed conversion\n",
      "F[B-](F)(F)F.[K+] failed conversion\n",
      "F[B-](F)(F)F.[K+] failed conversion\n"
     ]
    },
    {
     "name": "stderr",
     "output_type": "stream",
     "text": [
      "[13:02:32] WARNING: not removing hydrogen atom without neighbors\n",
      "[13:02:32] WARNING: not removing hydrogen atom without neighbors\n",
      "[13:02:32] Explicit valence for atom # 1 B, 5, is greater than permitted\n",
      "[13:02:32] WARNING: not removing hydrogen atom without neighbors\n",
      "[13:02:32] WARNING: not removing hydrogen atom without neighbors\n",
      "[13:02:32] Explicit valence for atom # 1 B, 5, is greater than permitted\n",
      "[13:02:32] WARNING: not removing hydrogen atom without neighbors\n",
      "[13:02:32] WARNING: not removing hydrogen atom without neighbors\n",
      "[13:02:32] Explicit valence for atom # 1 B, 5, is greater than permitted\n",
      "[13:02:32] WARNING: not removing hydrogen atom without neighbors\n",
      "[13:02:32] WARNING: not removing hydrogen atom without neighbors\n",
      "[13:02:32] Explicit valence for atom # 1 B, 5, is greater than permitted\n",
      "[13:02:32] WARNING: not removing hydrogen atom without neighbors\n",
      "[13:02:32] WARNING: not removing hydrogen atom without neighbors\n",
      "[13:02:32] Explicit valence for atom # 1 B, 5, is greater than permitted\n",
      "[13:02:32] WARNING: not removing hydrogen atom without neighbors\n",
      "[13:02:32] WARNING: not removing hydrogen atom without neighbors\n",
      "[13:02:32] Explicit valence for atom # 1 B, 5, is greater than permitted\n",
      "[13:02:32] WARNING: not removing hydrogen atom without neighbors\n",
      "[13:02:32] WARNING: not removing hydrogen atom without neighbors\n",
      "[13:02:32] Explicit valence for atom # 1 B, 5, is greater than permitted\n",
      "[13:02:32] WARNING: not removing hydrogen atom without neighbors\n",
      "[13:02:32] WARNING: not removing hydrogen atom without neighbors\n",
      "[13:02:32] Explicit valence for atom # 1 B, 5, is greater than permitted\n",
      "[13:02:32] WARNING: not removing hydrogen atom without neighbors\n",
      "[13:02:32] WARNING: not removing hydrogen atom without neighbors\n",
      "[13:02:32] Explicit valence for atom # 1 B, 5, is greater than permitted\n",
      "[13:02:32] WARNING: not removing hydrogen atom without neighbors\n",
      "[13:02:32] WARNING: not removing hydrogen atom without neighbors\n",
      "[13:02:32] Explicit valence for atom # 1 B, 5, is greater than permitted\n",
      "[13:02:32] WARNING: not removing hydrogen atom without neighbors\n",
      "[13:02:32] WARNING: not removing hydrogen atom without neighbors\n",
      "[13:02:32] Explicit valence for atom # 1 B, 5, is greater than permitted\n",
      "[13:02:32] WARNING: not removing hydrogen atom without neighbors\n",
      "[13:02:32] WARNING: not removing hydrogen atom without neighbors\n",
      "[13:02:32] Explicit valence for atom # 1 B, 5, is greater than permitted\n",
      "[13:02:32] WARNING: not removing hydrogen atom without neighbors\n",
      "[13:02:32] WARNING: not removing hydrogen atom without neighbors\n",
      "[13:02:32] Explicit valence for atom # 1 B, 5, is greater than permitted\n",
      "[13:02:32] WARNING: not removing hydrogen atom without neighbors\n",
      "[13:02:32] WARNING: not removing hydrogen atom without neighbors\n",
      "[13:02:32] Explicit valence for atom # 1 B, 5, is greater than permitted\n"
     ]
    },
    {
     "name": "stdout",
     "output_type": "stream",
     "text": [
      "F[B-](F)(F)F.[H+] failed conversion\n",
      "F[B-](F)(F)F.[H+] failed conversion\n",
      "F[B-](F)(F)F.[H+] failed conversion\n",
      "F[B-](F)(F)F.[H+] failed conversion\n",
      "F[B-](F)(F)F.[H+] failed conversion\n",
      "F[B-](F)(F)F.[H+] failed conversion\n",
      "F[B-](F)(F)F.[H+] failed conversion\n",
      "F[B-](F)(F)F.[H+] failed conversion\n",
      "F[B-](F)(F)F.[H+] failed conversion\n",
      "F[B-](F)(F)F.[H+] failed conversion\n",
      "F[B-](F)(F)F.[H+] failed conversion\n",
      "F[B-](F)(F)F.[H+] failed conversion\n",
      "F[B-](F)(F)F.[H+] failed conversion\n",
      "F[B-](F)(F)F.[H+] failed conversion\n"
     ]
    },
    {
     "name": "stderr",
     "output_type": "stream",
     "text": [
      "[13:03:56] Explicit valence for atom # 1 B, 5, is greater than permitted\n",
      "[13:03:56] Explicit valence for atom # 1 B, 5, is greater than permitted\n",
      "[13:03:56] Explicit valence for atom # 1 B, 5, is greater than permitted\n",
      "[13:03:56] Explicit valence for atom # 1 B, 5, is greater than permitted\n",
      "[13:03:56] Explicit valence for atom # 1 B, 5, is greater than permitted\n",
      "[13:03:56] Explicit valence for atom # 1 B, 5, is greater than permitted\n",
      "[13:03:56] Explicit valence for atom # 1 B, 5, is greater than permitted\n",
      "[13:03:56] Explicit valence for atom # 1 B, 5, is greater than permitted\n",
      "[13:03:56] Explicit valence for atom # 1 B, 5, is greater than permitted\n",
      "[13:03:56] Explicit valence for atom # 1 B, 5, is greater than permitted\n",
      "[13:03:56] Explicit valence for atom # 1 B, 5, is greater than permitted\n",
      "[13:03:56] Explicit valence for atom # 1 B, 5, is greater than permitted\n",
      "[13:03:56] Explicit valence for atom # 1 B, 5, is greater than permitted\n",
      "[13:03:56] Explicit valence for atom # 1 B, 5, is greater than permitted\n",
      "[13:03:56] Explicit valence for atom # 1 B, 5, is greater than permitted\n",
      "[13:03:56] Explicit valence for atom # 1 B, 5, is greater than permitted\n",
      "[13:03:56] Explicit valence for atom # 1 B, 5, is greater than permitted\n",
      "[13:03:56] Explicit valence for atom # 1 B, 5, is greater than permitted\n",
      "[13:03:56] Explicit valence for atom # 1 B, 5, is greater than permitted\n",
      "[13:03:56] Explicit valence for atom # 1 B, 5, is greater than permitted\n",
      "[13:03:56] Explicit valence for atom # 1 B, 5, is greater than permitted\n",
      "[13:03:56] Explicit valence for atom # 1 B, 5, is greater than permitted\n",
      "[13:03:56] Explicit valence for atom # 1 B, 5, is greater than permitted\n",
      "[13:03:56] Explicit valence for atom # 1 B, 5, is greater than permitted\n",
      "[13:03:56] Explicit valence for atom # 1 B, 5, is greater than permitted\n",
      "[13:03:56] Explicit valence for atom # 1 B, 5, is greater than permitted\n",
      "[13:03:56] Explicit valence for atom # 1 B, 5, is greater than permitted\n",
      "[13:03:56] Explicit valence for atom # 1 B, 5, is greater than permitted\n",
      "[13:03:56] Explicit valence for atom # 1 B, 5, is greater than permitted\n",
      "[13:03:56] Explicit valence for atom # 1 B, 5, is greater than permitted\n"
     ]
    },
    {
     "name": "stdout",
     "output_type": "stream",
     "text": [
      "F[B-](F)(F)F.[Na+] failed conversion\n",
      "F[B-](F)(F)F.[Na+] failed conversion\n",
      "F[B-](F)(F)F.[Na+] failed conversion\n",
      "F[B-](F)(F)F.[Na+] failed conversion\n",
      "F[B-](F)(F)F.[Na+] failed conversion\n",
      "F[B-](F)(F)F.[Na+] failed conversion\n",
      "F[B-](F)(F)F.[Na+] failed conversion\n",
      "F[B-](F)(F)F.[Na+] failed conversion\n",
      "F[B-](F)(F)F.[Na+] failed conversion\n",
      "F[B-](F)(F)F.[Na+] failed conversion\n",
      "F[B-](F)(F)F.[Na+] failed conversion\n",
      "F[B-](F)(F)F.[Na+] failed conversion\n",
      "F[B-](F)(F)F.[Na+] failed conversion\n",
      "F[B-](F)(F)F.[Na+] failed conversion\n",
      "F[B-](F)(F)F.[Na+] failed conversion\n",
      "F[B-](F)(F)F.[Na+] failed conversion\n",
      "F[B-](F)(F)F.[Na+] failed conversion\n",
      "F[B-](F)(F)F.[Na+] failed conversion\n",
      "F[B-](F)(F)F.[Na+] failed conversion\n",
      "F[B-](F)(F)F.[Na+] failed conversion\n",
      "F[B-](F)(F)F.[Na+] failed conversion\n",
      "F[B-](F)(F)F.[Na+] failed conversion\n",
      "F[B-](F)(F)F.[Na+] failed conversion\n",
      "F[B-](F)(F)F.[Na+] failed conversion\n",
      "F[B-](F)(F)F.[Na+] failed conversion\n",
      "F[B-](F)(F)F.[Na+] failed conversion\n",
      "F[B-](F)(F)F.[Na+] failed conversion\n",
      "F[B-](F)(F)F.[Na+] failed conversion\n",
      "F[B-](F)(F)F.[Na+] failed conversion\n",
      "F[B-](F)(F)F.[Na+] failed conversion\n"
     ]
    },
    {
     "ename": "KeyError",
     "evalue": "'smiles'",
     "output_type": "error",
     "traceback": [
      "\u001b[0;31m---------------------------------------------------------------------------\u001b[0m",
      "\u001b[0;31mKeyError\u001b[0m                                  Traceback (most recent call last)",
      "File \u001b[0;32m~/Documents/biosortia-lipinski/biosortia/lib/python3.10/site-packages/pandas/core/indexes/base.py:3802\u001b[0m, in \u001b[0;36mIndex.get_loc\u001b[0;34m(self, key, method, tolerance)\u001b[0m\n\u001b[1;32m   3801\u001b[0m \u001b[38;5;28;01mtry\u001b[39;00m:\n\u001b[0;32m-> 3802\u001b[0m     \u001b[38;5;28;01mreturn\u001b[39;00m \u001b[38;5;28;43mself\u001b[39;49m\u001b[38;5;241;43m.\u001b[39;49m\u001b[43m_engine\u001b[49m\u001b[38;5;241;43m.\u001b[39;49m\u001b[43mget_loc\u001b[49m\u001b[43m(\u001b[49m\u001b[43mcasted_key\u001b[49m\u001b[43m)\u001b[49m\n\u001b[1;32m   3803\u001b[0m \u001b[38;5;28;01mexcept\u001b[39;00m \u001b[38;5;167;01mKeyError\u001b[39;00m \u001b[38;5;28;01mas\u001b[39;00m err:\n",
      "File \u001b[0;32m~/Documents/biosortia-lipinski/biosortia/lib/python3.10/site-packages/pandas/_libs/index.pyx:138\u001b[0m, in \u001b[0;36mpandas._libs.index.IndexEngine.get_loc\u001b[0;34m()\u001b[0m\n",
      "File \u001b[0;32m~/Documents/biosortia-lipinski/biosortia/lib/python3.10/site-packages/pandas/_libs/index.pyx:165\u001b[0m, in \u001b[0;36mpandas._libs.index.IndexEngine.get_loc\u001b[0;34m()\u001b[0m\n",
      "File \u001b[0;32mpandas/_libs/hashtable_class_helper.pxi:5745\u001b[0m, in \u001b[0;36mpandas._libs.hashtable.PyObjectHashTable.get_item\u001b[0;34m()\u001b[0m\n",
      "File \u001b[0;32mpandas/_libs/hashtable_class_helper.pxi:5753\u001b[0m, in \u001b[0;36mpandas._libs.hashtable.PyObjectHashTable.get_item\u001b[0;34m()\u001b[0m\n",
      "\u001b[0;31mKeyError\u001b[0m: 'smiles'",
      "\nThe above exception was the direct cause of the following exception:\n",
      "\u001b[0;31mKeyError\u001b[0m                                  Traceback (most recent call last)",
      "Cell \u001b[0;32mIn[41], line 23\u001b[0m\n\u001b[1;32m     21\u001b[0m     \u001b[38;5;28;01mreturn\u001b[39;00m data\n\u001b[1;32m     22\u001b[0m data \u001b[38;5;241m=\u001b[39m clean_data(data)\n\u001b[0;32m---> 23\u001b[0m valdata \u001b[38;5;241m=\u001b[39m \u001b[43mclean_data\u001b[49m\u001b[43m(\u001b[49m\u001b[43mvaldata\u001b[49m\u001b[43m)\u001b[49m\n\u001b[1;32m     24\u001b[0m testdata \u001b[38;5;241m=\u001b[39m clean_data(testdata)\n",
      "Cell \u001b[0;32mIn[41], line 11\u001b[0m, in \u001b[0;36mclean_data\u001b[0;34m(data)\u001b[0m\n\u001b[1;32m     10\u001b[0m \u001b[38;5;28;01mdef\u001b[39;00m \u001b[38;5;21mclean_data\u001b[39m(data):\n\u001b[0;32m---> 11\u001b[0m     data \u001b[38;5;241m=\u001b[39m data[\u001b[38;5;241m~\u001b[39m(\u001b[43mdata\u001b[49m\u001b[43m[\u001b[49m\u001b[38;5;124;43m'\u001b[39;49m\u001b[38;5;124;43msmiles\u001b[39;49m\u001b[38;5;124;43m'\u001b[39;49m\u001b[43m]\u001b[49m\u001b[38;5;241m.\u001b[39misnull())]\n\u001b[1;32m     12\u001b[0m     \u001b[38;5;66;03m#Standardize and get parent with molvs\u001b[39;00m\n\u001b[1;32m     13\u001b[0m     data[\u001b[38;5;124m\"\u001b[39m\u001b[38;5;124msmiles_parent\u001b[39m\u001b[38;5;124m\"\u001b[39m] \u001b[38;5;241m=\u001b[39m data\u001b[38;5;241m.\u001b[39msmiles\u001b[38;5;241m.\u001b[39mapply(parent)\n",
      "File \u001b[0;32m~/Documents/biosortia-lipinski/biosortia/lib/python3.10/site-packages/pandas/core/frame.py:3807\u001b[0m, in \u001b[0;36mDataFrame.__getitem__\u001b[0;34m(self, key)\u001b[0m\n\u001b[1;32m   3805\u001b[0m \u001b[38;5;28;01mif\u001b[39;00m \u001b[38;5;28mself\u001b[39m\u001b[38;5;241m.\u001b[39mcolumns\u001b[38;5;241m.\u001b[39mnlevels \u001b[38;5;241m>\u001b[39m \u001b[38;5;241m1\u001b[39m:\n\u001b[1;32m   3806\u001b[0m     \u001b[38;5;28;01mreturn\u001b[39;00m \u001b[38;5;28mself\u001b[39m\u001b[38;5;241m.\u001b[39m_getitem_multilevel(key)\n\u001b[0;32m-> 3807\u001b[0m indexer \u001b[38;5;241m=\u001b[39m \u001b[38;5;28;43mself\u001b[39;49m\u001b[38;5;241;43m.\u001b[39;49m\u001b[43mcolumns\u001b[49m\u001b[38;5;241;43m.\u001b[39;49m\u001b[43mget_loc\u001b[49m\u001b[43m(\u001b[49m\u001b[43mkey\u001b[49m\u001b[43m)\u001b[49m\n\u001b[1;32m   3808\u001b[0m \u001b[38;5;28;01mif\u001b[39;00m is_integer(indexer):\n\u001b[1;32m   3809\u001b[0m     indexer \u001b[38;5;241m=\u001b[39m [indexer]\n",
      "File \u001b[0;32m~/Documents/biosortia-lipinski/biosortia/lib/python3.10/site-packages/pandas/core/indexes/base.py:3804\u001b[0m, in \u001b[0;36mIndex.get_loc\u001b[0;34m(self, key, method, tolerance)\u001b[0m\n\u001b[1;32m   3802\u001b[0m     \u001b[38;5;28;01mreturn\u001b[39;00m \u001b[38;5;28mself\u001b[39m\u001b[38;5;241m.\u001b[39m_engine\u001b[38;5;241m.\u001b[39mget_loc(casted_key)\n\u001b[1;32m   3803\u001b[0m \u001b[38;5;28;01mexcept\u001b[39;00m \u001b[38;5;167;01mKeyError\u001b[39;00m \u001b[38;5;28;01mas\u001b[39;00m err:\n\u001b[0;32m-> 3804\u001b[0m     \u001b[38;5;28;01mraise\u001b[39;00m \u001b[38;5;167;01mKeyError\u001b[39;00m(key) \u001b[38;5;28;01mfrom\u001b[39;00m \u001b[38;5;21;01merr\u001b[39;00m\n\u001b[1;32m   3805\u001b[0m \u001b[38;5;28;01mexcept\u001b[39;00m \u001b[38;5;167;01mTypeError\u001b[39;00m:\n\u001b[1;32m   3806\u001b[0m     \u001b[38;5;66;03m# If we have a listlike key, _check_indexing_error will raise\u001b[39;00m\n\u001b[1;32m   3807\u001b[0m     \u001b[38;5;66;03m#  InvalidIndexError. Otherwise we fall through and re-raise\u001b[39;00m\n\u001b[1;32m   3808\u001b[0m     \u001b[38;5;66;03m#  the TypeError.\u001b[39;00m\n\u001b[1;32m   3809\u001b[0m     \u001b[38;5;28mself\u001b[39m\u001b[38;5;241m.\u001b[39m_check_indexing_error(key)\n",
      "\u001b[0;31mKeyError\u001b[0m: 'smiles'"
     ]
    }
   ],
   "source": [
    "def parent(smiles):\n",
    "    st = mv.Standardizer() #MolVS standardizer\n",
    "    try:\n",
    "        mols = st.charge_parent(Chem.MolFromSmiles(smiles))\n",
    "        return Chem.MolToSmiles(mols)\n",
    "    except:\n",
    "        print(\"%s failed conversion\"%smiles)\n",
    "        return \"NaN\"\n",
    "#Clean and standardize the data\n",
    "def clean_data(data):\n",
    "    data = data[~(data['smiles'].isnull())]\n",
    "    #Standardize and get parent with molvs\n",
    "    data[\"smiles_parent\"] = data.smiles.apply(parent)\n",
    "    data = data[~(data['smiles_parent'] == \"NaN\")]\n",
    "\n",
    "def NumAtoms(smile):\n",
    "    \n",
    "    return Chem.MolFromSmiles(smile).GetNumAtoms()\n",
    "    data[\"NumAtoms\"] = data[\"smiles_parent\"].apply(NumAtoms)\n",
    "    data = data[data[\"NumAtoms\"] > 3]\n",
    "    return data\n",
    "data = clean_data(data)\n",
    "valdata = clean_data(valdata)\n",
    "testdata = clean_data(testdata)"
   ]
  },
  {
   "cell_type": "code",
   "execution_count": null,
   "id": "21a04af0",
   "metadata": {},
   "outputs": [],
   "source": []
  }
 ],
 "metadata": {
  "kernelspec": {
   "display_name": "Python 3 (ipykernel)",
   "language": "python",
   "name": "python3"
  },
  "language_info": {
   "codemirror_mode": {
    "name": "ipython",
    "version": 3
   },
   "file_extension": ".py",
   "mimetype": "text/x-python",
   "name": "python",
   "nbconvert_exporter": "python",
   "pygments_lexer": "ipython3",
   "version": "3.10.6"
  }
 },
 "nbformat": 4,
 "nbformat_minor": 5
}
