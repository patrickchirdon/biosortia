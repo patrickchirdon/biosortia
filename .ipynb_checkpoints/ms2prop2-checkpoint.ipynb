{
 "cells": [
  {
   "cell_type": "code",
   "execution_count": 1387,
   "id": "3ddc811b",
   "metadata": {},
   "outputs": [],
   "source": [
    "import pandas as pd\n",
    "import matplotlib.pyplot as plt\n",
    "import numpy as np\n"
   ]
  },
  {
   "cell_type": "code",
   "execution_count": 1388,
   "id": "b1ace109",
   "metadata": {},
   "outputs": [],
   "source": [
    "from sklearn import linear_model, metrics"
   ]
  },
  {
   "cell_type": "code",
   "execution_count": 1623,
   "id": "2d0c6c88",
   "metadata": {},
   "outputs": [
    {
     "name": "stderr",
     "output_type": "stream",
     "text": [
      "/tmp/ipykernel_38841/1862753770.py:20: DtypeWarning: Columns (17,18,20,21,22) have mixed types. Specify dtype option on import or set low_memory=False.\n",
      "  mydf=pd.read_csv('test.csv',  sep=',')\n"
     ]
    },
    {
     "name": "stdout",
     "output_type": "stream",
     "text": [
      "                                                   smiles           mz  \\\n",
      "0       CC(C)CC1NC(=O)C(C)NC(=O)C(=C)N(C)C(=O)CCC(NC(=...   289.286377   \n",
      "1                                                     NaN   295.545288   \n",
      "2                                                     NaN   298.489624   \n",
      "3                                                     NaN   317.324951   \n",
      "4                                                     NaN   319.655945   \n",
      "...                                                   ...          ...   \n",
      "101746                                                NaN  1377.568481   \n",
      "101747                                                NaN  1395.106567   \n",
      "101748                                                NaN  1396.009300   \n",
      "101749                                                NaN  1397.523438   \n",
      "101750                                                NaN   208.000000   \n",
      "\n",
      "              mw    alogp  hba  hbd     psa  rotb  arom  alerts  ...  Nr-ahr  \\\n",
      "0        981.162  0.17397   14   12  351.64    14     1       5  ...     1.0   \n",
      "1        981.162  0.17397   14   12  351.64    14     1       5  ...     1.0   \n",
      "2        981.162  0.17397   14   12  351.64    14     1       5  ...     1.0   \n",
      "3        981.162  0.17397   14   12  351.64    14     1       5  ...     1.0   \n",
      "4        981.162  0.17397   14   12  351.64    14     1       5  ...     1.0   \n",
      "...          ...      ...  ...  ...     ...   ...   ...     ...  ...     ...   \n",
      "101746  1225.797 -5.63530   21   18  522.86    26     1       2  ...     0.0   \n",
      "101747  1225.797 -5.63530   21   18  522.86    26     1       2  ...     0.0   \n",
      "101748  1225.797 -5.63530   21   18  522.86    26     1       2  ...     0.0   \n",
      "101749  1225.797 -5.63530   21   18  522.86    26     1       2  ...     0.0   \n",
      "101750  1339.889 -2.97890   23   19  534.19    29     2       4  ...     0.0   \n",
      "\n",
      "        Nr-aromatase  Nr-er  Nr-er-lbd  Nr-ppar-gamma  Sr-are  Sr-atad5  \\\n",
      "0                1.0      1          1            1.0       1         1   \n",
      "1                1.0      1          1            1.0       1         1   \n",
      "2                1.0      1          1            1.0       1         1   \n",
      "3                1.0      1          1            1.0       1         1   \n",
      "4                1.0      1          1            1.0       1         1   \n",
      "...              ...    ...        ...            ...     ...       ...   \n",
      "101746           0.0      0          1            0.0       0         0   \n",
      "101747           0.0      0          1            0.0       0         0   \n",
      "101748           0.0      0          1            0.0       0         0   \n",
      "101749           0.0      0          1            0.0       0         0   \n",
      "101750           0.0      0          1            0.0       0         0   \n",
      "\n",
      "       Sr-hse Sr-mmp  Sr-p53  \n",
      "0           1    1.0     1.0  \n",
      "1           1    1.0     1.0  \n",
      "2           1    1.0     1.0  \n",
      "3           1    1.0     1.0  \n",
      "4           1    1.0     1.0  \n",
      "...       ...    ...     ...  \n",
      "101746      0    0.0     0.0  \n",
      "101747      0    0.0     0.0  \n",
      "101748      0    0.0     0.0  \n",
      "101749      0    0.0     0.0  \n",
      "101750      0    0.0     0.0  \n",
      "\n",
      "[101751 rows x 25 columns]\n",
      "0    0.0\n",
      "dtype: float64\n",
      "0    281.0\n",
      "dtype: float64\n"
     ]
    },
    {
     "data": {
      "image/png": "[encoded data removed]",
      "text/plain": [
       "<Figure size 640x480 with 1 Axes>"
      ]
     },
     "metadata": {},
     "output_type": "display_data"
    },
    {
     "name": "stdout",
     "output_type": "stream",
     "text": [
      "101751 101751\n",
      "[46412 46413 46414 46415 46416 46417 46418 46419 46420 46421 46422 46423\n",
      " 46424 46425 46426 46427 46428 46429 46430 46431 46432 46433 46434 46435\n",
      " 46436 46437 46438 46439 46440 46441 46442 46443 46444 46445 46446 46447\n",
      " 46448 46449 46450 46451 46452 46453 46454 46455 46456 46457 46458 46459\n",
      " 46460 46461 46462 46463 46464 46465 46466 46467 46468 46469 46470 46471\n",
      " 46472 46473 46474 46475 46476 46477 46478 46479 46480 46481 46482 46483\n",
      " 46484 46485 46486 46487 46488 46489 46490 46491 46492 46493 46494 46495\n",
      " 46496 46497 46498 46499 46500 46501 46502 46503 46504 46505 46506 46507\n",
      " 46508 46509 46510 46511 46512 46513 46514 46515 46516 46517 46518 46519\n",
      " 46520 46521 46522 46523 46524 46525 46526 46527 46528 46529 46530 46531\n",
      " 46532 46533 46534 46535 46536 46537 46538 46539 46540 46541 46542 46543\n",
      " 46544 46545 46546 46547 46548 46549 46550 46551 46552 46553 46554 46555\n",
      " 46556 46557 46558 46559 46560 46561 46562 46563 46564 46565 46566 46567\n",
      " 46568 46569 46570 46571 46572 46573 46574 46575 46576 46577 46578 46579\n",
      " 46580 46581 46582 46583 46584 46585 46586 46587 46588 46589 46590 46591\n",
      " 46592 46593 46594 46595 46596 46597 46598 46599 46600 46601 46602 46603\n",
      " 46604 46605 46606 46607 46608 46609 46610 46611 46612 46613 46614 46615\n",
      " 46616 46617 46618 46619 46620 46621 46622 46623 46624 46625 46626 46627\n",
      " 46628 46629 46630 46631 46632 46633 46634 46635 46636 46637 46638 46639\n",
      " 46640 46641 46642 46643 46644 46645 46646 46647 46648 46649 46650 46651\n",
      " 46652 46653 46654 46655 46656 46657 46658 46659 46660 46661 46662 46663\n",
      " 46664 46665 46666]\n",
      "255\n",
      "101496 101496\n"
     ]
    },
    {
     "data": {
      "image/png": "[encoded data removed]",
      "text/plain": [
       "<Figure size 640x480 with 1 Axes>"
      ]
     },
     "metadata": {},
     "output_type": "display_data"
    }
   ],
   "source": [
    "import decimal\n",
    "from decimal import Decimal\n",
    "import math\n",
    "import random\n",
    "import numpy as np\n",
    "import matplotlib.pyplot as plt\n",
    "from sklearn import linear_model\n",
    "from sklearn.metrics import mean_squared_error, r2_score\n",
    "from sklearn.kernel_ridge import KernelRidge\n",
    "import pandas as pd\n",
    "from sklearn.preprocessing import LabelEncoder\n",
    "from sklearn.model_selection import train_test_split\n",
    "from sklearn import preprocessing\n",
    "np.set_printoptions(suppress=True)\n",
    "\n",
    "from numpy.random import seed\n",
    "from numpy.random import randn\n",
    "from numpy import mean\n",
    "from numpy import std\n",
    "mydf=pd.read_csv('test.csv',  sep=',')\n",
    "mydf.columns=['smiles','mz','mw','alogp','hba','hbd','psa','rotb','arom','alerts','qed','npscore','chelator','Nr-ar','Nr-ar-lbd','Nr-ahr','Nr-aromatase','Nr-er','Nr-er-lbd','Nr-ppar-gamma','Sr-are','Sr-atad5','Sr-hse','Sr-mmp','Sr-p53']\n",
    "\n",
    "#mydf.columns=['molecule number', 'FDA approved name', 'mz', 'smiles', 'mw', 'alogp', 'hba', 'hbd', 'psa', 'rotb', 'arom', 'alerts', 'qed', 'fraction sp3 hybridized carbons']\n",
    "\n",
    "# Initialize lists and set random seed\n",
    "print(mydf)\n",
    "list_x = mydf['mz']\n",
    "\n",
    "list_x=list_x.astype(float)\n",
    "list_x=list_x.to_numpy().reshape(-1,1)\n",
    "list_y = mydf['Nr-ar'].to_numpy().reshape(-1,1)\n",
    "list_x_pred = []\n",
    "list_y_real = []\n",
    "\n",
    "np.set_printoptions(precision = 3, suppress = True)\n",
    "\n",
    "list_y = np.nan_to_num(list_y)\n",
    "\n",
    "list_x = np.nan_to_num(list_x)\n",
    "\n",
    "        \n",
    "list_y=pd.DataFrame(list_y)\n",
    "list_x=pd.DataFrame(list_x)\n",
    "list_x.to_csv()\n",
    "list_y.to_csv('myyvalues.csv')\n",
    "print(list_y.min())\n",
    "print(list_y.max())\n",
    "list_ymean=list_y.mean()\n",
    "list_ystd=list_y.std()\n",
    "\n",
    "import matplotlib.pyplot as plt\n",
    "plt.scatter(list_x, list_y, c =\"blue\")\n",
    " \n",
    "# To show the plot\n",
    "plt.show()\n",
    "\n",
    "\n",
    "from scipy import stats\n",
    "z = np.abs(stats.zscore(list_y)) \n",
    "threshold = 3\n",
    " \n",
    "# Position of the outlier\n",
    "outliers=np.where(z > 3)\n",
    "print(len(list_x), len(list_y))\n",
    "print(outliers[0])\n",
    "print(len(outliers[0]))\n",
    "\n",
    "list_x.drop(outliers[0],inplace = True)\n",
    "\n",
    "\n",
    "list_y.drop(outliers[0],inplace = True)\n",
    "print(len(list_x), len(list_y))\n",
    "\n",
    "plt.scatter(list_x, list_y, c =\"blue\")\n",
    " \n",
    "# To show the plot\n",
    "plt.show()"
   ]
  },
  {
   "cell_type": "code",
   "execution_count": 1624,
   "id": "0fb82748",
   "metadata": {
    "scrolled": true
   },
   "outputs": [],
   "source": [
    "import numpy as np\n",
    "from sklearn.kernel_ridge import KernelRidge\n",
    "from sklearn.model_selection import GridSearchCV\n",
    "import matplotlib.pyplot as plt\n"
   ]
  },
  {
   "cell_type": "code",
   "execution_count": 562,
   "id": "d159ac11",
   "metadata": {},
   "outputs": [
    {
     "name": "stderr",
     "output_type": "stream",
     "text": [
      "/home/patrickchirdon/Documents/biosortia-lipinski/biosortia/lib/python3.10/site-packages/numpy/core/function_base.py:284: RuntimeWarning: overflow encountered in power\n",
      "  return _nx.power(base, y)\n",
      "/home/patrickchirdon/Documents/biosortia-lipinski/biosortia/lib/python3.10/site-packages/sklearn/model_selection/_validation.py:378: FitFailedWarning: \n",
      "5 fits failed out of a total of 10.\n",
      "The score on these train-test partitions for these parameters will be set to nan.\n",
      "If these failures are not expected, you can try to debug them by setting error_score='raise'.\n",
      "\n",
      "Below are more details about the failures:\n",
      "--------------------------------------------------------------------------------\n",
      "5 fits failed with the following error:\n",
      "Traceback (most recent call last):\n",
      "  File \"/home/patrickchirdon/Documents/biosortia-lipinski/biosortia/lib/python3.10/site-packages/sklearn/model_selection/_validation.py\", line 686, in _fit_and_score\n",
      "    estimator.fit(X_train, y_train, **fit_params)\n",
      "  File \"/home/patrickchirdon/Documents/biosortia-lipinski/biosortia/lib/python3.10/site-packages/sklearn/kernel_ridge.py\", line 193, in fit\n",
      "    self._validate_params()\n",
      "  File \"/home/patrickchirdon/Documents/biosortia-lipinski/biosortia/lib/python3.10/site-packages/sklearn/base.py\", line 570, in _validate_params\n",
      "    validate_parameter_constraints(\n",
      "  File \"/home/patrickchirdon/Documents/biosortia-lipinski/biosortia/lib/python3.10/site-packages/sklearn/utils/_param_validation.py\", line 97, in validate_parameter_constraints\n",
      "    raise InvalidParameterError(\n",
      "sklearn.utils._param_validation.InvalidParameterError: The 'gamma' parameter of KernelRidge must be a float in the range [0, inf) or None. Got inf instead.\n",
      "\n",
      "  warnings.warn(some_fits_failed_message, FitFailedWarning)\n",
      "/home/patrickchirdon/Documents/biosortia-lipinski/biosortia/lib/python3.10/site-packages/sklearn/model_selection/_search.py:953: UserWarning: One or more of the test scores are non-finite: [ 1. nan]\n",
      "  warnings.warn(\n",
      "/tmp/ipykernel_38841/83423410.py:10: RuntimeWarning: divide by zero encountered in scalar divide\n",
      "  print('Length scale =',1/np.sqrt(2*krr.best_params_['gamma']))\n"
     ]
    },
    {
     "name": "stdout",
     "output_type": "stream",
     "text": [
      "Best gamma from CV:  {'gamma': 0.0}\n",
      "Length scale = inf\n"
     ]
    },
    {
     "data": {
      "text/plain": [
       "-0.2830739265336444"
      ]
     },
     "execution_count": 562,
     "metadata": {},
     "output_type": "execute_result"
    }
   ],
   "source": [
    "# ####################\n",
    "# Fit regression model\n",
    "train_size = 100 # Change here to try different amounts of data\n",
    "krr = GridSearchCV(KernelRidge(kernel='rbf',alpha=100),\n",
    "                  param_grid={\"gamma\": np.logspace(-400, 400, 2)})\n",
    "\n",
    "krr.fit(list_x[:train_size], list_y[:train_size])\n",
    "\n",
    "print('Best gamma from CV: ',krr.best_params_)\n",
    "print('Length scale =',1/np.sqrt(2*krr.best_params_['gamma']))\n",
    "krr.score(list_x, list_y )"
   ]
  },
  {
   "cell_type": "code",
   "execution_count": 1625,
   "id": "5a36ca05",
   "metadata": {},
   "outputs": [
    {
     "name": "stdout",
     "output_type": "stream",
     "text": [
      "(0, 0)\n"
     ]
    },
    {
     "data": {
      "image/png": "[encoded data removed]",
      "text/plain": [
       "<Figure size 640x480 with 1 Axes>"
      ]
     },
     "metadata": {},
     "output_type": "display_data"
    }
   ],
   "source": [
    "from sklearn.datasets import make_regression\n",
    "from matplotlib import pyplot as plt\n",
    "import numpy as np\n",
    "from sklearn.linear_model import Ridge\n",
    "from sklearn.preprocessing import MinMaxScaler\n",
    "from sklearn.neighbors import LocalOutlierFactor\n",
    "\n",
    "X_plot = np.linspace(0, 10, 1000)[:, None]\n",
    "#scaler = preprocessing.StandardScaler()\n",
    "scaler = MinMaxScaler()\n",
    "def minmax(val_list):\n",
    "    min_val = min(val_list)\n",
    "    max_val = max(val_list)\n",
    "\n",
    "    return (min_val, max_val)\n",
    "print(minmax(list_y))\n",
    "list_x = scaler.fit_transform(list_x)\n",
    "list_y = scaler.fit_transform(list_y)\n",
    "import matplotlib.pyplot as plt\n",
    "plt.scatter(list_x, list_y, c =\"blue\")\n",
    " \n",
    "# To show the plot\n",
    "plt.show()\n",
    "\n"
   ]
  },
  {
   "cell_type": "code",
   "execution_count": 1626,
   "id": "a055612f",
   "metadata": {},
   "outputs": [],
   "source": [
    "xtrain, xtest, ytrain, ytest=train_test_split(list_x, list_y, test_size=0.15)"
   ]
  },
  {
   "cell_type": "code",
   "execution_count": 1627,
   "id": "d74545ef",
   "metadata": {},
   "outputs": [],
   "source": [
    "import numpy as np\n",
    "import pandas as pd\n",
    "\n",
    "# For chapter 4\n",
    "from sklearn.model_selection import train_test_split\n",
    "from sklearn.preprocessing import StandardScaler\n",
    "\n",
    "# For chapter 5\n",
    "from sklearn.linear_model import SGDClassifier\n",
    "import matplotlib.pyplot as plt\n",
    "import time\n",
    "\n",
    "# For chapter 6\n",
    "from sklearn.metrics import accuracy_score\n",
    "from sklearn.model_selection import GridSearchCV\n",
    "\n"
   ]
  },
  {
   "cell_type": "code",
   "execution_count": 1628,
   "id": "46c5edb2",
   "metadata": {},
   "outputs": [
    {
     "data": {
      "text/plain": [
       "array([[0.],\n",
       "       [0.],\n",
       "       [0.],\n",
       "       ...,\n",
       "       [0.],\n",
       "       [0.],\n",
       "       [0.]])"
      ]
     },
     "execution_count": 1628,
     "metadata": {},
     "output_type": "execute_result"
    }
   ],
   "source": [
    "scaler = StandardScaler()\n",
    "\n",
    "scaler.fit(xtrain)\n",
    "xtrain = scaler.transform(xtrain)\n",
    "xtest = scaler.transform(xtest)\n",
    "\n",
    "trainX, testX, trainY, testY = train_test_split(xtrain, ytrain, test_size = 0.2)\n",
    "testY"
   ]
  },
  {
   "cell_type": "code",
   "execution_count": 1629,
   "id": "a17406fb",
   "metadata": {},
   "outputs": [],
   "source": [
    "scaler = StandardScaler()\n",
    "scaler.fit(trainX)\n",
    "trainX = scaler.transform(trainX)\n",
    "testX = scaler.transform(testX)\n"
   ]
  },
  {
   "cell_type": "code",
   "execution_count": 1630,
   "id": "ddc9d7bd",
   "metadata": {},
   "outputs": [],
   "source": [
    "import numpy as np # linear algebra\n",
    "import pandas as pd # data processing, CSV file I/O (e.g. pd.read_csv)\n",
    "\n",
    "from sklearn.linear_model import SGDRegressor\n",
    "from sklearn.model_selection import train_test_split, GridSearchCV\n",
    "from sklearn.preprocessing import StandardScaler\n"
   ]
  },
  {
   "cell_type": "code",
   "execution_count": 1631,
   "id": "5c208ed0",
   "metadata": {},
   "outputs": [
    {
     "ename": "ModuleNotFoundError",
     "evalue": "No module named 'seaborn'",
     "output_type": "error",
     "traceback": [
      "\u001b[0;31m---------------------------------------------------------------------------\u001b[0m",
      "\u001b[0;31mModuleNotFoundError\u001b[0m                       Traceback (most recent call last)",
      "Cell \u001b[0;32mIn[1631], line 5\u001b[0m\n\u001b[1;32m      2\u001b[0m \u001b[38;5;28;01mimport\u001b[39;00m \u001b[38;5;21;01mpandas\u001b[39;00m \u001b[38;5;28;01mas\u001b[39;00m \u001b[38;5;21;01mpd\u001b[39;00m\n\u001b[1;32m      4\u001b[0m \u001b[38;5;28;01mimport\u001b[39;00m \u001b[38;5;21;01mmatplotlib\u001b[39;00m\u001b[38;5;21;01m.\u001b[39;00m\u001b[38;5;21;01mpyplot\u001b[39;00m \u001b[38;5;28;01mas\u001b[39;00m \u001b[38;5;21;01mplt\u001b[39;00m\n\u001b[0;32m----> 5\u001b[0m \u001b[38;5;28;01mimport\u001b[39;00m \u001b[38;5;21;01mseaborn\u001b[39;00m \u001b[38;5;28;01mas\u001b[39;00m \u001b[38;5;21;01msns\u001b[39;00m\n\u001b[1;32m      7\u001b[0m \u001b[38;5;28;01mfrom\u001b[39;00m \u001b[38;5;21;01msklearn\u001b[39;00m\u001b[38;5;21;01m.\u001b[39;00m\u001b[38;5;21;01mmodel_selection\u001b[39;00m \u001b[38;5;28;01mimport\u001b[39;00m train_test_split, cross_val_score\n\u001b[1;32m      8\u001b[0m \u001b[38;5;28;01mfrom\u001b[39;00m \u001b[38;5;21;01msklearn\u001b[39;00m\u001b[38;5;21;01m.\u001b[39;00m\u001b[38;5;21;01mpreprocessing\u001b[39;00m \u001b[38;5;28;01mimport\u001b[39;00m StandardScaler\n",
      "\u001b[0;31mModuleNotFoundError\u001b[0m: No module named 'seaborn'"
     ]
    }
   ],
   "source": [
    "import numpy as np\n",
    "import pandas as pd\n",
    "\n",
    "import matplotlib.pyplot as plt\n",
    "import seaborn as sns\n",
    "\n",
    "from sklearn.model_selection import train_test_split, cross_val_score\n",
    "from sklearn.preprocessing import StandardScaler\n",
    "\n",
    "from sklearn import linear_model\n",
    "from sklearn.model_selection import GridSearchCV, RandomizedSearchCV\n",
    "\n",
    "import warnings"
   ]
  },
  {
   "cell_type": "code",
   "execution_count": 1162,
   "id": "1e391af3",
   "metadata": {},
   "outputs": [
    {
     "ename": "NameError",
     "evalue": "name 'warnings' is not defined",
     "output_type": "error",
     "traceback": [
      "\u001b[0;31m---------------------------------------------------------------------------\u001b[0m",
      "\u001b[0;31mNameError\u001b[0m                                 Traceback (most recent call last)",
      "Cell \u001b[0;32mIn[1162], line 1\u001b[0m\n\u001b[0;32m----> 1\u001b[0m \u001b[43mwarnings\u001b[49m\u001b[38;5;241m.\u001b[39mfilterwarnings(\u001b[38;5;124m'\u001b[39m\u001b[38;5;124mignore\u001b[39m\u001b[38;5;124m'\u001b[39m)\n",
      "\u001b[0;31mNameError\u001b[0m: name 'warnings' is not defined"
     ]
    }
   ],
   "source": [
    "warnings.filterwarnings('ignore')"
   ]
  },
  {
   "cell_type": "code",
   "execution_count": 1163,
   "id": "4cc48e4c",
   "metadata": {},
   "outputs": [
    {
     "ename": "NameError",
     "evalue": "name 'sns' is not defined",
     "output_type": "error",
     "traceback": [
      "\u001b[0;31m---------------------------------------------------------------------------\u001b[0m",
      "\u001b[0;31mNameError\u001b[0m                                 Traceback (most recent call last)",
      "Cell \u001b[0;32mIn[1163], line 6\u001b[0m\n\u001b[1;32m      3\u001b[0m plt\u001b[38;5;241m.\u001b[39mrcParams[\u001b[38;5;124m'\u001b[39m\u001b[38;5;124mfigure.figsize\u001b[39m\u001b[38;5;124m'\u001b[39m] \u001b[38;5;241m=\u001b[39m [\u001b[38;5;241m20.0\u001b[39m, \u001b[38;5;241m7.0\u001b[39m]\n\u001b[1;32m      4\u001b[0m plt\u001b[38;5;241m.\u001b[39mrcParams\u001b[38;5;241m.\u001b[39mupdate({\u001b[38;5;124m'\u001b[39m\u001b[38;5;124mfont.size\u001b[39m\u001b[38;5;124m'\u001b[39m: \u001b[38;5;241m22\u001b[39m,})\n\u001b[0;32m----> 6\u001b[0m \u001b[43msns\u001b[49m\u001b[38;5;241m.\u001b[39mset_palette(\u001b[38;5;124m'\u001b[39m\u001b[38;5;124mviridis\u001b[39m\u001b[38;5;124m'\u001b[39m)\n\u001b[1;32m      7\u001b[0m sns\u001b[38;5;241m.\u001b[39mset_style(\u001b[38;5;124m'\u001b[39m\u001b[38;5;124mwhite\u001b[39m\u001b[38;5;124m'\u001b[39m)\n\u001b[1;32m      8\u001b[0m sns\u001b[38;5;241m.\u001b[39mset_context(\u001b[38;5;124m'\u001b[39m\u001b[38;5;124mtalk\u001b[39m\u001b[38;5;124m'\u001b[39m, font_scale\u001b[38;5;241m=\u001b[39m\u001b[38;5;241m0.8\u001b[39m)\n",
      "\u001b[0;31mNameError\u001b[0m: name 'sns' is not defined"
     ]
    }
   ],
   "source": [
    "\n",
    "\n",
    "%matplotlib inline\n",
    "\n",
    "plt.rcParams['figure.figsize'] = [20.0, 7.0]\n",
    "plt.rcParams.update({'font.size': 22,})\n",
    "\n",
    "sns.set_palette('viridis')\n",
    "sns.set_style('white')\n",
    "sns.set_context('talk', font_scale=0.8)\n",
    " \n"
   ]
  },
  {
   "cell_type": "code",
   "execution_count": 13,
   "id": "2e94c142",
   "metadata": {},
   "outputs": [
    {
     "name": "stderr",
     "output_type": "stream",
     "text": [
      "/home/patrickchirdon/Documents/biosortia-lipinski/biosortia/lib/python3.10/site-packages/sklearn/linear_model/_coordinate_descent.py:1561: DataConversionWarning: A column-vector y was passed when a 1d array was expected. Please change the shape of y to (n_samples, ), for example using ravel().\n",
      "  y = column_or_1d(y, warn=True)\n"
     ]
    },
    {
     "name": "stdout",
     "output_type": "stream",
     "text": [
      "0.0008886409222899072\n",
      "0.0009588383006862156\n"
     ]
    },
    {
     "ename": "TypeError",
     "evalue": "ElasticNet.__init__() got an unexpected keyword argument 'normalize'",
     "output_type": "error",
     "traceback": [
      "\u001b[0;31m---------------------------------------------------------------------------\u001b[0m",
      "\u001b[0;31mTypeError\u001b[0m                                 Traceback (most recent call last)",
      "Cell \u001b[0;32mIn[13], line 34\u001b[0m\n\u001b[1;32m     30\u001b[0m \u001b[38;5;28mprint\u001b[39m(lasso_cv\u001b[38;5;241m.\u001b[39mscore(trainX, trainY))\n\u001b[1;32m     31\u001b[0m \u001b[38;5;28mprint\u001b[39m(lasso_cv\u001b[38;5;241m.\u001b[39mscore(testX, testY))\n\u001b[0;32m---> 34\u001b[0m elastic \u001b[38;5;241m=\u001b[39m \u001b[43mlinear_model\u001b[49m\u001b[38;5;241;43m.\u001b[39;49m\u001b[43mElasticNet\u001b[49m\u001b[43m(\u001b[49m\u001b[43malpha\u001b[49m\u001b[38;5;241;43m=\u001b[39;49m\u001b[38;5;241;43m10\u001b[39;49m\u001b[43m,\u001b[49m\u001b[43m \u001b[49m\u001b[43ml1_ratio\u001b[49m\u001b[38;5;241;43m=\u001b[39;49m\u001b[38;5;241;43m.5\u001b[39;49m\u001b[43m,\u001b[49m\u001b[43m \u001b[49m\u001b[43mrandom_state\u001b[49m\u001b[38;5;241;43m=\u001b[39;49m\u001b[38;5;241;43m0\u001b[39;49m\u001b[43m,\u001b[49m\u001b[43m \u001b[49m\u001b[43mnormalize\u001b[49m\u001b[38;5;241;43m=\u001b[39;49m\u001b[38;5;28;43;01mTrue\u001b[39;49;00m\u001b[43m)\u001b[49m\n\u001b[1;32m     35\u001b[0m lasso_lars \u001b[38;5;241m=\u001b[39m linear_model\u001b[38;5;241m.\u001b[39mLassoLars(alpha\u001b[38;5;241m=\u001b[39m\u001b[38;5;241m.1\u001b[39m)\n\u001b[1;32m     36\u001b[0m bayesian_ridge \u001b[38;5;241m=\u001b[39m linear_model\u001b[38;5;241m.\u001b[39mBayesianRidge()\n",
      "\u001b[0;31mTypeError\u001b[0m: ElasticNet.__init__() got an unexpected keyword argument 'normalize'"
     ]
    }
   ],
   "source": [
    "X_plot = np.linspace(0, 10, 1000)[:, None]\n",
    "scaler = preprocessing.StandardScaler()\n",
    "list_x = scaler.fit_transform(list_x)\n",
    "list_y = np.nan_to_num(list_y)\n",
    "\n",
    "list_x = np.nan_to_num(list_x)\n",
    "\n",
    "list_y=np.asarray(list_y)\n",
    "\n",
    "list_y=list_y.reshape(1, -1)\n",
    "list_y = scaler.fit_transform(list_y)\n",
    "list_y\n",
    "n_samples, n_features = 1, 5\n",
    "#krr = KernelRidge(alpha=5)\n",
    "#krr.fit(list_x, list_y)\n",
    "#predy=krr.predict(list_x)\n",
    "#krr.score(list_y, predy )\n",
    "ridge = linear_model.Ridge(alpha=4)\n",
    "lasso = linear_model.Lasso(alpha=.1)\n",
    "\n",
    "# ####################\n",
    "# Fit regression model\n",
    "from sklearn.linear_model import LassoCV\n",
    "\n",
    "#Lasso Cross validation\n",
    "lasso_cv = LassoCV(alphas = [0.0001, 0.001,0.01, 0.1, 1, 10], random_state=0).fit(trainX, trainY)\n",
    "\n",
    "\n",
    "#score\n",
    "print(lasso_cv.score(trainX, trainY))\n",
    "print(lasso_cv.score(testX, testY))\n",
    "\n",
    "\n",
    "elastic = linear_model.ElasticNet(alpha=10, l1_ratio=.5, random_state=0, normalize=True)\n",
    "lasso_lars = linear_model.LassoLars(alpha=.1)\n",
    "bayesian_ridge = linear_model.BayesianRidge()\n",
    "logistic = linear_model.LogisticRegression(solver='liblinear')\n",
    "sgd = linear_model.SGDRegressor()\n",
    "\n",
    "models = [ridge, lasso, elastic, lasso_lars, bayesian_ridge, logistic, sgd]\n",
    "\n"
   ]
  },
  {
   "cell_type": "code",
   "execution_count": 14,
   "id": "3eb6bc26",
   "metadata": {},
   "outputs": [
    {
     "ename": "NameError",
     "evalue": "name 'elastic' is not defined",
     "output_type": "error",
     "traceback": [
      "\u001b[0;31m---------------------------------------------------------------------------\u001b[0m",
      "\u001b[0;31mNameError\u001b[0m                                 Traceback (most recent call last)",
      "Cell \u001b[0;32mIn[14], line 5\u001b[0m\n\u001b[1;32m      3\u001b[0m ridge\u001b[38;5;241m.\u001b[39mfit(trainX, trainY, sample_weight\u001b[38;5;241m=\u001b[39m\u001b[38;5;241m2\u001b[39m)\n\u001b[1;32m      4\u001b[0m lasso\u001b[38;5;241m.\u001b[39mfit(trainX, trainY)\n\u001b[0;32m----> 5\u001b[0m \u001b[43melastic\u001b[49m\u001b[38;5;241m.\u001b[39mfit(trainX, trainY)\n\u001b[1;32m      6\u001b[0m lasso_lars\u001b[38;5;241m.\u001b[39mfit(trainX, trainY)\n\u001b[1;32m      7\u001b[0m bayesian_ridge\u001b[38;5;241m.\u001b[39mfit(trainX, trainY, sample_weight\u001b[38;5;241m=\u001b[39m\u001b[38;5;241m.02\u001b[39m)\n",
      "\u001b[0;31mNameError\u001b[0m: name 'elastic' is not defined"
     ]
    }
   ],
   "source": [
    "trainX.reshape(1, -1)\n",
    "\n",
    "ridge.fit(trainX, trainY, sample_weight=2)\n",
    "lasso.fit(trainX, trainY)\n",
    "elastic.fit(trainX, trainY)\n",
    "lasso_lars.fit(trainX, trainY)\n",
    "bayesian_ridge.fit(trainX, trainY, sample_weight=.02)\n",
    "sgd.fit(trainX,trainY)"
   ]
  },
  {
   "cell_type": "code",
   "execution_count": 15,
   "id": "3a9fabc2",
   "metadata": {},
   "outputs": [
    {
     "ename": "NameError",
     "evalue": "name 'elastic' is not defined",
     "output_type": "error",
     "traceback": [
      "\u001b[0;31m---------------------------------------------------------------------------\u001b[0m",
      "\u001b[0;31mNameError\u001b[0m                                 Traceback (most recent call last)",
      "Cell \u001b[0;32mIn[15], line 3\u001b[0m\n\u001b[1;32m      1\u001b[0m ypredridge\u001b[38;5;241m=\u001b[39mridge\u001b[38;5;241m.\u001b[39mpredict(testX)\n\u001b[1;32m      2\u001b[0m ypredlasso\u001b[38;5;241m=\u001b[39mlasso\u001b[38;5;241m.\u001b[39mpredict(testX)\n\u001b[0;32m----> 3\u001b[0m ypredelastic\u001b[38;5;241m=\u001b[39m\u001b[43melastic\u001b[49m\u001b[38;5;241m.\u001b[39mpredict(testX)\n\u001b[1;32m      4\u001b[0m ypredlassolars \u001b[38;5;241m=\u001b[39m lasso_lars\u001b[38;5;241m.\u001b[39mpredict(testX)\n\u001b[1;32m      5\u001b[0m ypredbayesian\u001b[38;5;241m=\u001b[39mbayesian_ridge\u001b[38;5;241m.\u001b[39mpredict(testX)\n",
      "\u001b[0;31mNameError\u001b[0m: name 'elastic' is not defined"
     ]
    }
   ],
   "source": [
    "ypredridge=ridge.predict(testX)\n",
    "ypredlasso=lasso.predict(testX)\n",
    "ypredelastic=elastic.predict(testX)\n",
    "ypredlassolars = lasso_lars.predict(testX)\n",
    "ypredbayesian=bayesian_ridge.predict(testX)\n",
    "sgdpredict=sgd.predict(testX)"
   ]
  },
  {
   "cell_type": "code",
   "execution_count": 16,
   "id": "ac653396",
   "metadata": {},
   "outputs": [
    {
     "ename": "NameError",
     "evalue": "name 'sgd' is not defined",
     "output_type": "error",
     "traceback": [
      "\u001b[0;31m---------------------------------------------------------------------------\u001b[0m",
      "\u001b[0;31mNameError\u001b[0m                                 Traceback (most recent call last)",
      "Cell \u001b[0;32mIn[16], line 5\u001b[0m\n\u001b[1;32m      1\u001b[0m testY[\u001b[38;5;241m~\u001b[39mnp\u001b[38;5;241m.\u001b[39misfinite(testY)] \u001b[38;5;241m=\u001b[39m \u001b[38;5;241m0\u001b[39m\n\u001b[1;32m      2\u001b[0m ypredridge[\u001b[38;5;241m~\u001b[39mnp\u001b[38;5;241m.\u001b[39misfinite(ypredridge)] \u001b[38;5;241m=\u001b[39m \u001b[38;5;241m0\u001b[39m\n\u001b[0;32m----> 5\u001b[0m sgdscore \u001b[38;5;241m=\u001b[39m \u001b[43msgd\u001b[49m\u001b[38;5;241m.\u001b[39mscore(testY, ypredridge)\n\u001b[1;32m      6\u001b[0m \u001b[38;5;28mprint\u001b[39m(\u001b[38;5;124m\"\u001b[39m\u001b[38;5;124mR-squared:\u001b[39m\u001b[38;5;124m\"\u001b[39m, sgdscore)\n",
      "\u001b[0;31mNameError\u001b[0m: name 'sgd' is not defined"
     ]
    }
   ],
   "source": [
    "testY[~np.isfinite(testY)] = 0\n",
    "ypredridge[~np.isfinite(ypredridge)] = 0\n",
    "\n",
    "\n",
    "sgdscore = sgd.score(testY, ypredridge)\n",
    "print(\"R-squared:\", sgdscore)"
   ]
  },
  {
   "cell_type": "code",
   "execution_count": 17,
   "id": "b2d8f5c3",
   "metadata": {},
   "outputs": [
    {
     "ename": "NameError",
     "evalue": "name 'bayesian_ridge' is not defined",
     "output_type": "error",
     "traceback": [
      "\u001b[0;31m---------------------------------------------------------------------------\u001b[0m",
      "\u001b[0;31mNameError\u001b[0m                                 Traceback (most recent call last)",
      "Cell \u001b[0;32mIn[17], line 1\u001b[0m\n\u001b[0;32m----> 1\u001b[0m score \u001b[38;5;241m=\u001b[39m \u001b[43mbayesian_ridge\u001b[49m\u001b[38;5;241m.\u001b[39mscore(testY, ypredridge)\n\u001b[1;32m      2\u001b[0m \u001b[38;5;28mprint\u001b[39m(\u001b[38;5;124m\"\u001b[39m\u001b[38;5;124mR-squared:\u001b[39m\u001b[38;5;124m\"\u001b[39m, score)\n",
      "\u001b[0;31mNameError\u001b[0m: name 'bayesian_ridge' is not defined"
     ]
    }
   ],
   "source": [
    "\n",
    "score = bayesian_ridge.score(testY, ypredridge)\n",
    "print(\"R-squared:\", score)"
   ]
  },
  {
   "cell_type": "code",
   "execution_count": 18,
   "id": "71c87f2d",
   "metadata": {},
   "outputs": [
    {
     "ename": "NameError",
     "evalue": "name 'lasso_lars' is not defined",
     "output_type": "error",
     "traceback": [
      "\u001b[0;31m---------------------------------------------------------------------------\u001b[0m",
      "\u001b[0;31mNameError\u001b[0m                                 Traceback (most recent call last)",
      "Cell \u001b[0;32mIn[18], line 1\u001b[0m\n\u001b[0;32m----> 1\u001b[0m \u001b[43mlasso_lars\u001b[49m\u001b[38;5;241m.\u001b[39mscore(testY, ypredlassolars)\n",
      "\u001b[0;31mNameError\u001b[0m: name 'lasso_lars' is not defined"
     ]
    }
   ],
   "source": [
    "lasso_lars.score(testY, ypredlassolars)\n",
    "\n"
   ]
  },
  {
   "cell_type": "code",
   "execution_count": 19,
   "id": "e4a972cc",
   "metadata": {},
   "outputs": [
    {
     "ename": "NameError",
     "evalue": "name 'elastic' is not defined",
     "output_type": "error",
     "traceback": [
      "\u001b[0;31m---------------------------------------------------------------------------\u001b[0m",
      "\u001b[0;31mNameError\u001b[0m                                 Traceback (most recent call last)",
      "Cell \u001b[0;32mIn[19], line 1\u001b[0m\n\u001b[0;32m----> 1\u001b[0m \u001b[43melastic\u001b[49m\u001b[38;5;241m.\u001b[39mscore(testY, ypredelastic)\n",
      "\u001b[0;31mNameError\u001b[0m: name 'elastic' is not defined"
     ]
    }
   ],
   "source": [
    "elastic.score(testY, ypredelastic)"
   ]
  },
  {
   "cell_type": "code",
   "execution_count": 20,
   "id": "0d1f688d",
   "metadata": {},
   "outputs": [
    {
     "data": {
      "text/plain": [
       "1.0"
      ]
     },
     "execution_count": 20,
     "metadata": {},
     "output_type": "execute_result"
    }
   ],
   "source": [
    "lasso.score(testY, ypredlasso)\n",
    "\n"
   ]
  },
  {
   "cell_type": "code",
   "execution_count": 21,
   "id": "04f417d4",
   "metadata": {},
   "outputs": [
    {
     "data": {
      "text/plain": [
       "-0.0010852145061714946"
      ]
     },
     "execution_count": 21,
     "metadata": {},
     "output_type": "execute_result"
    }
   ],
   "source": [
    "ridge.score(testY, ypredridge)"
   ]
  },
  {
   "cell_type": "code",
   "execution_count": 22,
   "id": "4eacaede",
   "metadata": {},
   "outputs": [
    {
     "data": {
      "text/plain": [
       "array([[-0.308],\n",
       "       [ 0.367],\n",
       "       [ 1.289],\n",
       "       ...,\n",
       "       [-1.172],\n",
       "       [-0.24 ],\n",
       "       [-1.07 ]])"
      ]
     },
     "execution_count": 22,
     "metadata": {},
     "output_type": "execute_result"
    }
   ],
   "source": [
    "trainX"
   ]
  },
  {
   "cell_type": "code",
   "execution_count": 23,
   "id": "0fef1a29",
   "metadata": {},
   "outputs": [
    {
     "data": {
      "text/plain": [
       "array([[0.   ],\n",
       "       [0.   ],\n",
       "       [0.   ],\n",
       "       ...,\n",
       "       [0.031],\n",
       "       [0.008],\n",
       "       [0.016]])"
      ]
     },
     "execution_count": 23,
     "metadata": {},
     "output_type": "execute_result"
    }
   ],
   "source": [
    "testY"
   ]
  },
  {
   "cell_type": "code",
   "execution_count": 24,
   "id": "a308e213",
   "metadata": {},
   "outputs": [
    {
     "name": "stdout",
     "output_type": "stream",
     "text": [
      "Predicted values  [0.008 0.008 0.008 0.008 0.008 0.008 0.008 0.008 0.008 0.008]\n"
     ]
    }
   ],
   "source": [
    "ypred=lasso.predict(testX)\n",
    "\n",
    "#z = (x - u) / s\n",
    "#where u is mean and s is standard dev\n",
    "\n",
    "\n",
    "print( \"Predicted values \", np.round( ypred[:10], 10 ) ) \n",
    "\n"
   ]
  },
  {
   "cell_type": "code",
   "execution_count": 25,
   "id": "cf9718e6",
   "metadata": {},
   "outputs": [
    {
     "name": "stdout",
     "output_type": "stream",
     "text": [
      "         Actual  Predicted\n",
      "0      0.000000    0.00785\n",
      "1      0.000000    0.00785\n",
      "2      0.000000    0.00785\n",
      "3      0.015625    0.00785\n",
      "4      0.000000    0.00785\n",
      "...         ...        ...\n",
      "17250  0.023438    0.00785\n",
      "17251  0.000000    0.00785\n",
      "17252  0.031250    0.00785\n",
      "17253  0.007812    0.00785\n",
      "17254  0.015625    0.00785\n",
      "\n",
      "[17255 rows x 2 columns]\n"
     ]
    }
   ],
   "source": [
    "df_preds = pd.DataFrame({'Actual': testY.squeeze(), 'Predicted': ypred.squeeze()})\n",
    "print(df_preds)\n",
    "df_preds.to_csv('mypreds.csv')"
   ]
  },
  {
   "cell_type": "code",
   "execution_count": 1632,
   "id": "13c50464",
   "metadata": {},
   "outputs": [
    {
     "name": "stdout",
     "output_type": "stream",
     "text": [
      "Mean absolute error: 0.01319282323023\n",
      "Mean squared error: 0.00042686029391\n",
      "Root mean squared error: 0.02066\n",
      "    molecule       number       FDA                                approved  \\\n",
      "0        4.0  zalcitabine   44.8000  C1C[C@@H](O[C@@H]1CO)N2C=CC(=NC2=O)N     \n",
      "1        NaN          NaN   50.1000                                     NaN   \n",
      "2        NaN          NaN   55.0000                                     NaN   \n",
      "3        NaN          NaN   57.3000                                     NaN   \n",
      "4        NaN          NaN   59.0000                                     NaN   \n",
      "5        NaN          NaN   68.0000                                     NaN   \n",
      "6        NaN          NaN   69.3000                                     NaN   \n",
      "7        NaN          NaN   71.0000                                     NaN   \n",
      "8        NaN          NaN   71.4000                                     NaN   \n",
      "9        NaN          NaN   73.0000                                     NaN   \n",
      "10       NaN          NaN   81.0000                                     NaN   \n",
      "11       NaN          NaN   83.0000                                     NaN   \n",
      "12       NaN          NaN   84.9000                                     NaN   \n",
      "13       NaN          NaN   89.1000                                     NaN   \n",
      "14       NaN          NaN   93.3000                                     NaN   \n",
      "15       NaN          NaN   94.0000                                     NaN   \n",
      "16       NaN          NaN   95.0000                                     NaN   \n",
      "17       NaN          NaN   97.1000                                     NaN   \n",
      "18       NaN          NaN  100.1000                                     NaN   \n",
      "19       NaN          NaN  100.9000                                     NaN   \n",
      "20       NaN          NaN  107.1000                                     NaN   \n",
      "21       NaN          NaN  109.1000                                     NaN   \n",
      "22       NaN          NaN  112.1000                                     NaN   \n",
      "23       NaN          NaN  113.4000                                     NaN   \n",
      "24       NaN          NaN  119.1000                                     NaN   \n",
      "25       NaN          NaN  121.0000                                     NaN   \n",
      "26       NaN          NaN  122.1000                                     NaN   \n",
      "27       NaN          NaN  124.8000                                     NaN   \n",
      "28       NaN          NaN  129.9000                                     NaN   \n",
      "29       NaN          NaN  132.9000                                     NaN   \n",
      "30       NaN          NaN  134.9000                                     NaN   \n",
      "31       NaN          NaN  137.4000                                     NaN   \n",
      "32       NaN          NaN  139.1000                                     NaN   \n",
      "33       NaN          NaN  147.8000                                     NaN   \n",
      "34       NaN          NaN  149.1000                                     NaN   \n",
      "35       NaN          NaN  152.8000                                     NaN   \n",
      "36       NaN          NaN  155.9000                                     NaN   \n",
      "37       NaN          NaN  163.0000                                     NaN   \n",
      "38       NaN          NaN  167.2000                                     NaN   \n",
      "39       NaN          NaN  177.2000                                     NaN   \n",
      "40       NaN          NaN  195.3000                                     NaN   \n",
      "41       NaN          NaN  212.1000                                     NaN   \n",
      "42       NaN          NaN  142.1231                                     NaN   \n",
      "43       NaN          NaN       NaN                                     NaN   \n",
      "\n",
      "       name      mz  smiles   mw  alogp  hba  ...  Nr-ahr  Nr-aromatase  \\\n",
      "0   211.221 -0.5046     5.0  2.0  90.37  2.0  ...       0             0   \n",
      "1   211.221 -0.5046     5.0  2.0  90.37  2.0  ...       0             0   \n",
      "2   211.221 -0.5046     5.0  2.0  90.37  2.0  ...       0             0   \n",
      "3   211.221 -0.5046     5.0  2.0  90.37  2.0  ...       0             0   \n",
      "4   211.221 -0.5046     5.0  2.0  90.37  2.0  ...       0             0   \n",
      "5   211.221 -0.5046     5.0  2.0  90.37  2.0  ...       0             0   \n",
      "6   211.221 -0.5046     5.0  2.0  90.37  2.0  ...       0             0   \n",
      "7   211.221 -0.5046     5.0  2.0  90.37  2.0  ...       0             0   \n",
      "8   211.221 -0.5046     5.0  2.0  90.37  2.0  ...       0             0   \n",
      "9   211.221 -0.5046     5.0  2.0  90.37  2.0  ...       0             0   \n",
      "10  211.221 -0.5046     5.0  2.0  90.37  2.0  ...       0             0   \n",
      "11  211.221 -0.5046     5.0  2.0  90.37  2.0  ...       0             0   \n",
      "12  211.221 -0.5046     5.0  2.0  90.37  2.0  ...       0             0   \n",
      "13  211.221 -0.5046     5.0  2.0  90.37  2.0  ...       0             0   \n",
      "14  211.221 -0.5046     5.0  2.0  90.37  2.0  ...       0             0   \n",
      "15  211.221 -0.5046     5.0  2.0  90.37  2.0  ...       0             0   \n",
      "16  211.221 -0.5046     5.0  2.0  90.37  2.0  ...       0             0   \n",
      "17  211.221 -0.5046     5.0  2.0  90.37  2.0  ...       0             0   \n",
      "18  211.221 -0.5046     5.0  2.0  90.37  2.0  ...       0             0   \n",
      "19  211.221 -0.5046     5.0  2.0  90.37  2.0  ...       0             0   \n",
      "20  211.221 -0.5046     5.0  2.0  90.37  2.0  ...       0             0   \n",
      "21  211.221 -0.5046     5.0  2.0  90.37  2.0  ...       0             0   \n",
      "22  211.221 -0.5046     5.0  2.0  90.37  2.0  ...       0             0   \n",
      "23  211.221 -0.5046     5.0  2.0  90.37  2.0  ...       0             0   \n",
      "24  211.221 -0.5046     5.0  2.0  90.37  2.0  ...       0             0   \n",
      "25  211.221 -0.5046     5.0  2.0  90.37  2.0  ...       0             0   \n",
      "26  211.221 -0.5046     5.0  2.0  90.37  2.0  ...       0             0   \n",
      "27  211.221 -0.5046     5.0  2.0  90.37  2.0  ...       0             0   \n",
      "28  211.221 -0.5046     5.0  2.0  90.37  2.0  ...       0             0   \n",
      "29  211.221 -0.5046     5.0  2.0  90.37  2.0  ...       0             0   \n",
      "30  211.221 -0.5046     5.0  2.0  90.37  2.0  ...       0             0   \n",
      "31  211.221 -0.5046     5.0  2.0  90.37  2.0  ...       0             0   \n",
      "32  211.221 -0.5046     5.0  2.0  90.37  2.0  ...       0             0   \n",
      "33  211.221 -0.5046     5.0  2.0  90.37  2.0  ...       0             0   \n",
      "34  211.221 -0.5046     5.0  2.0  90.37  2.0  ...       0             0   \n",
      "35  211.221 -0.5046     5.0  2.0  90.37  2.0  ...       0             0   \n",
      "36  211.221 -0.5046     5.0  2.0  90.37  2.0  ...       0             0   \n",
      "37  211.221 -0.5046     5.0  2.0  90.37  2.0  ...       0             0   \n",
      "38  211.221 -0.5046     5.0  2.0  90.37  2.0  ...       0             0   \n",
      "39  211.221 -0.5046     5.0  2.0  90.37  2.0  ...       0             0   \n",
      "40  211.221 -0.5046     5.0  2.0  90.37  2.0  ...       0             0   \n",
      "41  211.221 -0.5046     5.0  2.0  90.37  2.0  ...       0             0   \n",
      "42  211.221 -0.5046     5.0  2.0  90.37  2.0  ...       0             0   \n",
      "43      NaN     NaN     NaN  NaN    NaN  NaN  ...       0             0   \n",
      "\n",
      "    Nr-er  Nr-er-lbd  Nr-ppar-gamma  Sr-are  Sr-atad5  Sr-hse  Sr-mmp  Sr-p53  \n",
      "0       0          0              0     0.6         0       0       0     0.8  \n",
      "1       0          0              0     0.6         0       0       0     0.8  \n",
      "2       0          0              0     0.6         0       0       0     0.8  \n",
      "3       0          0              0     0.6         0       0       0     0.8  \n",
      "4       0          0              0     0.6         0       0       0     0.8  \n",
      "5       0          0              0     0.6         0       0       0     0.8  \n",
      "6       0          0              0     0.6         0       0       0     0.8  \n",
      "7       0          0              0     0.6         0       0       0     0.8  \n",
      "8       0          0              0     0.6         0       0       0     0.8  \n",
      "9       0          0              0     0.6         0       0       0     0.8  \n",
      "10      0          0              0     0.6         0       0       0     0.8  \n",
      "11      0          0              0     0.6         0       0       0     0.8  \n",
      "12      0          0              0     0.6         0       0       0     0.8  \n",
      "13      0          0              0     0.6         0       0       0     0.8  \n",
      "14      0          0              0     0.6         0       0       0     0.8  \n",
      "15      0          0              0     0.6         0       0       0     0.8  \n",
      "16      0          0              0     0.6         0       0       0     0.8  \n",
      "17      0          0              0     0.6         0       0       0     0.8  \n",
      "18      0          0              0     0.6         0       0       0     0.8  \n",
      "19      0          0              0     0.6         0       0       0     0.8  \n",
      "20      0          0              0     0.6         0       0       0     0.8  \n",
      "21      0          0              0     0.6         0       0       0     0.8  \n",
      "22      0          0              0     0.6         0       0       0     0.8  \n",
      "23      0          0              0     0.6         0       0       0     0.8  \n",
      "24      0          0              0     0.6         0       0       0     0.8  \n",
      "25      0          0              0     0.6         0       0       0     0.8  \n",
      "26      0          0              0     0.6         0       0       0     0.8  \n",
      "27      0          0              0     0.6         0       0       0     0.8  \n",
      "28      0          0              0     0.6         0       0       0     0.8  \n",
      "29      0          0              0     0.6         0       0       0     0.8  \n",
      "30      0          0              0     0.6         0       0       0     0.8  \n",
      "31      0          0              0     0.6         0       0       0     0.8  \n",
      "32      0          0              0     0.6         0       0       0     0.8  \n",
      "33      0          0              0     0.6         0       0       0     0.8  \n",
      "34      0          0              0     0.6         0       0       0     0.8  \n",
      "35      0          0              0     0.6         0       0       0     0.8  \n",
      "36      0          0              0     0.6         0       0       0     0.8  \n",
      "37      0          0              0     0.6         0       0       0     0.8  \n",
      "38      0          0              0     0.6         0       0       0     0.8  \n",
      "39      0          0              0     0.6         0       0       0     0.8  \n",
      "40      0          0              0     0.6         0       0       0     0.8  \n",
      "41      0          0              0     0.6         0       0       0     0.8  \n",
      "42      0          0              0     0.6         0       0       0     0.8  \n",
      "43      0          0              0     0.6         0       0       0     0.8  \n",
      "\n",
      "[44 rows x 41 columns]\n"
     ]
    },
    {
     "data": {
      "text/plain": [
       "0     0\n",
       "1     0\n",
       "2     0\n",
       "3     0\n",
       "4     0\n",
       "5     0\n",
       "6     0\n",
       "7     0\n",
       "8     0\n",
       "9     0\n",
       "10    0\n",
       "11    0\n",
       "12    0\n",
       "13    0\n",
       "14    0\n",
       "15    0\n",
       "16    0\n",
       "17    0\n",
       "18    0\n",
       "19    0\n",
       "20    0\n",
       "21    0\n",
       "22    0\n",
       "23    0\n",
       "24    0\n",
       "25    0\n",
       "26    0\n",
       "27    0\n",
       "28    0\n",
       "29    0\n",
       "30    0\n",
       "31    0\n",
       "32    0\n",
       "33    0\n",
       "34    0\n",
       "35    0\n",
       "36    0\n",
       "37    0\n",
       "38    0\n",
       "39    0\n",
       "40    0\n",
       "41    0\n",
       "42    0\n",
       "43    0\n",
       "Name: Nr-ar, dtype: int64"
      ]
     },
     "execution_count": 1632,
     "metadata": {},
     "output_type": "execute_result"
    }
   ],
   "source": [
    "from sklearn.metrics import mean_absolute_error, mean_squared_error\n",
    "import numpy as np\n",
    "mae = mean_absolute_error(testY, ypred)\n",
    "mse = mean_squared_error(testY, ypred)\n",
    "rmse = np.sqrt(mse)\n",
    "print(f'Mean absolute error: {mae:.14f}')\n",
    "print(f'Mean squared error: {mse:.14f}')\n",
    "print(f'Root mean squared error: {rmse:.5f}')\n",
    "\n",
    "mydf=pd.read_csv('compound4.csv', sep=',')\n",
    "\n",
    "mydf.columns=['molecule','number','FDA','approved','name','mz','smiles','mw','alogp','hba', 'hbd', 'psa', 'rotb', 'arom', 'alerts', 'qed','pains','fsp3','cacao','half','life','logs','logd', 'bioconcen', 'igc50', 'lc50fm', 'lc50dm', 'npscore', 'chelator', 'Nr-ar', 'Nr-arlbd', 'Nr-ahr', 'Nr-aromatase', 'Nr-er', 'Nr-er-lbd', 'Nr-ppar-gamma', 'Sr-are', 'Sr-atad5', 'Sr-hse', 'Sr-mmp', 'Sr-p53'] #mydf.columns=['molecule number', 'FDA approved name', 'mz', 'smiles', 'mw', 'alogp', 'hba', 'hbd', 'psa', 'rotb', 'arom', 'alerts', 'qed', 'fraction sp3 hybridized carbons']\n",
    "\n",
    "\n",
    "print(mydf)\n",
    "list_x = mydf['mz']\n",
    "\n",
    "list_x=list_x.astype(float)\n",
    "list_x=list_x.to_numpy().reshape(-1,1) \n",
    "list_y = mydf['Nr-ar'].to_numpy().reshape(-1,1) \n",
    "list_x_pred = [] \n",
    "list_y_real = []\n",
    "\n",
    "np.set_printoptions(precision = 5, suppress = True)\n",
    "\n",
    "list_ya = np.nan_to_num(list_y)\n",
    "\n",
    "list_xa = np.nan_to_num(list_x)\n",
    "\n",
    "list_y=pd.DataFrame(list_y)\n",
    "\n",
    "ymean=list_y.mean()\n",
    "ystd=list_y.std()\n",
    "mydf['Nr-ar']\n",
    "\n",
    "\n",
    "\n"
   ]
  },
  {
   "cell_type": "markdown",
   "id": "798115cd",
   "metadata": {},
   "source": [
    "# mydf=pd.read_csv('compound18.csv', sep=',')\n",
    "mydf.columns=['molecule','number','FDA','approved','name','mz','smiles','mw','alogp','hba', 'hbd', 'psa', 'rotb', 'arom', 'alerts', 'qed','pains','fsp3','cacao','half','life','logs','logd', 'bioconcen', 'igc50', 'lc50fm', 'lc50dm', 'npscore', 'chelator', 'Nr-ar', 'Nr-arlbd',\t'Nr-ahr', 'Nr-aromatase', 'Nr-er', 'Nr-er-lbd', 'Nr-ppar-gamma', 'Sr-are', 'Sr-atad5', 'Sr-hse', 'Sr-mmp', 'Sr-p53']\n",
    "#mydf.columns=['molecule number', 'FDA approved name', 'mz', 'smiles', 'mw', 'alogp', 'hba', 'hbd', 'psa', 'rotb', 'arom', 'alerts', 'qed', 'fraction sp3 hybridized carbons']\n",
    "\n",
    "# Initialize lists and set random seed\n",
    "print(mydf)\n",
    "list_x = mydf['mz']\n",
    "\n",
    "list_x=list_x.astype(float)\n",
    "list_x=list_x.to_numpy().reshape(-1,1)\n",
    "list_y = mydf['chelator'].to_numpy().reshape(-1,1)\n",
    "list_x_pred = []\n",
    "list_y_real = []\n",
    "\n",
    "np.set_printoptions(precision = 5, suppress = True)\n",
    "\n",
    "list_ya = np.nan_to_num(list_y)\n",
    "\n",
    "list_xa = np.nan_to_num(list_x)\n",
    "\n",
    "        \n",
    "list_y=pd.DataFrame(list_y)\n",
    "\n",
    "ymean=list_y.mean()\n",
    "ystd=list_y.std()\n",
    "mydf['chelator']"
   ]
  },
  {
   "cell_type": "code",
   "execution_count": 1633,
   "id": "42b3e706",
   "metadata": {},
   "outputs": [],
   "source": [
    "\n",
    "#scaler = preprocessing.StandardScaler()\n",
    "from sklearn.preprocessing import MinMaxScaler\n",
    "scaler=preprocessing.MinMaxScaler()\n",
    "list_x = scaler.fit_transform(list_x)\n",
    "list_y = scaler.fit_transform(list_y)\n"
   ]
  },
  {
   "cell_type": "code",
   "execution_count": 1634,
   "id": "9b8988bd",
   "metadata": {},
   "outputs": [
    {
     "ename": "ValueError",
     "evalue": "Input X contains NaN.\nRidge does not accept missing values encoded as NaN natively. For supervised learning, you might want to consider sklearn.ensemble.HistGradientBoostingClassifier and Regressor which accept missing values encoded as NaNs natively. Alternatively, it is possible to preprocess the data, for instance by using an imputer transformer in a pipeline or drop samples with missing values. See https://scikit-learn.org/stable/modules/impute.html You can find a list of all estimators that handle NaN values at the following page: https://scikit-learn.org/stable/modules/impute.html#estimators-that-handle-nan-values",
     "output_type": "error",
     "traceback": [
      "\u001b[0;31m---------------------------------------------------------------------------\u001b[0m",
      "\u001b[0;31mValueError\u001b[0m                                Traceback (most recent call last)",
      "Cell \u001b[0;32mIn[1634], line 1\u001b[0m\n\u001b[0;32m----> 1\u001b[0m ypredridge\u001b[38;5;241m=\u001b[39m\u001b[43mridge\u001b[49m\u001b[38;5;241;43m.\u001b[39;49m\u001b[43mpredict\u001b[49m\u001b[43m(\u001b[49m\u001b[43mlist_x\u001b[49m\u001b[43m)\u001b[49m\n\u001b[1;32m      2\u001b[0m ypredlasso\u001b[38;5;241m=\u001b[39melastic\u001b[38;5;241m.\u001b[39mpredict(list_x)\n\u001b[1;32m      4\u001b[0m ypredelastic\u001b[38;5;241m=\u001b[39melastic\u001b[38;5;241m.\u001b[39mpredict(list_x)\n",
      "File \u001b[0;32m~/Documents/biosortia-lipinski/biosortia/lib/python3.10/site-packages/sklearn/linear_model/_base.py:355\u001b[0m, in \u001b[0;36mLinearModel.predict\u001b[0;34m(self, X)\u001b[0m\n\u001b[1;32m    341\u001b[0m \u001b[38;5;28;01mdef\u001b[39;00m \u001b[38;5;21mpredict\u001b[39m(\u001b[38;5;28mself\u001b[39m, X):\n\u001b[1;32m    342\u001b[0m \u001b[38;5;250m    \u001b[39m\u001b[38;5;124;03m\"\"\"\u001b[39;00m\n\u001b[1;32m    343\u001b[0m \u001b[38;5;124;03m    Predict using the linear model.\u001b[39;00m\n\u001b[1;32m    344\u001b[0m \n\u001b[0;32m   (...)\u001b[0m\n\u001b[1;32m    353\u001b[0m \u001b[38;5;124;03m        Returns predicted values.\u001b[39;00m\n\u001b[1;32m    354\u001b[0m \u001b[38;5;124;03m    \"\"\"\u001b[39;00m\n\u001b[0;32m--> 355\u001b[0m     \u001b[38;5;28;01mreturn\u001b[39;00m \u001b[38;5;28;43mself\u001b[39;49m\u001b[38;5;241;43m.\u001b[39;49m\u001b[43m_decision_function\u001b[49m\u001b[43m(\u001b[49m\u001b[43mX\u001b[49m\u001b[43m)\u001b[49m\n",
      "File \u001b[0;32m~/Documents/biosortia-lipinski/biosortia/lib/python3.10/site-packages/sklearn/linear_model/_base.py:338\u001b[0m, in \u001b[0;36mLinearModel._decision_function\u001b[0;34m(self, X)\u001b[0m\n\u001b[1;32m    335\u001b[0m \u001b[38;5;28;01mdef\u001b[39;00m \u001b[38;5;21m_decision_function\u001b[39m(\u001b[38;5;28mself\u001b[39m, X):\n\u001b[1;32m    336\u001b[0m     check_is_fitted(\u001b[38;5;28mself\u001b[39m)\n\u001b[0;32m--> 338\u001b[0m     X \u001b[38;5;241m=\u001b[39m \u001b[38;5;28;43mself\u001b[39;49m\u001b[38;5;241;43m.\u001b[39;49m\u001b[43m_validate_data\u001b[49m\u001b[43m(\u001b[49m\u001b[43mX\u001b[49m\u001b[43m,\u001b[49m\u001b[43m \u001b[49m\u001b[43maccept_sparse\u001b[49m\u001b[38;5;241;43m=\u001b[39;49m\u001b[43m[\u001b[49m\u001b[38;5;124;43m\"\u001b[39;49m\u001b[38;5;124;43mcsr\u001b[39;49m\u001b[38;5;124;43m\"\u001b[39;49m\u001b[43m,\u001b[49m\u001b[43m \u001b[49m\u001b[38;5;124;43m\"\u001b[39;49m\u001b[38;5;124;43mcsc\u001b[39;49m\u001b[38;5;124;43m\"\u001b[39;49m\u001b[43m,\u001b[49m\u001b[43m \u001b[49m\u001b[38;5;124;43m\"\u001b[39;49m\u001b[38;5;124;43mcoo\u001b[39;49m\u001b[38;5;124;43m\"\u001b[39;49m\u001b[43m]\u001b[49m\u001b[43m,\u001b[49m\u001b[43m \u001b[49m\u001b[43mreset\u001b[49m\u001b[38;5;241;43m=\u001b[39;49m\u001b[38;5;28;43;01mFalse\u001b[39;49;00m\u001b[43m)\u001b[49m\n\u001b[1;32m    339\u001b[0m     \u001b[38;5;28;01mreturn\u001b[39;00m safe_sparse_dot(X, \u001b[38;5;28mself\u001b[39m\u001b[38;5;241m.\u001b[39mcoef_\u001b[38;5;241m.\u001b[39mT, dense_output\u001b[38;5;241m=\u001b[39m\u001b[38;5;28;01mTrue\u001b[39;00m) \u001b[38;5;241m+\u001b[39m \u001b[38;5;28mself\u001b[39m\u001b[38;5;241m.\u001b[39mintercept_\n",
      "File \u001b[0;32m~/Documents/biosortia-lipinski/biosortia/lib/python3.10/site-packages/sklearn/base.py:535\u001b[0m, in \u001b[0;36mBaseEstimator._validate_data\u001b[0;34m(self, X, y, reset, validate_separately, **check_params)\u001b[0m\n\u001b[1;32m    533\u001b[0m     \u001b[38;5;28;01mraise\u001b[39;00m \u001b[38;5;167;01mValueError\u001b[39;00m(\u001b[38;5;124m\"\u001b[39m\u001b[38;5;124mValidation should be done on X, y or both.\u001b[39m\u001b[38;5;124m\"\u001b[39m)\n\u001b[1;32m    534\u001b[0m \u001b[38;5;28;01melif\u001b[39;00m \u001b[38;5;129;01mnot\u001b[39;00m no_val_X \u001b[38;5;129;01mand\u001b[39;00m no_val_y:\n\u001b[0;32m--> 535\u001b[0m     X \u001b[38;5;241m=\u001b[39m \u001b[43mcheck_array\u001b[49m\u001b[43m(\u001b[49m\u001b[43mX\u001b[49m\u001b[43m,\u001b[49m\u001b[43m \u001b[49m\u001b[43minput_name\u001b[49m\u001b[38;5;241;43m=\u001b[39;49m\u001b[38;5;124;43m\"\u001b[39;49m\u001b[38;5;124;43mX\u001b[39;49m\u001b[38;5;124;43m\"\u001b[39;49m\u001b[43m,\u001b[49m\u001b[43m \u001b[49m\u001b[38;5;241;43m*\u001b[39;49m\u001b[38;5;241;43m*\u001b[39;49m\u001b[43mcheck_params\u001b[49m\u001b[43m)\u001b[49m\n\u001b[1;32m    536\u001b[0m     out \u001b[38;5;241m=\u001b[39m X\n\u001b[1;32m    537\u001b[0m \u001b[38;5;28;01melif\u001b[39;00m no_val_X \u001b[38;5;129;01mand\u001b[39;00m \u001b[38;5;129;01mnot\u001b[39;00m no_val_y:\n",
      "File \u001b[0;32m~/Documents/biosortia-lipinski/biosortia/lib/python3.10/site-packages/sklearn/utils/validation.py:919\u001b[0m, in \u001b[0;36mcheck_array\u001b[0;34m(array, accept_sparse, accept_large_sparse, dtype, order, copy, force_all_finite, ensure_2d, allow_nd, ensure_min_samples, ensure_min_features, estimator, input_name)\u001b[0m\n\u001b[1;32m    913\u001b[0m         \u001b[38;5;28;01mraise\u001b[39;00m \u001b[38;5;167;01mValueError\u001b[39;00m(\n\u001b[1;32m    914\u001b[0m             \u001b[38;5;124m\"\u001b[39m\u001b[38;5;124mFound array with dim \u001b[39m\u001b[38;5;132;01m%d\u001b[39;00m\u001b[38;5;124m. \u001b[39m\u001b[38;5;132;01m%s\u001b[39;00m\u001b[38;5;124m expected <= 2.\u001b[39m\u001b[38;5;124m\"\u001b[39m\n\u001b[1;32m    915\u001b[0m             \u001b[38;5;241m%\u001b[39m (array\u001b[38;5;241m.\u001b[39mndim, estimator_name)\n\u001b[1;32m    916\u001b[0m         )\n\u001b[1;32m    918\u001b[0m     \u001b[38;5;28;01mif\u001b[39;00m force_all_finite:\n\u001b[0;32m--> 919\u001b[0m         \u001b[43m_assert_all_finite\u001b[49m\u001b[43m(\u001b[49m\n\u001b[1;32m    920\u001b[0m \u001b[43m            \u001b[49m\u001b[43marray\u001b[49m\u001b[43m,\u001b[49m\n\u001b[1;32m    921\u001b[0m \u001b[43m            \u001b[49m\u001b[43minput_name\u001b[49m\u001b[38;5;241;43m=\u001b[39;49m\u001b[43minput_name\u001b[49m\u001b[43m,\u001b[49m\n\u001b[1;32m    922\u001b[0m \u001b[43m            \u001b[49m\u001b[43mestimator_name\u001b[49m\u001b[38;5;241;43m=\u001b[39;49m\u001b[43mestimator_name\u001b[49m\u001b[43m,\u001b[49m\n\u001b[1;32m    923\u001b[0m \u001b[43m            \u001b[49m\u001b[43mallow_nan\u001b[49m\u001b[38;5;241;43m=\u001b[39;49m\u001b[43mforce_all_finite\u001b[49m\u001b[43m \u001b[49m\u001b[38;5;241;43m==\u001b[39;49m\u001b[43m \u001b[49m\u001b[38;5;124;43m\"\u001b[39;49m\u001b[38;5;124;43mallow-nan\u001b[39;49m\u001b[38;5;124;43m\"\u001b[39;49m\u001b[43m,\u001b[49m\n\u001b[1;32m    924\u001b[0m \u001b[43m        \u001b[49m\u001b[43m)\u001b[49m\n\u001b[1;32m    926\u001b[0m \u001b[38;5;28;01mif\u001b[39;00m ensure_min_samples \u001b[38;5;241m>\u001b[39m \u001b[38;5;241m0\u001b[39m:\n\u001b[1;32m    927\u001b[0m     n_samples \u001b[38;5;241m=\u001b[39m _num_samples(array)\n",
      "File \u001b[0;32m~/Documents/biosortia-lipinski/biosortia/lib/python3.10/site-packages/sklearn/utils/validation.py:161\u001b[0m, in \u001b[0;36m_assert_all_finite\u001b[0;34m(X, allow_nan, msg_dtype, estimator_name, input_name)\u001b[0m\n\u001b[1;32m    144\u001b[0m \u001b[38;5;28;01mif\u001b[39;00m estimator_name \u001b[38;5;129;01mand\u001b[39;00m input_name \u001b[38;5;241m==\u001b[39m \u001b[38;5;124m\"\u001b[39m\u001b[38;5;124mX\u001b[39m\u001b[38;5;124m\"\u001b[39m \u001b[38;5;129;01mand\u001b[39;00m has_nan_error:\n\u001b[1;32m    145\u001b[0m     \u001b[38;5;66;03m# Improve the error message on how to handle missing values in\u001b[39;00m\n\u001b[1;32m    146\u001b[0m     \u001b[38;5;66;03m# scikit-learn.\u001b[39;00m\n\u001b[1;32m    147\u001b[0m     msg_err \u001b[38;5;241m+\u001b[39m\u001b[38;5;241m=\u001b[39m (\n\u001b[1;32m    148\u001b[0m         \u001b[38;5;124mf\u001b[39m\u001b[38;5;124m\"\u001b[39m\u001b[38;5;130;01m\\n\u001b[39;00m\u001b[38;5;132;01m{\u001b[39;00mestimator_name\u001b[38;5;132;01m}\u001b[39;00m\u001b[38;5;124m does not accept missing values\u001b[39m\u001b[38;5;124m\"\u001b[39m\n\u001b[1;32m    149\u001b[0m         \u001b[38;5;124m\"\u001b[39m\u001b[38;5;124m encoded as NaN natively. For supervised learning, you might want\u001b[39m\u001b[38;5;124m\"\u001b[39m\n\u001b[0;32m   (...)\u001b[0m\n\u001b[1;32m    159\u001b[0m         \u001b[38;5;124m\"\u001b[39m\u001b[38;5;124m#estimators-that-handle-nan-values\u001b[39m\u001b[38;5;124m\"\u001b[39m\n\u001b[1;32m    160\u001b[0m     )\n\u001b[0;32m--> 161\u001b[0m \u001b[38;5;28;01mraise\u001b[39;00m \u001b[38;5;167;01mValueError\u001b[39;00m(msg_err)\n",
      "\u001b[0;31mValueError\u001b[0m: Input X contains NaN.\nRidge does not accept missing values encoded as NaN natively. For supervised learning, you might want to consider sklearn.ensemble.HistGradientBoostingClassifier and Regressor which accept missing values encoded as NaNs natively. Alternatively, it is possible to preprocess the data, for instance by using an imputer transformer in a pipeline or drop samples with missing values. See https://scikit-learn.org/stable/modules/impute.html You can find a list of all estimators that handle NaN values at the following page: https://scikit-learn.org/stable/modules/impute.html#estimators-that-handle-nan-values"
     ]
    }
   ],
   "source": [
    "ypredridge=ridge.predict(list_x)\n",
    "ypredlasso=elastic.predict(list_x)\n",
    "\n",
    "ypredelastic=elastic.predict(list_x)\n",
    "ypredlassolars = lasso_lars.predict(list_x)\n",
    "ypredbayesian=bayesian_ridge.predict(list_x)\n",
    "sgdpredict=sgd.predict(list_x)\n",
    "\n",
    "yhat = scaler.inverse_transform(ypredlasso)\n",
    "print(yhat)\n"
   ]
  },
  {
   "cell_type": "code",
   "execution_count": 1635,
   "id": "0eb18fdc",
   "metadata": {},
   "outputs": [
    {
     "data": {
      "text/plain": [
       "0.49993548"
      ]
     },
     "execution_count": 1635,
     "metadata": {},
     "output_type": "execute_result"
    }
   ],
   "source": [
    "yhat.mean()"
   ]
  },
  {
   "cell_type": "code",
   "execution_count": 1636,
   "id": "167d6bb9",
   "metadata": {},
   "outputs": [
    {
     "ename": "ValueError",
     "evalue": "Per-column arrays must each be 1-dimensional",
     "output_type": "error",
     "traceback": [
      "\u001b[0;31m---------------------------------------------------------------------------\u001b[0m",
      "\u001b[0;31mValueError\u001b[0m                                Traceback (most recent call last)",
      "Cell \u001b[0;32mIn[1636], line 1\u001b[0m\n\u001b[0;32m----> 1\u001b[0m df_preds \u001b[38;5;241m=\u001b[39m \u001b[43mpd\u001b[49m\u001b[38;5;241;43m.\u001b[39;49m\u001b[43mDataFrame\u001b[49m\u001b[43m(\u001b[49m\u001b[43m{\u001b[49m\u001b[38;5;124;43m'\u001b[39;49m\u001b[38;5;124;43mActual\u001b[39;49m\u001b[38;5;124;43m'\u001b[39;49m\u001b[43m:\u001b[49m\u001b[43m \u001b[49m\u001b[43mlist_y\u001b[49m\u001b[38;5;241;43m.\u001b[39;49m\u001b[43msqueeze\u001b[49m\u001b[43m(\u001b[49m\u001b[43m)\u001b[49m\u001b[43m,\u001b[49m\u001b[43m \u001b[49m\u001b[38;5;124;43m'\u001b[39;49m\u001b[38;5;124;43mPredicted\u001b[39;49m\u001b[38;5;124;43m'\u001b[39;49m\u001b[43m:\u001b[49m\u001b[43m \u001b[49m\u001b[43myhat\u001b[49m\u001b[38;5;241;43m.\u001b[39;49m\u001b[43msqueeze\u001b[49m\u001b[43m(\u001b[49m\u001b[43m)\u001b[49m\u001b[43m}\u001b[49m\u001b[43m)\u001b[49m\n\u001b[1;32m      2\u001b[0m \u001b[38;5;28mprint\u001b[39m(df_preds)\n",
      "File \u001b[0;32m~/Documents/biosortia-lipinski/biosortia/lib/python3.10/site-packages/pandas/core/frame.py:664\u001b[0m, in \u001b[0;36mDataFrame.__init__\u001b[0;34m(self, data, index, columns, dtype, copy)\u001b[0m\n\u001b[1;32m    658\u001b[0m     mgr \u001b[38;5;241m=\u001b[39m \u001b[38;5;28mself\u001b[39m\u001b[38;5;241m.\u001b[39m_init_mgr(\n\u001b[1;32m    659\u001b[0m         data, axes\u001b[38;5;241m=\u001b[39m{\u001b[38;5;124m\"\u001b[39m\u001b[38;5;124mindex\u001b[39m\u001b[38;5;124m\"\u001b[39m: index, \u001b[38;5;124m\"\u001b[39m\u001b[38;5;124mcolumns\u001b[39m\u001b[38;5;124m\"\u001b[39m: columns}, dtype\u001b[38;5;241m=\u001b[39mdtype, copy\u001b[38;5;241m=\u001b[39mcopy\n\u001b[1;32m    660\u001b[0m     )\n\u001b[1;32m    662\u001b[0m \u001b[38;5;28;01melif\u001b[39;00m \u001b[38;5;28misinstance\u001b[39m(data, \u001b[38;5;28mdict\u001b[39m):\n\u001b[1;32m    663\u001b[0m     \u001b[38;5;66;03m# GH#38939 de facto copy defaults to False only in non-dict cases\u001b[39;00m\n\u001b[0;32m--> 664\u001b[0m     mgr \u001b[38;5;241m=\u001b[39m \u001b[43mdict_to_mgr\u001b[49m\u001b[43m(\u001b[49m\u001b[43mdata\u001b[49m\u001b[43m,\u001b[49m\u001b[43m \u001b[49m\u001b[43mindex\u001b[49m\u001b[43m,\u001b[49m\u001b[43m \u001b[49m\u001b[43mcolumns\u001b[49m\u001b[43m,\u001b[49m\u001b[43m \u001b[49m\u001b[43mdtype\u001b[49m\u001b[38;5;241;43m=\u001b[39;49m\u001b[43mdtype\u001b[49m\u001b[43m,\u001b[49m\u001b[43m \u001b[49m\u001b[43mcopy\u001b[49m\u001b[38;5;241;43m=\u001b[39;49m\u001b[43mcopy\u001b[49m\u001b[43m,\u001b[49m\u001b[43m \u001b[49m\u001b[43mtyp\u001b[49m\u001b[38;5;241;43m=\u001b[39;49m\u001b[43mmanager\u001b[49m\u001b[43m)\u001b[49m\n\u001b[1;32m    665\u001b[0m \u001b[38;5;28;01melif\u001b[39;00m \u001b[38;5;28misinstance\u001b[39m(data, ma\u001b[38;5;241m.\u001b[39mMaskedArray):\n\u001b[1;32m    666\u001b[0m     \u001b[38;5;28;01mimport\u001b[39;00m \u001b[38;5;21;01mnumpy\u001b[39;00m\u001b[38;5;21;01m.\u001b[39;00m\u001b[38;5;21;01mma\u001b[39;00m\u001b[38;5;21;01m.\u001b[39;00m\u001b[38;5;21;01mmrecords\u001b[39;00m \u001b[38;5;28;01mas\u001b[39;00m \u001b[38;5;21;01mmrecords\u001b[39;00m\n",
      "File \u001b[0;32m~/Documents/biosortia-lipinski/biosortia/lib/python3.10/site-packages/pandas/core/internals/construction.py:493\u001b[0m, in \u001b[0;36mdict_to_mgr\u001b[0;34m(data, index, columns, dtype, typ, copy)\u001b[0m\n\u001b[1;32m    489\u001b[0m     \u001b[38;5;28;01melse\u001b[39;00m:\n\u001b[1;32m    490\u001b[0m         \u001b[38;5;66;03m# dtype check to exclude e.g. range objects, scalars\u001b[39;00m\n\u001b[1;32m    491\u001b[0m         arrays \u001b[38;5;241m=\u001b[39m [x\u001b[38;5;241m.\u001b[39mcopy() \u001b[38;5;28;01mif\u001b[39;00m \u001b[38;5;28mhasattr\u001b[39m(x, \u001b[38;5;124m\"\u001b[39m\u001b[38;5;124mdtype\u001b[39m\u001b[38;5;124m\"\u001b[39m) \u001b[38;5;28;01melse\u001b[39;00m x \u001b[38;5;28;01mfor\u001b[39;00m x \u001b[38;5;129;01min\u001b[39;00m arrays]\n\u001b[0;32m--> 493\u001b[0m \u001b[38;5;28;01mreturn\u001b[39;00m \u001b[43marrays_to_mgr\u001b[49m\u001b[43m(\u001b[49m\u001b[43marrays\u001b[49m\u001b[43m,\u001b[49m\u001b[43m \u001b[49m\u001b[43mcolumns\u001b[49m\u001b[43m,\u001b[49m\u001b[43m \u001b[49m\u001b[43mindex\u001b[49m\u001b[43m,\u001b[49m\u001b[43m \u001b[49m\u001b[43mdtype\u001b[49m\u001b[38;5;241;43m=\u001b[39;49m\u001b[43mdtype\u001b[49m\u001b[43m,\u001b[49m\u001b[43m \u001b[49m\u001b[43mtyp\u001b[49m\u001b[38;5;241;43m=\u001b[39;49m\u001b[43mtyp\u001b[49m\u001b[43m,\u001b[49m\u001b[43m \u001b[49m\u001b[43mconsolidate\u001b[49m\u001b[38;5;241;43m=\u001b[39;49m\u001b[43mcopy\u001b[49m\u001b[43m)\u001b[49m\n",
      "File \u001b[0;32m~/Documents/biosortia-lipinski/biosortia/lib/python3.10/site-packages/pandas/core/internals/construction.py:118\u001b[0m, in \u001b[0;36marrays_to_mgr\u001b[0;34m(arrays, columns, index, dtype, verify_integrity, typ, consolidate)\u001b[0m\n\u001b[1;32m    115\u001b[0m \u001b[38;5;28;01mif\u001b[39;00m verify_integrity:\n\u001b[1;32m    116\u001b[0m     \u001b[38;5;66;03m# figure out the index, if necessary\u001b[39;00m\n\u001b[1;32m    117\u001b[0m     \u001b[38;5;28;01mif\u001b[39;00m index \u001b[38;5;129;01mis\u001b[39;00m \u001b[38;5;28;01mNone\u001b[39;00m:\n\u001b[0;32m--> 118\u001b[0m         index \u001b[38;5;241m=\u001b[39m \u001b[43m_extract_index\u001b[49m\u001b[43m(\u001b[49m\u001b[43marrays\u001b[49m\u001b[43m)\u001b[49m\n\u001b[1;32m    119\u001b[0m     \u001b[38;5;28;01melse\u001b[39;00m:\n\u001b[1;32m    120\u001b[0m         index \u001b[38;5;241m=\u001b[39m ensure_index(index)\n",
      "File \u001b[0;32m~/Documents/biosortia-lipinski/biosortia/lib/python3.10/site-packages/pandas/core/internals/construction.py:653\u001b[0m, in \u001b[0;36m_extract_index\u001b[0;34m(data)\u001b[0m\n\u001b[1;32m    651\u001b[0m         raw_lengths\u001b[38;5;241m.\u001b[39mappend(\u001b[38;5;28mlen\u001b[39m(val))\n\u001b[1;32m    652\u001b[0m     \u001b[38;5;28;01melif\u001b[39;00m \u001b[38;5;28misinstance\u001b[39m(val, np\u001b[38;5;241m.\u001b[39mndarray) \u001b[38;5;129;01mand\u001b[39;00m val\u001b[38;5;241m.\u001b[39mndim \u001b[38;5;241m>\u001b[39m \u001b[38;5;241m1\u001b[39m:\n\u001b[0;32m--> 653\u001b[0m         \u001b[38;5;28;01mraise\u001b[39;00m \u001b[38;5;167;01mValueError\u001b[39;00m(\u001b[38;5;124m\"\u001b[39m\u001b[38;5;124mPer-column arrays must each be 1-dimensional\u001b[39m\u001b[38;5;124m\"\u001b[39m)\n\u001b[1;32m    655\u001b[0m \u001b[38;5;28;01mif\u001b[39;00m \u001b[38;5;129;01mnot\u001b[39;00m indexes \u001b[38;5;129;01mand\u001b[39;00m \u001b[38;5;129;01mnot\u001b[39;00m raw_lengths:\n\u001b[1;32m    656\u001b[0m     \u001b[38;5;28;01mraise\u001b[39;00m \u001b[38;5;167;01mValueError\u001b[39;00m(\u001b[38;5;124m\"\u001b[39m\u001b[38;5;124mIf using all scalar values, you must pass an index\u001b[39m\u001b[38;5;124m\"\u001b[39m)\n",
      "\u001b[0;31mValueError\u001b[0m: Per-column arrays must each be 1-dimensional"
     ]
    }
   ],
   "source": [
    "df_preds = pd.DataFrame({'Actual': list_y.squeeze(), 'Predicted': yhat.squeeze()})\n",
    "print(df_preds)"
   ]
  },
  {
   "cell_type": "code",
   "execution_count": 1637,
   "id": "52e6f49d",
   "metadata": {},
   "outputs": [
    {
     "name": "stdout",
     "output_type": "stream",
     "text": [
      "0    0.674902\n",
      "dtype: float64\n"
     ]
    }
   ],
   "source": [
    "#z = (x - u) / s\n",
    "#where u is mean and s is standard dev\n",
    "myval=ypredlasso[0] * list_ystd + list_ymean\n",
    "\n",
    "print(myval)\n"
   ]
  },
  {
   "cell_type": "code",
   "execution_count": null,
   "id": "cc9534cc",
   "metadata": {},
   "outputs": [],
   "source": []
  },
  {
   "cell_type": "code",
   "execution_count": 1638,
   "id": "b18bf030",
   "metadata": {},
   "outputs": [
    {
     "data": {
      "text/plain": [
       "0.149406"
      ]
     },
     "execution_count": 1638,
     "metadata": {},
     "output_type": "execute_result"
    }
   ],
   "source": [
    "\n",
    "\n",
    ".000815 * 5.681747e-17 + 0.149406"
   ]
  },
  {
   "cell_type": "code",
   "execution_count": 1639,
   "id": "47f68f42",
   "metadata": {},
   "outputs": [
    {
     "data": {
      "text/plain": [
       "0.0"
      ]
     },
     "execution_count": 1639,
     "metadata": {},
     "output_type": "execute_result"
    }
   ],
   "source": [
    "list_y.std()"
   ]
  },
  {
   "cell_type": "code",
   "execution_count": 1640,
   "id": "34c80d59",
   "metadata": {},
   "outputs": [
    {
     "ename": "AttributeError",
     "evalue": "'numpy.ndarray' object has no attribute 'columns'",
     "output_type": "error",
     "traceback": [
      "\u001b[0;31m---------------------------------------------------------------------------\u001b[0m",
      "\u001b[0;31mAttributeError\u001b[0m                            Traceback (most recent call last)",
      "Cell \u001b[0;32mIn[1640], line 1\u001b[0m\n\u001b[0;32m----> 1\u001b[0m \u001b[43mlist_y\u001b[49m\u001b[38;5;241;43m.\u001b[39;49m\u001b[43mcolumns\u001b[49m\u001b[38;5;241m=\u001b[39m[\u001b[38;5;124m'\u001b[39m\u001b[38;5;124mqed\u001b[39m\u001b[38;5;124m'\u001b[39m]\n",
      "\u001b[0;31mAttributeError\u001b[0m: 'numpy.ndarray' object has no attribute 'columns'"
     ]
    }
   ],
   "source": [
    "list_y.columns=['qed']"
   ]
  },
  {
   "cell_type": "code",
   "execution_count": 1641,
   "id": "d5a93c9d",
   "metadata": {},
   "outputs": [
    {
     "ename": "IndexError",
     "evalue": "only integers, slices (`:`), ellipsis (`...`), numpy.newaxis (`None`) and integer or boolean arrays are valid indices",
     "output_type": "error",
     "traceback": [
      "\u001b[0;31m---------------------------------------------------------------------------\u001b[0m",
      "\u001b[0;31mIndexError\u001b[0m                                Traceback (most recent call last)",
      "Cell \u001b[0;32mIn[1641], line 1\u001b[0m\n\u001b[0;32m----> 1\u001b[0m \u001b[43mlist_y\u001b[49m\u001b[43m[\u001b[49m\u001b[38;5;124;43m'\u001b[39;49m\u001b[38;5;124;43mqed\u001b[39;49m\u001b[38;5;124;43m'\u001b[39;49m\u001b[43m]\u001b[49m\n",
      "\u001b[0;31mIndexError\u001b[0m: only integers, slices (`:`), ellipsis (`...`), numpy.newaxis (`None`) and integer or boolean arrays are valid indices"
     ]
    }
   ],
   "source": [
    "list_y['qed']"
   ]
  },
  {
   "cell_type": "code",
   "execution_count": 1642,
   "id": "0a5e8fb5",
   "metadata": {},
   "outputs": [
    {
     "ename": "IndexError",
     "evalue": "only integers, slices (`:`), ellipsis (`...`), numpy.newaxis (`None`) and integer or boolean arrays are valid indices",
     "output_type": "error",
     "traceback": [
      "\u001b[0;31m---------------------------------------------------------------------------\u001b[0m",
      "\u001b[0;31mIndexError\u001b[0m                                Traceback (most recent call last)",
      "Cell \u001b[0;32mIn[1642], line 1\u001b[0m\n\u001b[0;32m----> 1\u001b[0m \u001b[38;5;28mprint\u001b[39m(\u001b[38;5;124m\"\u001b[39m\u001b[38;5;124mstd of arr : \u001b[39m\u001b[38;5;124m\"\u001b[39m, np\u001b[38;5;241m.\u001b[39mstd(\u001b[43mlist_y\u001b[49m\u001b[43m[\u001b[49m\u001b[38;5;124;43m'\u001b[39;49m\u001b[38;5;124;43mqed\u001b[39;49m\u001b[38;5;124;43m'\u001b[39;49m\u001b[43m]\u001b[49m))\n",
      "\u001b[0;31mIndexError\u001b[0m: only integers, slices (`:`), ellipsis (`...`), numpy.newaxis (`None`) and integer or boolean arrays are valid indices"
     ]
    }
   ],
   "source": [
    "print(\"std of arr : \", np.std(list_y['qed']))\n",
    "  "
   ]
  },
  {
   "cell_type": "code",
   "execution_count": 1643,
   "id": "c4df273a",
   "metadata": {},
   "outputs": [
    {
     "name": "stderr",
     "output_type": "stream",
     "text": [
      "/tmp/ipykernel_38841/3908447724.py:1: DtypeWarning: Columns (13) have mixed types. Specify dtype option on import or set low_memory=False.\n",
      "  mydf=pd.read_csv('GNPStrainqed',  sep='\\t')\n"
     ]
    }
   ],
   "source": [
    "mydf=pd.read_csv('GNPStrainqed',  sep='\\t')"
   ]
  },
  {
   "cell_type": "code",
   "execution_count": 1644,
   "id": "34b86986",
   "metadata": {},
   "outputs": [
    {
     "data": {
      "text/plain": [
       "array([[0.],\n",
       "       [0.],\n",
       "       [0.],\n",
       "       ...,\n",
       "       [0.],\n",
       "       [0.],\n",
       "       [0.]])"
      ]
     },
     "execution_count": 1644,
     "metadata": {},
     "output_type": "execute_result"
    }
   ],
   "source": [
    "testY"
   ]
  },
  {
   "cell_type": "code",
   "execution_count": 1645,
   "id": "4ce9d1cb",
   "metadata": {},
   "outputs": [
    {
     "name": "stderr",
     "output_type": "stream",
     "text": [
      "/home/patrickchirdon/Documents/biosortia-lipinski/biosortia/lib/python3.10/site-packages/keras/optimizers/optimizer_v2/gradient_descent.py:114: UserWarning: The `lr` argument is deprecated, use `learning_rate` instead.\n",
      "  super().__init__(name, **kwargs)\n"
     ]
    },
    {
     "name": "stdout",
     "output_type": "stream",
     "text": [
      "15/15 [==============================] - 0s 2ms/step - loss: 0.2497 - accuracy: 0.9667\n",
      "1/1 [==============================] - 0s 62ms/step\n",
      "Requirement already satisfied: pydot in ./biosortia/lib/python3.10/site-packages (1.4.2)\n",
      "Requirement already satisfied: pyparsing>=2.1.4 in ./biosortia/lib/python3.10/site-packages (from pydot) (3.0.9)\n",
      "\n",
      "\u001b[1m[\u001b[0m\u001b[34;49mnotice\u001b[0m\u001b[1;39;49m]\u001b[0m\u001b[39;49m A new release of pip available: \u001b[0m\u001b[31;49m22.3.1\u001b[0m\u001b[39;49m -> \u001b[0m\u001b[32;49m23.0.1\u001b[0m\n",
      "\u001b[1m[\u001b[0m\u001b[34;49mnotice\u001b[0m\u001b[1;39;49m]\u001b[0m\u001b[39;49m To update, run: \u001b[0m\u001b[32;49mpip install --upgrade pip\u001b[0m\n",
      "Requirement already satisfied: graphviz in ./biosortia/lib/python3.10/site-packages (0.20.1)\n",
      "\n",
      "\u001b[1m[\u001b[0m\u001b[34;49mnotice\u001b[0m\u001b[1;39;49m]\u001b[0m\u001b[39;49m A new release of pip available: \u001b[0m\u001b[31;49m22.3.1\u001b[0m\u001b[39;49m -> \u001b[0m\u001b[32;49m23.0.1\u001b[0m\n",
      "\u001b[1m[\u001b[0m\u001b[34;49mnotice\u001b[0m\u001b[1;39;49m]\u001b[0m\u001b[39;49m To update, run: \u001b[0m\u001b[32;49mpip install --upgrade pip\u001b[0m\n",
      "Neural Network RMS nan\n"
     ]
    },
    {
     "data": {
      "image/png": "[encoded data removed]",
      "text/plain": [
       "<IPython.core.display.Image object>"
      ]
     },
     "execution_count": 1645,
     "metadata": {},
     "output_type": "execute_result"
    }
   ],
   "source": [
    "from keras.models import Sequential\n",
    "from keras.layers import Dense, Dropout\n",
    "from keras.callbacks import ReduceLROnPlateau\n",
    "from keras import regularizers as WeightRegularizer\n",
    "from keras.optimizers import SGD\n",
    "    #SKlearn for metrics and datasplits\n",
    "from sklearn.model_selection import cross_validate\n",
    "from sklearn.metrics import roc_auc_score, roc_curve\n",
    "    #Matplotlib for plotting\n",
    "from matplotlib import pyplot as plt\n",
    "from keras.regularizers import l2\n",
    "\n",
    "    # In[11]:\n",
    "\n",
    "\n",
    "    #Convert to Numpy arrays\n",
    "from sklearn.preprocessing import StandardScaler\n",
    "X = np.array(list(list_x))\n",
    "y = list_y\n",
    "\n",
    "\n",
    "# In[12]:\n",
    "\n",
    "\n",
    "train_size=int(.7* X.shape[0])\n",
    "X_train, X_test, y_train, y_test = X[0:train_size], X[train_size:],y[0:train_size],y[train_size:]\n",
    "from keras.utils.vis_utils import plot_model\n",
    "\n",
    "\n",
    "model = Sequential()\n",
    "model.add(Dense(60, input_dim=X.shape[1], activation='relu'))\n",
    "model.add(Dropout(0.6, input_shape=(1,)))\n",
    "model.add(Dense(60, input_dim=X.shape[1], activation='relu'))\n",
    "model.add(Dropout(0.6, input_shape=(1,)))\n",
    "model.add(Dense(6, activation='sigmoid'))\n",
    "    # In[34]:\n",
    "model.compile(loss='mean_squared_error', metrics=['accuracy'], optimizer=SGD(lr=.001, momentum=0.9, nesterov=True))\n",
    "model.fit(X_train, y_train, epochs=1, batch_size=2)\n",
    "    \n",
    "    \n",
    "y_pred = model.predict(X_test)\n",
    "rms = (np.mean((y_test.reshape(-1,1) - y_pred)**2))**0.5\n",
    "s = np.std(y_test -y_pred)\n",
    "!pip install pydot\n",
    "!pip install graphviz\n",
    "print(\"Neural Network RMS\", rms)\n",
    "plot_model(model, to_file='model_plot.png', show_shapes=True, show_layer_names=True)\n"
   ]
  },
  {
   "cell_type": "code",
   "execution_count": 1646,
   "id": "5d0064ec",
   "metadata": {},
   "outputs": [
    {
     "name": "stdout",
     "output_type": "stream",
     "text": [
      "540/540 [==============================] - 1s 1ms/step\n"
     ]
    }
   ],
   "source": [
    "predneuro=model.predict(testY)"
   ]
  },
  {
   "cell_type": "code",
   "execution_count": 1647,
   "id": "17e81e8e",
   "metadata": {},
   "outputs": [],
   "source": [
    "\n",
    "yhat = scaler.inverse_transform(predneuro)"
   ]
  },
  {
   "cell_type": "code",
   "execution_count": 1648,
   "id": "c99ee4ec",
   "metadata": {
    "scrolled": true
   },
   "outputs": [
    {
     "data": {
      "text/plain": [
       "array([[0.49911, 0.49911, 0.49911, 0.49911, 0.49911, 0.49911],\n",
       "       [0.49911, 0.49911, 0.49911, 0.49911, 0.49911, 0.49911],\n",
       "       [0.49911, 0.49911, 0.49911, 0.49911, 0.49911, 0.49911],\n",
       "       ...,\n",
       "       [0.49911, 0.49911, 0.49911, 0.49911, 0.49911, 0.49911],\n",
       "       [0.49911, 0.49911, 0.49911, 0.49911, 0.49911, 0.49911],\n",
       "       [0.49911, 0.49911, 0.49911, 0.49911, 0.49911, 0.49911]],\n",
       "      dtype=float32)"
      ]
     },
     "execution_count": 1648,
     "metadata": {},
     "output_type": "execute_result"
    }
   ],
   "source": [
    "predneuro"
   ]
  },
  {
   "cell_type": "code",
   "execution_count": null,
   "id": "37c13578",
   "metadata": {},
   "outputs": [],
   "source": []
  },
  {
   "cell_type": "code",
   "execution_count": 1649,
   "id": "0fd0d0e2",
   "metadata": {
    "scrolled": false
   },
   "outputs": [
    {
     "data": {
      "text/plain": [
       "0.49905822"
      ]
     },
     "execution_count": 1649,
     "metadata": {},
     "output_type": "execute_result"
    }
   ],
   "source": [
    "yhat.mean()"
   ]
  },
  {
   "cell_type": "code",
   "execution_count": 1650,
   "id": "222f9386",
   "metadata": {},
   "outputs": [
    {
     "data": {
      "text/plain": [
       "array([[0.],\n",
       "       [0.],\n",
       "       [0.],\n",
       "       ...,\n",
       "       [0.],\n",
       "       [0.],\n",
       "       [0.]])"
      ]
     },
     "execution_count": 1650,
     "metadata": {},
     "output_type": "execute_result"
    }
   ],
   "source": [
    "testY"
   ]
  },
  {
   "cell_type": "code",
   "execution_count": null,
   "id": "c79a10eb",
   "metadata": {},
   "outputs": [],
   "source": []
  },
  {
   "cell_type": "code",
   "execution_count": null,
   "id": "2b98e355",
   "metadata": {},
   "outputs": [],
   "source": []
  },
  {
   "cell_type": "code",
   "execution_count": null,
   "id": "e2f52656",
   "metadata": {},
   "outputs": [],
   "source": []
  },
  {
   "cell_type": "code",
   "execution_count": null,
   "id": "a53c29e1",
   "metadata": {},
   "outputs": [],
   "source": []
  }
 ],
 "metadata": {
  "kernelspec": {
   "display_name": "Python 3 (ipykernel)",
   "language": "python",
   "name": "python3"
  },
  "language_info": {
   "codemirror_mode": {
    "name": "ipython",
    "version": 3
   },
   "file_extension": ".py",
   "mimetype": "text/x-python",
   "name": "python",
   "nbconvert_exporter": "python",
   "pygments_lexer": "ipython3",
   "version": "3.10.6"
  }
 },
 "nbformat": 4,
 "nbformat_minor": 5
}
