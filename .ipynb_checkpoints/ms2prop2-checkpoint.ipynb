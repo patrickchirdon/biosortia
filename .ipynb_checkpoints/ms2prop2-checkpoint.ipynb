{
 "cells": [
  {
   "cell_type": "code",
   "execution_count": 1,
   "metadata": {},
   "outputs": [],
   "source": [
    "import pandas as pd\n",
    "import matplotlib.pyplot as plt\n",
    "import numpy as np\n"
   ]
  },
  {
   "cell_type": "code",
   "execution_count": 2,
   "metadata": {},
   "outputs": [],
   "source": [
    "from sklearn import linear_model, metrics"
   ]
  },
  {
   "cell_type": "code",
   "execution_count": 3,
   "metadata": {},
   "outputs": [
    {
     "name": "stderr",
     "output_type": "stream",
     "text": [
      "/opt/anaconda3/lib/python3.7/site-packages/IPython/core/interactiveshell.py:3326: DtypeWarning: Columns (13) have mixed types.Specify dtype option on import or set low_memory=False.\n",
      "  exec(code_obj, self.user_global_ns, self.user_ns)\n"
     ]
    },
    {
     "name": "stdout",
     "output_type": "stream",
     "text": [
      "                                                        smiles       mz  \\\n",
      "CC(C)CC1NC(=O)C(C)NC(=O)C(=C)N(C)C(=O)CCC(NC(=O...  289.286377  981.162   \n",
      "NaN                                                 295.545288  981.162   \n",
      "NaN                                                 298.489624  981.162   \n",
      "NaN                                                 317.324951  981.162   \n",
      "NaN                                                 319.655945  981.162   \n",
      "...                                                        ...      ...   \n",
      "NaN                                                 998.175903  786.689   \n",
      "NaN                                                 998.381592  786.689   \n",
      "NaN                                                 998.490723  786.689   \n",
      "NaN                                                 998.799988  786.689   \n",
      "NaN                                                 999.381165  786.689   \n",
      "\n",
      "                                                         mw  alogp   hba  \\\n",
      "CC(C)CC1NC(=O)C(C)NC(=O)C(=C)N(C)C(=O)CCC(NC(=O...  0.17397     14  12.0   \n",
      "NaN                                                 0.17397     14  12.0   \n",
      "NaN                                                 0.17397     14  12.0   \n",
      "NaN                                                 0.17397     14  12.0   \n",
      "NaN                                                 0.17397     14  12.0   \n",
      "...                                                     ...    ...   ...   \n",
      "NaN                                                -3.17780     21  12.0   \n",
      "NaN                                                -3.17780     21  12.0   \n",
      "NaN                                                -3.17780     21  12.0   \n",
      "NaN                                                -3.17780     21  12.0   \n",
      "NaN                                                -3.17780     21  12.0   \n",
      "\n",
      "                                                       hbd  psa  rotb  arom  \\\n",
      "CC(C)CC1NC(=O)C(C)NC(=O)C(=C)N(C)C(=O)CCC(NC(=O...  351.64   14     1     5   \n",
      "NaN                                                 351.64   14     1     5   \n",
      "NaN                                                 351.64   14     1     5   \n",
      "NaN                                                 351.64   14     1     5   \n",
      "NaN                                                 351.64   14     1     5   \n",
      "...                                                    ...  ...   ...   ...   \n",
      "NaN                                                 337.58    9     3     0   \n",
      "NaN                                                 337.58    9     3     0   \n",
      "NaN                                                 337.58    9     3     0   \n",
      "NaN                                                 337.58    9     3     0   \n",
      "NaN                                                 337.58    9     3     0   \n",
      "\n",
      "                                                      alerts   qed  fCSP3  \\\n",
      "CC(C)CC1NC(=O)C(C)NC(=O)C(=C)N(C)C(=O)CCC(NC(=O...  0.038917  0.54  -0.06   \n",
      "NaN                                                 0.038917  0.54  -0.06   \n",
      "NaN                                                 0.038917  0.54  -0.06   \n",
      "NaN                                                 0.038917  0.54  -0.06   \n",
      "NaN                                                 0.038917  0.54  -0.06   \n",
      "...                                                      ...   ...    ...   \n",
      "NaN                                                 0.101712  0.56  -2.20   \n",
      "NaN                                                 0.101712  0.56  -2.20   \n",
      "NaN                                                 0.101712  0.56  -2.20   \n",
      "NaN                                                 0.101712  0.56  -2.20   \n",
      "NaN                                                 0.101712  0.56  -2.20   \n",
      "\n",
      "                                                       logPow  solubility  \\\n",
      "CC(C)CC1NC(=O)C(C)NC(=O)C(=C)N(C)C(=O)CCC(NC(=O...  4.44e-04         0.11   \n",
      "NaN                                                 4.44e-04         0.11   \n",
      "NaN                                                 4.44e-04         0.11   \n",
      "NaN                                                 4.44e-04         0.11   \n",
      "NaN                                                 4.44e-04         0.11   \n",
      "...                                                       ...         ...   \n",
      "NaN                                                     0.726        0.17   \n",
      "NaN                                                     0.726        0.17   \n",
      "NaN                                                     0.726        0.17   \n",
      "NaN                                                     0.726        0.17   \n",
      "NaN                                                     0.726        0.17   \n",
      "\n",
      "                                                    bioavailability  \n",
      "CC(C)CC1NC(=O)C(C)NC(=O)C(=C)N(C)C(=O)CCC(NC(=O...              NaN  \n",
      "NaN                                                             NaN  \n",
      "NaN                                                             NaN  \n",
      "NaN                                                             NaN  \n",
      "NaN                                                             NaN  \n",
      "...                                                             ...  \n",
      "NaN                                                             NaN  \n",
      "NaN                                                             NaN  \n",
      "NaN                                                             NaN  \n",
      "NaN                                                             NaN  \n",
      "NaN                                                             NaN  \n",
      "\n",
      "[997818 rows x 15 columns]\n",
      "0    7.314999\n",
      "dtype: float64\n",
      "0    60.593207\n",
      "dtype: float64\n"
     ]
    }
   ],
   "source": [
    "import decimal\n",
    "from decimal import Decimal\n",
    "import math\n",
    "import random\n",
    "import numpy as np\n",
    "import matplotlib.pyplot as plt\n",
    "from sklearn import linear_model\n",
    "from sklearn.metrics import mean_squared_error, r2_score\n",
    "from sklearn.kernel_ridge import KernelRidge\n",
    "import pandas as pd\n",
    "from sklearn.preprocessing import LabelEncoder\n",
    "from sklearn.model_selection import train_test_split\n",
    "from sklearn import preprocessing\n",
    "np.set_printoptions(suppress=True)\n",
    "mydf=pd.read_csv('GNPStrainqed',  sep='\\t')\n",
    "mydf.columns=['smiles','mz','mw','alogp','hba','hbd', 'psa', 'rotb', 'arom', 'alerts', 'qed', 'fCSP3', 'logPow', 'solubility', 'bioavailability']\n",
    "\n",
    "#mydf.columns=['molecule number', 'FDA approved name', 'mz', 'smiles', 'mw', 'alogp', 'hba', 'hbd', 'psa', 'rotb', 'arom', 'alerts', 'qed', 'fraction sp3 hybridized carbons']\n",
    "\n",
    "# Initialize lists and set random seed\n",
    "print(mydf)\n",
    "list_x = mydf['mz']\n",
    "\n",
    "list_x=list_x.astype(float)\n",
    "list_x=list_x.to_numpy().reshape(-1,1)\n",
    "list_y = mydf['mw'].to_numpy().reshape(-1,1)\n",
    "list_x_pred = []\n",
    "list_y_real = []\n",
    "\n",
    "np.set_printoptions(precision = 3, suppress = True)\n",
    "\n",
    "list_y = np.nan_to_num(list_y)\n",
    "\n",
    "list_x = np.nan_to_num(list_x)\n",
    "\n",
    "        \n",
    "list_y=pd.DataFrame(list_y)\n",
    "list_y.to_csv('myyvalues.csv')\n",
    "print(list_y.mean())\n",
    "print(list_y.std())\n",
    "list_ymean=list_y.mean()\n",
    "list_ystd=list_y.std()"
   ]
  },
  {
   "cell_type": "code",
   "execution_count": 4,
   "metadata": {
    "scrolled": true
   },
   "outputs": [],
   "source": [
    "import numpy as np\n",
    "from sklearn.kernel_ridge import KernelRidge\n",
    "from sklearn.model_selection import GridSearchCV\n",
    "import matplotlib.pyplot as plt\n"
   ]
  },
  {
   "cell_type": "code",
   "execution_count": 5,
   "metadata": {},
   "outputs": [
    {
     "name": "stderr",
     "output_type": "stream",
     "text": [
      "/opt/anaconda3/lib/python3.7/site-packages/numpy/core/function_base.py:277: RuntimeWarning: overflow encountered in power\n",
      "  return _nx.power(base, y)\n",
      "/opt/anaconda3/lib/python3.7/site-packages/sklearn/metrics/pairwise.py:1176: RuntimeWarning: invalid value encountered in multiply\n",
      "  K *= -gamma\n",
      "/opt/anaconda3/lib/python3.7/site-packages/sklearn/metrics/pairwise.py:1176: RuntimeWarning: invalid value encountered in multiply\n",
      "  K *= -gamma\n",
      "/opt/anaconda3/lib/python3.7/site-packages/sklearn/metrics/pairwise.py:1176: RuntimeWarning: invalid value encountered in multiply\n",
      "  K *= -gamma\n",
      "/opt/anaconda3/lib/python3.7/site-packages/sklearn/metrics/pairwise.py:1176: RuntimeWarning: invalid value encountered in multiply\n",
      "  K *= -gamma\n",
      "/opt/anaconda3/lib/python3.7/site-packages/sklearn/metrics/pairwise.py:1176: RuntimeWarning: invalid value encountered in multiply\n",
      "  K *= -gamma\n",
      "/opt/anaconda3/lib/python3.7/site-packages/sklearn/model_selection/_validation.py:372: FitFailedWarning: \n",
      "5 fits failed out of a total of 10.\n",
      "The score on these train-test partitions for these parameters will be set to nan.\n",
      "If these failures are not expected, you can try to debug them by setting error_score='raise'.\n",
      "\n",
      "Below are more details about the failures:\n",
      "--------------------------------------------------------------------------------\n",
      "5 fits failed with the following error:\n",
      "Traceback (most recent call last):\n",
      "  File \"/opt/anaconda3/lib/python3.7/site-packages/sklearn/model_selection/_validation.py\", line 680, in _fit_and_score\n",
      "    estimator.fit(X_train, y_train, **fit_params)\n",
      "  File \"/opt/anaconda3/lib/python3.7/site-packages/sklearn/kernel_ridge.py\", line 206, in fit\n",
      "    self.dual_coef_ = _solve_cholesky_kernel(K, y, alpha, sample_weight, copy)\n",
      "  File \"/opt/anaconda3/lib/python3.7/site-packages/sklearn/linear_model/_ridge.py\", line 194, in _solve_cholesky_kernel\n",
      "    dual_coef = linalg.solve(K, y, sym_pos=True, overwrite_a=False)\n",
      "  File \"/opt/anaconda3/lib/python3.7/site-packages/scipy/linalg/basic.py\", line 139, in solve\n",
      "    a1 = atleast_2d(_asarray_validated(a, check_finite=check_finite))\n",
      "  File \"/opt/anaconda3/lib/python3.7/site-packages/scipy/_lib/_util.py\", line 246, in _asarray_validated\n",
      "    a = toarray(a)\n",
      "  File \"/opt/anaconda3/lib/python3.7/site-packages/numpy/lib/function_base.py\", line 489, in asarray_chkfinite\n",
      "    \"array must not contain infs or NaNs\")\n",
      "ValueError: array must not contain infs or NaNs\n",
      "\n",
      "  warnings.warn(some_fits_failed_message, FitFailedWarning)\n",
      "/opt/anaconda3/lib/python3.7/site-packages/sklearn/model_selection/_search.py:972: UserWarning: One or more of the test scores are non-finite: [-1.213e+31        nan]\n",
      "  category=UserWarning,\n",
      "/opt/anaconda3/lib/python3.7/site-packages/ipykernel_launcher.py:10: RuntimeWarning: divide by zero encountered in double_scalars\n",
      "  # Remove the CWD from sys.path while we load stuff.\n"
     ]
    },
    {
     "name": "stdout",
     "output_type": "stream",
     "text": [
      "Best gamma from CV:  {'gamma': 0.0}\n",
      "Length scale = inf\n"
     ]
    },
    {
     "data": {
      "text/plain": [
       "-0.014229530215855712"
      ]
     },
     "execution_count": 5,
     "metadata": {},
     "output_type": "execute_result"
    }
   ],
   "source": [
    "# ####################\n",
    "# Fit regression model\n",
    "train_size = 100 # Change here to try different amounts of data\n",
    "krr = GridSearchCV(KernelRidge(kernel='rbf',alpha=100),\n",
    "                  param_grid={\"gamma\": np.logspace(-400, 400, 2)})\n",
    "\n",
    "krr.fit(list_x[:train_size], list_y[:train_size])\n",
    "\n",
    "print('Best gamma from CV: ',krr.best_params_)\n",
    "print('Length scale =',1/np.sqrt(2*krr.best_params_['gamma']))\n",
    "krr.score(list_x, list_y )"
   ]
  },
  {
   "cell_type": "code",
   "execution_count": 6,
   "metadata": {},
   "outputs": [],
   "source": [
    "from sklearn.datasets import make_regression\n",
    "from matplotlib import pyplot as plt\n",
    "import numpy as np\n",
    "from sklearn.linear_model import Ridge\n",
    "\n",
    "\n",
    "X_plot = np.linspace(0, 10, 1000)[:, None]\n",
    "scaler = preprocessing.StandardScaler()\n",
    "list_x = scaler.fit_transform(list_x)\n",
    "list_y = scaler.fit_transform(list_y)\n"
   ]
  },
  {
   "cell_type": "code",
   "execution_count": 7,
   "metadata": {},
   "outputs": [],
   "source": [
    "xtrain, xtest, ytrain, ytest=train_test_split(list_x, list_y, test_size=0.15)"
   ]
  },
  {
   "cell_type": "code",
   "execution_count": 8,
   "metadata": {},
   "outputs": [],
   "source": [
    "import numpy as np\n",
    "import pandas as pd\n",
    "\n",
    "# For chapter 4\n",
    "from sklearn.model_selection import train_test_split\n",
    "from sklearn.preprocessing import StandardScaler\n",
    "\n",
    "# For chapter 5\n",
    "from sklearn.linear_model import SGDClassifier\n",
    "import matplotlib.pyplot as plt\n",
    "import time\n",
    "\n",
    "# For chapter 6\n",
    "from sklearn.metrics import accuracy_score\n",
    "from sklearn.model_selection import GridSearchCV\n",
    "\n"
   ]
  },
  {
   "cell_type": "code",
   "execution_count": 9,
   "metadata": {},
   "outputs": [
    {
     "data": {
      "text/plain": [
       "array([[-0.018],\n",
       "       [-0.119],\n",
       "       [-0.148],\n",
       "       ...,\n",
       "       [-0.018],\n",
       "       [-0.018],\n",
       "       [-0.137]])"
      ]
     },
     "execution_count": 9,
     "metadata": {},
     "output_type": "execute_result"
    }
   ],
   "source": [
    "scaler = StandardScaler()\n",
    "scaler.fit(xtrain)\n",
    "xtrain = scaler.transform(xtrain)\n",
    "xtest = scaler.transform(xtest)\n",
    "\n",
    "trainX, testX, trainY, testY = train_test_split(xtrain, ytrain, test_size = 0.2)\n",
    "testY"
   ]
  },
  {
   "cell_type": "code",
   "execution_count": 10,
   "metadata": {},
   "outputs": [],
   "source": [
    "scaler = StandardScaler()\n",
    "scaler.fit(trainX)\n",
    "trainX = scaler.transform(trainX)\n",
    "testX = scaler.transform(testX)\n"
   ]
  },
  {
   "cell_type": "code",
   "execution_count": 11,
   "metadata": {},
   "outputs": [],
   "source": [
    "import numpy as np # linear algebra\n",
    "import pandas as pd # data processing, CSV file I/O (e.g. pd.read_csv)\n",
    "\n",
    "from sklearn.linear_model import SGDRegressor\n",
    "from sklearn.model_selection import train_test_split, GridSearchCV\n",
    "from sklearn.preprocessing import StandardScaler\n"
   ]
  },
  {
   "cell_type": "code",
   "execution_count": 12,
   "metadata": {},
   "outputs": [
    {
     "name": "stderr",
     "output_type": "stream",
     "text": [
      "/opt/anaconda3/lib/python3.7/site-packages/statsmodels/tools/_testing.py:19: FutureWarning: pandas.util.testing is deprecated. Use the functions in the public API at pandas.testing instead.\n",
      "  import pandas.util.testing as tm\n"
     ]
    }
   ],
   "source": [
    "import numpy as np\n",
    "import pandas as pd\n",
    "\n",
    "import matplotlib.pyplot as plt\n",
    "import seaborn as sns\n",
    "\n",
    "from sklearn.model_selection import train_test_split, cross_val_score\n",
    "from sklearn.preprocessing import StandardScaler\n",
    "\n",
    "from sklearn import linear_model\n",
    "from sklearn.model_selection import GridSearchCV, RandomizedSearchCV\n",
    "\n",
    "import warnings"
   ]
  },
  {
   "cell_type": "code",
   "execution_count": 13,
   "metadata": {},
   "outputs": [],
   "source": [
    "warnings.filterwarnings('ignore')"
   ]
  },
  {
   "cell_type": "code",
   "execution_count": 14,
   "metadata": {},
   "outputs": [],
   "source": [
    "\n",
    "\n",
    "%matplotlib inline\n",
    "\n",
    "plt.rcParams['figure.figsize'] = [20.0, 7.0]\n",
    "plt.rcParams.update({'font.size': 22,})\n",
    "\n",
    "sns.set_palette('viridis')\n",
    "sns.set_style('white')\n",
    "sns.set_context('talk', font_scale=0.8)\n",
    " \n"
   ]
  },
  {
   "cell_type": "code",
   "execution_count": 15,
   "metadata": {},
   "outputs": [
    {
     "name": "stdout",
     "output_type": "stream",
     "text": [
      "0.018548077201728796\n",
      "0.0176609265916704\n"
     ]
    }
   ],
   "source": [
    "X_plot = np.linspace(0, 10, 1000)[:, None]\n",
    "scaler = preprocessing.StandardScaler()\n",
    "list_x = scaler.fit_transform(list_x)\n",
    "list_y = np.nan_to_num(list_y)\n",
    "\n",
    "list_x = np.nan_to_num(list_x)\n",
    "\n",
    "list_y=np.asarray(list_y)\n",
    "\n",
    "list_y=list_y.reshape(1, -1)\n",
    "list_y = scaler.fit_transform(list_y)\n",
    "list_y\n",
    "n_samples, n_features = 1, 5\n",
    "#krr = KernelRidge(alpha=5)\n",
    "#krr.fit(list_x, list_y)\n",
    "#predy=krr.predict(list_x)\n",
    "#krr.score(list_y, predy )\n",
    "ridge = linear_model.Ridge(alpha=.1)\n",
    "lasso = linear_model.Lasso(alpha=.1, normalize=True, max_iter = 100000)\n",
    "\n",
    "# ####################\n",
    "# Fit regression model\n",
    "from sklearn.linear_model import LassoCV\n",
    "\n",
    "#Lasso Cross validation\n",
    "lasso_cv = LassoCV(alphas = [0.0001, 0.001,0.01, 0.1, 1, 10], random_state=0).fit(trainX, trainY)\n",
    "\n",
    "\n",
    "#score\n",
    "print(lasso_cv.score(trainX, trainY))\n",
    "print(lasso_cv.score(testX, testY))\n",
    "\n",
    "\n",
    "elastic = linear_model.ElasticNet()\n",
    "lasso_lars = linear_model.LassoLars()\n",
    "bayesian_ridge = linear_model.BayesianRidge()\n",
    "logistic = linear_model.LogisticRegression(solver='liblinear')\n",
    "sgd = linear_model.SGDRegressor()\n",
    "\n",
    "models = [ridge, lasso, elastic, lasso_lars, bayesian_ridge, logistic, sgd]\n",
    "\n"
   ]
  },
  {
   "cell_type": "code",
   "execution_count": null,
   "metadata": {},
   "outputs": [],
   "source": [
    "trainX.reshape(1, -1)\n",
    "trainY.reshape(1,-1)\n",
    "ridge.fit(trainX, trainY)\n",
    "lasso.fit(trainX, trainY)\n",
    "elastic.fit(trainX, trainY)\n",
    "lasso_lars.fit(trainX, trainY)\n",
    "bayesian_ridge.fit(trainX, trainY)\n",
    "sgd.fit(trainX,trainY)"
   ]
  },
  {
   "cell_type": "code",
   "execution_count": 17,
   "metadata": {},
   "outputs": [],
   "source": [
    "ypredridge=ridge.predict(testX)\n",
    "ypredlasso=lasso.predict(testX)\n",
    "ypredelastic=elastic.predict(testX)\n",
    "ypredlassolars = lasso_lars.predict(testX)\n",
    "ypredbayesian=bayesian_ridge.predict(testX)\n",
    "sgdpredict=sgd.predict(testX)"
   ]
  },
  {
   "cell_type": "code",
   "execution_count": 18,
   "metadata": {},
   "outputs": [
    {
     "name": "stdout",
     "output_type": "stream",
     "text": [
      "R-squared: -78717.15241745675\n"
     ]
    }
   ],
   "source": [
    "testY[~np.isfinite(testY)] = 0\n",
    "ypredridge[~np.isfinite(ypredridge)] = 0\n",
    "\n",
    "sgdscore = sgd.score(testY, ypredridge)\n",
    "print(\"R-squared:\", sgdscore)"
   ]
  },
  {
   "cell_type": "code",
   "execution_count": 19,
   "metadata": {},
   "outputs": [
    {
     "name": "stdout",
     "output_type": "stream",
     "text": [
      "R-squared: -0.5085776008971465\n"
     ]
    }
   ],
   "source": [
    "\n",
    "score = bayesian_ridge.score(testY, ypredridge)\n",
    "print(\"R-squared:\", score)"
   ]
  },
  {
   "cell_type": "code",
   "execution_count": 20,
   "metadata": {},
   "outputs": [
    {
     "data": {
      "text/plain": [
       "<function sklearn.metrics.regression.mean_squared_error(y_true, y_pred, sample_weight=None, multioutput='uniform_average')>"
      ]
     },
     "execution_count": 20,
     "metadata": {},
     "output_type": "execute_result"
    }
   ],
   "source": [
    "yx=lasso_lars.score(testY, ypredlassolars)\n",
    "\n",
    "from sklearn.metrics import mean_squared_error\n",
    "\n",
    "mean_squared_error(testY, ypredlassolars)\n",
    "\n",
    "#z = (x - u) / s\n",
    "#where u is mean and s is standard dev\n",
    "#x=  375.801398\n",
    "\n",
    "#std is    151.243536\n",
    "mean_squared_error\n"
   ]
  },
  {
   "cell_type": "code",
   "execution_count": 21,
   "metadata": {},
   "outputs": [
    {
     "data": {
      "text/plain": [
       "1.0"
      ]
     },
     "execution_count": 21,
     "metadata": {},
     "output_type": "execute_result"
    }
   ],
   "source": [
    "elastic.score(testY, ypredelastic)"
   ]
  },
  {
   "cell_type": "code",
   "execution_count": 22,
   "metadata": {},
   "outputs": [
    {
     "data": {
      "text/plain": [
       "1.0"
      ]
     },
     "execution_count": 22,
     "metadata": {},
     "output_type": "execute_result"
    }
   ],
   "source": [
    "lasso.score(testY, ypredlasso)\n",
    "\n"
   ]
  },
  {
   "cell_type": "code",
   "execution_count": 23,
   "metadata": {},
   "outputs": [
    {
     "data": {
      "text/plain": [
       "-1.0539762536948305"
      ]
     },
     "execution_count": 23,
     "metadata": {},
     "output_type": "execute_result"
    }
   ],
   "source": [
    "ridge.score(testY, ypredridge)"
   ]
  },
  {
   "cell_type": "code",
   "execution_count": 24,
   "metadata": {},
   "outputs": [
    {
     "data": {
      "text/plain": [
       "array([[ 0.557],\n",
       "       [-0.613],\n",
       "       [-0.702],\n",
       "       ...,\n",
       "       [ 1.566],\n",
       "       [-0.625],\n",
       "       [-0.398]])"
      ]
     },
     "execution_count": 24,
     "metadata": {},
     "output_type": "execute_result"
    }
   ],
   "source": [
    "trainX"
   ]
  },
  {
   "cell_type": "code",
   "execution_count": 25,
   "metadata": {},
   "outputs": [
    {
     "data": {
      "text/plain": [
       "array([[-0.118],\n",
       "       [ 0.11 ],\n",
       "       [-0.152],\n",
       "       ...,\n",
       "       [-0.152],\n",
       "       [ 0.169],\n",
       "       [ 0.097]])"
      ]
     },
     "execution_count": 25,
     "metadata": {},
     "output_type": "execute_result"
    }
   ],
   "source": [
    "testY"
   ]
  },
  {
   "cell_type": "code",
   "execution_count": 26,
   "metadata": {},
   "outputs": [
    {
     "name": "stdout",
     "output_type": "stream",
     "text": [
      "Predicted values  [0.001 0.001 0.001 0.001 0.001 0.001 0.001 0.001 0.001 0.001]\n"
     ]
    }
   ],
   "source": [
    "ypred=lasso.predict(testX)\n",
    "\n",
    "#z = (x - u) / s\n",
    "#where u is mean and s is standard dev\n",
    "\n",
    "\n",
    "print( \"Predicted values \", np.round( ypred[:10], 10 ) ) \n",
    "\n"
   ]
  },
  {
   "cell_type": "code",
   "execution_count": 27,
   "metadata": {},
   "outputs": [
    {
     "name": "stdout",
     "output_type": "stream",
     "text": [
      "          Actual  Predicted\n",
      "0      -0.118151   0.000587\n",
      "1       0.109685   0.000587\n",
      "2      -0.151905   0.000587\n",
      "3       0.109685   0.000587\n",
      "4      -0.151905   0.000587\n",
      "...          ...        ...\n",
      "169624  0.109685   0.000587\n",
      "169625 -0.151905   0.000587\n",
      "169626 -0.151905   0.000587\n",
      "169627  0.168754   0.000587\n",
      "169628  0.097028   0.000587\n",
      "\n",
      "[169629 rows x 2 columns]\n"
     ]
    }
   ],
   "source": [
    "df_preds = pd.DataFrame({'Actual': testY.squeeze(), 'Predicted': ypred.squeeze()})\n",
    "print(df_preds)"
   ]
  },
  {
   "cell_type": "code",
   "execution_count": 28,
   "metadata": {},
   "outputs": [
    {
     "name": "stdout",
     "output_type": "stream",
     "text": [
      "Mean absolute error: 0.14411576756629\n",
      "Mean squared error: 1.06070248675736\n",
      "Root mean squared error: 1.02990\n"
     ]
    }
   ],
   "source": [
    "from sklearn.metrics import mean_absolute_error, mean_squared_error\n",
    "import numpy as np\n",
    "mae = mean_absolute_error(testY, ypred)\n",
    "mse = mean_squared_error(testY, ypred)\n",
    "rmse = np.sqrt(mse)\n",
    "print(f'Mean absolute error: {mae:.14f}')\n",
    "print(f'Mean squared error: {mse:.14f}')\n",
    "print(f'Root mean squared error: {rmse:.5f}')"
   ]
  },
  {
   "cell_type": "code",
   "execution_count": 652,
   "metadata": {},
   "outputs": [
    {
     "name": "stdout",
     "output_type": "stream",
     "text": [
      "          mz       qed\n",
      "0   161.2000  0.167133\n",
      "1   162.1000  0.167133\n",
      "2   163.4000  0.167133\n",
      "3   186.1000  0.167133\n",
      "4   203.0000  0.167133\n",
      "5   205.5000  0.167133\n",
      "6   233.4000  0.167133\n",
      "7   234.4000  0.167133\n",
      "8   235.4000  0.167133\n",
      "9   243.2000  0.167133\n",
      "10  280.5000  0.167133\n",
      "11  323.8000  0.167133\n",
      "12  324.7000  0.167133\n",
      "13  351.5000  0.167133\n",
      "14  365.5000  0.167133\n",
      "15  449.4000  0.167133\n",
      "16  467.3000  0.167133\n",
      "17  484.6000  0.167133\n",
      "18  138.0913  0.167133\n",
      "\n"
     ]
    }
   ],
   "source": [
    "mydf=pd.read_csv('compound210',  sep='\\t')\n",
    "mydf.columns=['mz','qed']\n",
    "#mydf.columns=['molecule number', 'FDA approved name', 'mz', 'smiles', 'mw', 'alogp', 'hba', 'hbd', 'psa', 'rotb', 'arom', 'alerts', 'qed', 'fraction sp3 hybridized carbons']\n",
    "\n",
    "# Initialize lists and set random seed\n",
    "print(mydf)\n",
    "list_x = mydf['mz']\n",
    "\n",
    "list_x=list_x.astype(float)\n",
    "list_x=list_x.to_numpy().reshape(-1,1)\n",
    "list_y = mydf['qed'].to_numpy().reshape(-1,1)\n",
    "list_x_pred = []\n",
    "list_y_real = []\n",
    "\n",
    "np.set_printoptions(precision = 5, suppress = True)\n",
    "\n",
    "list_ya = np.nan_to_num(list_y)\n",
    "\n",
    "list_xa = np.nan_to_num(list_x)\n",
    "\n",
    "        \n",
    "list_y=pd.DataFrame(list_y)\n",
    "\n",
    "ymean=list_y.mean()\n",
    "ystd=list_y.std()\n",
    "print()"
   ]
  },
  {
   "cell_type": "code",
   "execution_count": 653,
   "metadata": {},
   "outputs": [],
   "source": [
    "\n",
    "scaler = preprocessing.StandardScaler()\n",
    "list_x = scaler.fit_transform(list_x)\n",
    "list_y = scaler.fit_transform(list_ya)\n"
   ]
  },
  {
   "cell_type": "code",
   "execution_count": 654,
   "metadata": {},
   "outputs": [
    {
     "data": {
      "text/plain": [
       "array([0.16713, 0.16713, 0.16713, 0.16713, 0.16713, 0.16713, 0.16713,\n",
       "       0.16713, 0.16713, 0.16713, 0.16713, 0.16713, 0.16713, 0.16713,\n",
       "       0.16713, 0.16713, 0.16713, 0.16713, 0.16713])"
      ]
     },
     "execution_count": 654,
     "metadata": {},
     "output_type": "execute_result"
    }
   ],
   "source": [
    "#ypredridge=ridge.predict(testX)\n",
    "ypredlasso=lasso.predict(list_x)\n",
    "\n",
    "\n",
    "yhat = scaler.inverse_transform(ypredlasso)\n",
    "yhat\n"
   ]
  },
  {
   "cell_type": "code",
   "execution_count": 488,
   "metadata": {},
   "outputs": [
    {
     "data": {
      "text/plain": [
       "array([0.00059, 0.00059])"
      ]
     },
     "execution_count": 488,
     "metadata": {},
     "output_type": "execute_result"
    }
   ],
   "source": [
    "ypredlasso"
   ]
  },
  {
   "cell_type": "code",
   "execution_count": 684,
   "metadata": {},
   "outputs": [
    {
     "name": "stdout",
     "output_type": "stream",
     "text": [
      "     Actual  Predicted\n",
      "0  2.645751   0.000029\n",
      "1 -0.377964   0.000029\n",
      "2 -0.377964   0.000029\n",
      "3 -0.377964   0.000029\n",
      "4 -0.377964   0.000029\n",
      "5 -0.377964   0.000029\n",
      "6 -0.377964   0.000029\n",
      "7 -0.377964   0.000029\n"
     ]
    }
   ],
   "source": [
    "df_preds = pd.DataFrame({'Actual': list_y.squeeze(), 'Predicted': ypredlasso.squeeze()})\n",
    "print(df_preds)"
   ]
  },
  {
   "cell_type": "code",
   "execution_count": 685,
   "metadata": {},
   "outputs": [
    {
     "name": "stdout",
     "output_type": "stream",
     "text": [
      "0    9.07025\n",
      "dtype: float64\n"
     ]
    }
   ],
   "source": [
    "#z = (x - u) / s\n",
    "#where u is mean and s is standard dev\n",
    "myval=ypredlasso[0] * list_ystd + list_ymean\n",
    "\n",
    "print(myval)\n"
   ]
  },
  {
   "cell_type": "code",
   "execution_count": null,
   "metadata": {},
   "outputs": [],
   "source": []
  },
  {
   "cell_type": "code",
   "execution_count": 1238,
   "metadata": {},
   "outputs": [
    {
     "data": {
      "text/plain": [
       "0.149406"
      ]
     },
     "execution_count": 1238,
     "metadata": {},
     "output_type": "execute_result"
    }
   ],
   "source": [
    "\n",
    "\n",
    ".000815 * 5.681747e-17 + 0.149406"
   ]
  },
  {
   "cell_type": "code",
   "execution_count": 1239,
   "metadata": {},
   "outputs": [
    {
     "data": {
      "text/plain": [
       "0.9999999999999999"
      ]
     },
     "execution_count": 1239,
     "metadata": {},
     "output_type": "execute_result"
    }
   ],
   "source": [
    "list_y.std()"
   ]
  },
  {
   "cell_type": "code",
   "execution_count": 751,
   "metadata": {},
   "outputs": [
    {
     "ename": "AttributeError",
     "evalue": "'numpy.ndarray' object has no attribute 'columns'",
     "output_type": "error",
     "traceback": [
      "\u001b[0;31m---------------------------------------------------------------------------\u001b[0m",
      "\u001b[0;31mAttributeError\u001b[0m                            Traceback (most recent call last)",
      "\u001b[0;32m<ipython-input-751-03f5ba03f126>\u001b[0m in \u001b[0;36m<module>\u001b[0;34m\u001b[0m\n\u001b[0;32m----> 1\u001b[0;31m \u001b[0mlist_y\u001b[0m\u001b[0;34m.\u001b[0m\u001b[0mcolumns\u001b[0m\u001b[0;34m=\u001b[0m\u001b[0;34m[\u001b[0m\u001b[0;34m'qed'\u001b[0m\u001b[0;34m]\u001b[0m\u001b[0;34m\u001b[0m\u001b[0;34m\u001b[0m\u001b[0m\n\u001b[0m",
      "\u001b[0;31mAttributeError\u001b[0m: 'numpy.ndarray' object has no attribute 'columns'"
     ]
    }
   ],
   "source": [
    "list_y.columns=['qed']"
   ]
  },
  {
   "cell_type": "code",
   "execution_count": 752,
   "metadata": {},
   "outputs": [
    {
     "ename": "IndexError",
     "evalue": "only integers, slices (`:`), ellipsis (`...`), numpy.newaxis (`None`) and integer or boolean arrays are valid indices",
     "output_type": "error",
     "traceback": [
      "\u001b[0;31m---------------------------------------------------------------------------\u001b[0m",
      "\u001b[0;31mIndexError\u001b[0m                                Traceback (most recent call last)",
      "\u001b[0;32m<ipython-input-752-806faa27e082>\u001b[0m in \u001b[0;36m<module>\u001b[0;34m\u001b[0m\n\u001b[0;32m----> 1\u001b[0;31m \u001b[0mlist_y\u001b[0m\u001b[0;34m[\u001b[0m\u001b[0;34m'qed'\u001b[0m\u001b[0;34m]\u001b[0m\u001b[0;34m\u001b[0m\u001b[0;34m\u001b[0m\u001b[0m\n\u001b[0m",
      "\u001b[0;31mIndexError\u001b[0m: only integers, slices (`:`), ellipsis (`...`), numpy.newaxis (`None`) and integer or boolean arrays are valid indices"
     ]
    }
   ],
   "source": [
    "list_y['qed']"
   ]
  },
  {
   "cell_type": "code",
   "execution_count": 31,
   "metadata": {},
   "outputs": [
    {
     "ename": "IndexError",
     "evalue": "only integers, slices (`:`), ellipsis (`...`), numpy.newaxis (`None`) and integer or boolean arrays are valid indices",
     "output_type": "error",
     "traceback": [
      "\u001b[0;31m---------------------------------------------------------------------------\u001b[0m",
      "\u001b[0;31mIndexError\u001b[0m                                Traceback (most recent call last)",
      "\u001b[0;32m<ipython-input-31-eeb036471090>\u001b[0m in \u001b[0;36m<module>\u001b[0;34m\u001b[0m\n\u001b[0;32m----> 1\u001b[0;31m \u001b[0mprint\u001b[0m\u001b[0;34m(\u001b[0m\u001b[0;34m\"std of arr : \"\u001b[0m\u001b[0;34m,\u001b[0m \u001b[0mnp\u001b[0m\u001b[0;34m.\u001b[0m\u001b[0mstd\u001b[0m\u001b[0;34m(\u001b[0m\u001b[0mlist_y\u001b[0m\u001b[0;34m[\u001b[0m\u001b[0;34m'qed'\u001b[0m\u001b[0;34m]\u001b[0m\u001b[0;34m)\u001b[0m\u001b[0;34m)\u001b[0m\u001b[0;34m\u001b[0m\u001b[0;34m\u001b[0m\u001b[0m\n\u001b[0m\u001b[1;32m      2\u001b[0m \u001b[0;34m\u001b[0m\u001b[0m\n",
      "\u001b[0;31mIndexError\u001b[0m: only integers, slices (`:`), ellipsis (`...`), numpy.newaxis (`None`) and integer or boolean arrays are valid indices"
     ]
    }
   ],
   "source": [
    "print(\"std of arr : \", np.std(list_y['qed']))\n",
    "  "
   ]
  },
  {
   "cell_type": "code",
   "execution_count": 1407,
   "metadata": {},
   "outputs": [],
   "source": [
    "mydf=pd.read_csv('GNPStrainqed',  sep='\\t')"
   ]
  },
  {
   "cell_type": "code",
   "execution_count": 990,
   "metadata": {},
   "outputs": [
    {
     "data": {
      "text/plain": [
       "array([[-0.15228],\n",
       "       [-0.52012],\n",
       "       [ 1.9812 ],\n",
       "       ...,\n",
       "       [-0.44655],\n",
       "       [-0.00514],\n",
       "       [ 1.09838]])"
      ]
     },
     "execution_count": 990,
     "metadata": {},
     "output_type": "execute_result"
    }
   ],
   "source": [
    "testY"
   ]
  },
  {
   "cell_type": "code",
   "execution_count": null,
   "metadata": {},
   "outputs": [],
   "source": []
  }
 ],
 "metadata": {
  "kernelspec": {
   "display_name": "Python 3",
   "language": "python",
   "name": "python3"
  },
  "language_info": {
   "codemirror_mode": {
    "name": "ipython",
    "version": 3
   },
   "file_extension": ".py",
   "mimetype": "text/x-python",
   "name": "python",
   "nbconvert_exporter": "python",
   "pygments_lexer": "ipython3",
   "version": "3.7.4"
  }
 },
 "nbformat": 4,
 "nbformat_minor": 5
}
